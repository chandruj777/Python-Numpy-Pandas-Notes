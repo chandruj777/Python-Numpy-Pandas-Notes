{
 "cells": [
  {
   "cell_type": "code",
   "execution_count": null,
   "metadata": {},
   "outputs": [],
   "source": [
    "#why i=3,4,5 is not printed?in while loop with break stmts"
   ]
  },
  {
   "cell_type": "code",
   "execution_count": null,
   "metadata": {},
   "outputs": [],
   "source": [
    "#Answers for IC-2\n",
    "#2)\tPython program to print  1 st  ten positive even integers using range function.\n",
    "# for i in range(1,21,2):(2,21,2)\n",
    "#     print(i)\n",
    "# for i in range(5,51,5):\n",
    "\n",
    "# for i in range(-1,-6,-1):\n",
    "\n",
    "#python program to print multiples of odd numbers in a tuple.\n",
    "\n",
    "# mytuple=(3,6,1,5,7)\n",
    "# mul1=1\n",
    "# for i in mytuple:\n",
    "#     if i%2==1:\n",
    "#         mul1=mul1*i\n",
    "# print(mul1)    \n",
    "\n",
    "# import math\n",
    "# print(int(math.pi))\n",
    "\n",
    "\n",
    "\n"
   ]
  },
  {
   "cell_type": "code",
   "execution_count": 1,
   "metadata": {
    "scrolled": true
   },
   "outputs": [
    {
     "data": {
      "text/plain": [
       "[1, 1.67]"
      ]
     },
     "execution_count": 1,
     "metadata": {},
     "output_type": "execute_result"
    }
   ],
   "source": []
  },
  {
   "cell_type": "code",
   "execution_count": 2,
   "metadata": {},
   "outputs": [
    {
     "data": {
      "text/plain": [
       "[1, 1.67]"
      ]
     },
     "execution_count": 2,
     "metadata": {},
     "output_type": "execute_result"
    }
   ],
   "source": []
  },
  {
   "cell_type": "code",
   "execution_count": 1,
   "metadata": {},
   "outputs": [],
   "source": [
    "#fraud transaction:some one steals/takes my credit card details and buys a product in amazon.\n",
    "#he baught a laptop of 70k.but that is my money.\n",
    "#1.transaction amount is 5k.ml model will predict if it is fraud or not?\n",
    "#2.amount transactioned is 20k.ml model will predict if it is fraud or not?"
   ]
  },
  {
   "cell_type": "code",
   "execution_count": 2,
   "metadata": {},
   "outputs": [],
   "source": [
    "#inside fun definition i can use input fun to get values\n",
    "#def udf(x):\n",
    "#       num1=int(input(\"enter val 1\"))\n",
    "###33"
   ]
  },
  {
   "cell_type": "code",
   "execution_count": 5,
   "metadata": {},
   "outputs": [
    {
     "name": "stdout",
     "output_type": "stream",
     "text": [
      "The Vowels Are:   ['e', 'o']\n"
     ]
    }
   ],
   "source": [
    "#Python Program to Find Vowels From a String\n",
    "#defining a function\n",
    "\n",
    "def get_vowels(String):\n",
    "    return [each for each in String if each in \"aeiou\"]\n",
    "get_string1 = \"hello\" # ['e', 'o']\n",
    "get_string2 = \"python is fun\" # ['o', 'i', 'u']\n",
    "get_string3 = \"coding compiler\" # ['o', 'i', 'o', 'i', 'e']\n",
    "get_string4 = \"12345xyz\" # []\n",
    "\n",
    "\n",
    "#Let's print vowels from the given strigns\n",
    "#Vowels from first string\n",
    "print(\"The Vowels Are:  \",get_vowels(get_string1))\n"
   ]
  }
 ],
 "metadata": {
  "kernelspec": {
   "display_name": "Python 3",
   "language": "python",
   "name": "python3"
  },
  "language_info": {
   "codemirror_mode": {
    "name": "ipython",
    "version": 3
   },
   "file_extension": ".py",
   "mimetype": "text/x-python",
   "name": "python",
   "nbconvert_exporter": "python",
   "pygments_lexer": "ipython3",
   "version": "3.8.5"
  }
 },
 "nbformat": 4,
 "nbformat_minor": 4
}
