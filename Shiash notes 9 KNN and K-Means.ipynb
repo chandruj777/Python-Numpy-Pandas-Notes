{
 "cells": [
  {
   "cell_type": "code",
   "execution_count": 1,
   "metadata": {},
   "outputs": [],
   "source": [
    "import pandas as pd \n",
    "import numpy as np\n",
    "# import subpackage of Matplotlib\n",
    "import matplotlib.pyplot as plt\n",
    "import seaborn as sns\n",
    "from sklearn.metrics import silhouette_score, silhouette_samples\n",
    "from sklearn.cluster import KMeans\n",
    "# from sklearn.preprocessing import StandardScaler\n",
    "from sklearn.model_selection import train_test_split"
   ]
  },
  {
   "cell_type": "code",
   "execution_count": 2,
   "metadata": {},
   "outputs": [],
   "source": [
    "from sklearn.neighbors import KNeighborsClassifier "
   ]
  },
  {
   "cell_type": "code",
   "execution_count": 3,
   "metadata": {},
   "outputs": [
    {
     "data": {
      "text/html": [
       "<div>\n",
       "<style scoped>\n",
       "    .dataframe tbody tr th:only-of-type {\n",
       "        vertical-align: middle;\n",
       "    }\n",
       "\n",
       "    .dataframe tbody tr th {\n",
       "        vertical-align: top;\n",
       "    }\n",
       "\n",
       "    .dataframe thead th {\n",
       "        text-align: right;\n",
       "    }\n",
       "</style>\n",
       "<table border=\"1\" class=\"dataframe\">\n",
       "  <thead>\n",
       "    <tr style=\"text-align: right;\">\n",
       "      <th></th>\n",
       "      <th>Cust_Number</th>\n",
       "      <th>Yearly_Income</th>\n",
       "      <th>Age</th>\n",
       "      <th>Cust_Spend_Score</th>\n",
       "      <th>Sex</th>\n",
       "    </tr>\n",
       "  </thead>\n",
       "  <tbody>\n",
       "    <tr>\n",
       "      <th>0</th>\n",
       "      <td>CUSTID1</td>\n",
       "      <td>15000</td>\n",
       "      <td>18</td>\n",
       "      <td>44</td>\n",
       "      <td>0</td>\n",
       "    </tr>\n",
       "    <tr>\n",
       "      <th>1</th>\n",
       "      <td>CUSTID2</td>\n",
       "      <td>15000</td>\n",
       "      <td>18</td>\n",
       "      <td>79</td>\n",
       "      <td>0</td>\n",
       "    </tr>\n",
       "    <tr>\n",
       "      <th>2</th>\n",
       "      <td>CUSTID3</td>\n",
       "      <td>16000</td>\n",
       "      <td>23</td>\n",
       "      <td>8</td>\n",
       "      <td>1</td>\n",
       "    </tr>\n",
       "    <tr>\n",
       "      <th>3</th>\n",
       "      <td>CUSTID4</td>\n",
       "      <td>16000</td>\n",
       "      <td>25</td>\n",
       "      <td>79</td>\n",
       "      <td>1</td>\n",
       "    </tr>\n",
       "    <tr>\n",
       "      <th>4</th>\n",
       "      <td>CUSTID5</td>\n",
       "      <td>17000</td>\n",
       "      <td>32</td>\n",
       "      <td>41</td>\n",
       "      <td>1</td>\n",
       "    </tr>\n",
       "  </tbody>\n",
       "</table>\n",
       "</div>"
      ],
      "text/plain": [
       "  Cust_Number  Yearly_Income  Age  Cust_Spend_Score  Sex\n",
       "0     CUSTID1          15000   18                44    0\n",
       "1     CUSTID2          15000   18                79    0\n",
       "2     CUSTID3          16000   23                 8    1\n",
       "3     CUSTID4          16000   25                79    1\n",
       "4     CUSTID5          17000   32                41    1"
      ]
     },
     "execution_count": 3,
     "metadata": {},
     "output_type": "execute_result"
    }
   ],
   "source": [
    "df=pd.read_csv('C:/Users/USER/Desktop/datasets/customer_knn.csv')\n",
    "df.head(5)  "
   ]
  },
  {
   "cell_type": "code",
   "execution_count": null,
   "metadata": {},
   "outputs": [],
   "source": [
    "#inp record"
   ]
  },
  {
   "cell_type": "code",
   "execution_count": null,
   "metadata": {},
   "outputs": [],
   "source": [
    "#this dataset gives me details about yearly income,age and spendscore for male and female.\n"
   ]
  },
  {
   "cell_type": "code",
   "execution_count": 20,
   "metadata": {},
   "outputs": [
    {
     "data": {
      "text/plain": [
       "(200, 5)"
      ]
     },
     "execution_count": 20,
     "metadata": {},
     "output_type": "execute_result"
    }
   ],
   "source": [
    "df.shape"
   ]
  },
  {
   "cell_type": "code",
   "execution_count": 21,
   "metadata": {
    "scrolled": true
   },
   "outputs": [
    {
     "data": {
      "text/plain": [
       "Cust_Number         object\n",
       "Yearly_Income        int64\n",
       "Age                  int64\n",
       "Cust_Spend_Score     int64\n",
       "Sex                  int64\n",
       "dtype: object"
      ]
     },
     "execution_count": 21,
     "metadata": {},
     "output_type": "execute_result"
    }
   ],
   "source": [
    "df.dtypes"
   ]
  },
  {
   "cell_type": "code",
   "execution_count": null,
   "metadata": {},
   "outputs": [],
   "source": [
    "#Step1:Prepare a raw clean dataframe df to plot the correlation plot.\n",
    "#Things to do:1)change sex dtype 2)remove cust_number 3) do null value treatment"
   ]
  },
  {
   "cell_type": "code",
   "execution_count": null,
   "metadata": {},
   "outputs": [],
   "source": []
  },
  {
   "cell_type": "code",
   "execution_count": 20,
   "metadata": {
    "scrolled": true
   },
   "outputs": [
    {
     "data": {
      "text/plain": [
       "Cust_Number         0\n",
       "Yearly_Income       0\n",
       "Age                 0\n",
       "Cust_Spend_Score    0\n",
       "Sex                 0\n",
       "dtype: int64"
      ]
     },
     "execution_count": 20,
     "metadata": {},
     "output_type": "execute_result"
    }
   ],
   "source": [
    "df.isnull().sum()"
   ]
  },
  {
   "cell_type": "code",
   "execution_count": 22,
   "metadata": {
    "scrolled": true
   },
   "outputs": [],
   "source": [
    "df['Sex']=df['Sex'].astype(dtype='object')\n",
    "#Cast a pandas object to a specified dtype ``dtype`` means change the dtype of a col in a df to specified dtype."
   ]
  },
  {
   "cell_type": "code",
   "execution_count": 35,
   "metadata": {
    "scrolled": true
   },
   "outputs": [
    {
     "data": {
      "text/plain": [
       "Yearly_Income        int64\n",
       "Age                  int64\n",
       "Cust_Spend_Score     int64\n",
       "Sex                 object\n",
       "dtype: object"
      ]
     },
     "execution_count": 35,
     "metadata": {},
     "output_type": "execute_result"
    }
   ],
   "source": [
    "df.dtypes"
   ]
  },
  {
   "cell_type": "code",
   "execution_count": null,
   "metadata": {},
   "outputs": [],
   "source": []
  },
  {
   "cell_type": "code",
   "execution_count": 38,
   "metadata": {},
   "outputs": [],
   "source": [
    "#df.drop(columns=['Cust_Number'],inplace=True)"
   ]
  },
  {
   "cell_type": "code",
   "execution_count": 39,
   "metadata": {
    "scrolled": true
   },
   "outputs": [
    {
     "data": {
      "text/html": [
       "<div>\n",
       "<style scoped>\n",
       "    .dataframe tbody tr th:only-of-type {\n",
       "        vertical-align: middle;\n",
       "    }\n",
       "\n",
       "    .dataframe tbody tr th {\n",
       "        vertical-align: top;\n",
       "    }\n",
       "\n",
       "    .dataframe thead th {\n",
       "        text-align: right;\n",
       "    }\n",
       "</style>\n",
       "<table border=\"1\" class=\"dataframe\">\n",
       "  <thead>\n",
       "    <tr style=\"text-align: right;\">\n",
       "      <th></th>\n",
       "      <th>Yearly_Income</th>\n",
       "      <th>Age</th>\n",
       "      <th>Cust_Spend_Score</th>\n",
       "      <th>Sex</th>\n",
       "    </tr>\n",
       "  </thead>\n",
       "  <tbody>\n",
       "    <tr>\n",
       "      <th>0</th>\n",
       "      <td>15000</td>\n",
       "      <td>18</td>\n",
       "      <td>44</td>\n",
       "      <td>0</td>\n",
       "    </tr>\n",
       "    <tr>\n",
       "      <th>1</th>\n",
       "      <td>15000</td>\n",
       "      <td>18</td>\n",
       "      <td>79</td>\n",
       "      <td>0</td>\n",
       "    </tr>\n",
       "    <tr>\n",
       "      <th>2</th>\n",
       "      <td>16000</td>\n",
       "      <td>23</td>\n",
       "      <td>8</td>\n",
       "      <td>1</td>\n",
       "    </tr>\n",
       "  </tbody>\n",
       "</table>\n",
       "</div>"
      ],
      "text/plain": [
       "   Yearly_Income  Age  Cust_Spend_Score Sex\n",
       "0          15000   18                44   0\n",
       "1          15000   18                79   0\n",
       "2          16000   23                 8   1"
      ]
     },
     "execution_count": 39,
     "metadata": {},
     "output_type": "execute_result"
    }
   ],
   "source": [
    "df.head(3)"
   ]
  },
  {
   "cell_type": "code",
   "execution_count": 40,
   "metadata": {},
   "outputs": [],
   "source": [
    "df1=df.copy()"
   ]
  },
  {
   "cell_type": "code",
   "execution_count": 41,
   "metadata": {},
   "outputs": [],
   "source": [
    "df1_num=df1.loc[:,['Yearly_Income','Age','Cust_Spend_Score']]"
   ]
  },
  {
   "cell_type": "code",
   "execution_count": 43,
   "metadata": {
    "scrolled": false
   },
   "outputs": [
    {
     "data": {
      "text/html": [
       "<div>\n",
       "<style scoped>\n",
       "    .dataframe tbody tr th:only-of-type {\n",
       "        vertical-align: middle;\n",
       "    }\n",
       "\n",
       "    .dataframe tbody tr th {\n",
       "        vertical-align: top;\n",
       "    }\n",
       "\n",
       "    .dataframe thead th {\n",
       "        text-align: right;\n",
       "    }\n",
       "</style>\n",
       "<table border=\"1\" class=\"dataframe\">\n",
       "  <thead>\n",
       "    <tr style=\"text-align: right;\">\n",
       "      <th></th>\n",
       "      <th>Yearly_Income</th>\n",
       "      <th>Age</th>\n",
       "      <th>Cust_Spend_Score</th>\n",
       "    </tr>\n",
       "  </thead>\n",
       "  <tbody>\n",
       "    <tr>\n",
       "      <th>0</th>\n",
       "      <td>15000</td>\n",
       "      <td>18</td>\n",
       "      <td>44</td>\n",
       "    </tr>\n",
       "    <tr>\n",
       "      <th>1</th>\n",
       "      <td>15000</td>\n",
       "      <td>18</td>\n",
       "      <td>79</td>\n",
       "    </tr>\n",
       "  </tbody>\n",
       "</table>\n",
       "</div>"
      ],
      "text/plain": [
       "   Yearly_Income  Age  Cust_Spend_Score\n",
       "0          15000   18                44\n",
       "1          15000   18                79"
      ]
     },
     "execution_count": 43,
     "metadata": {},
     "output_type": "execute_result"
    }
   ],
   "source": [
    "df1_num.head(2)"
   ]
  },
  {
   "cell_type": "code",
   "execution_count": 75,
   "metadata": {},
   "outputs": [],
   "source": [
    "# for i in df1_num.Yearly_Income:\n",
    "#     print(type(i))\n",
    "#     if type(i)=='int':\n",
    "#         print(i)"
   ]
  },
  {
   "cell_type": "code",
   "execution_count": 19,
   "metadata": {},
   "outputs": [],
   "source": [
    "#df1_num.iloc[:,[0,1,2]]"
   ]
  },
  {
   "cell_type": "code",
   "execution_count": 27,
   "metadata": {},
   "outputs": [],
   "source": [
    "ss=StandardScaler()\n"
   ]
  },
  {
   "cell_type": "code",
   "execution_count": 28,
   "metadata": {},
   "outputs": [
    {
     "data": {
      "text/plain": [
       "array([[-1.73899919, -1.50106813, -0.28418148],\n",
       "       [-1.73899919, -1.50106813,  1.06356268],\n",
       "       [-1.70082976, -1.14528047, -1.67043263],\n",
       "       [-1.70082976, -1.00296541,  1.06356268],\n",
       "       [-1.66266033, -0.50486269, -0.39970241],\n",
       "       [-1.66266033, -1.00296541,  1.14057663],\n",
       "       [-1.62449091, -0.36254762, -1.67043263],\n",
       "       [-1.62449091, -0.93180788,  1.79519523],\n",
       "       [-1.58632148,  1.91449339, -1.93998146],\n",
       "       [-1.58632148, -0.43370516,  0.7169999 ],\n",
       "       [-1.58632148,  2.12796599, -1.36237682],\n",
       "       [-1.58632148, -0.36254762,  1.91071616],\n",
       "       [-1.54815205,  1.20291807, -1.20834891],\n",
       "       [-1.54815205, -1.28759554,  1.14057663],\n",
       "       [-1.54815205, -0.14907503, -1.47789774],\n",
       "       [-1.54815205, -1.35875307,  1.02505571],\n",
       "       [-1.50998262, -0.22023256, -0.66925125],\n",
       "       [-1.50998262, -1.50106813,  0.75550687],\n",
       "       [-1.43364376,  0.84713042, -0.86178613],\n",
       "       [-1.43364376, -0.43370516,  1.98773011],\n",
       "       [-1.39547433, -0.22023256, -0.51522334],\n",
       "       [-1.39547433, -1.21643801,  0.94804175],\n",
       "       [-1.3573049 ,  0.34902769, -1.67043263],\n",
       "       [-1.3573049 , -0.57602022,  1.02505571],\n",
       "       [-1.24279661,  0.84713042, -1.47789774],\n",
       "       [-1.24279661, -0.71833528,  1.33311151],\n",
       "       [-1.24279661,  0.42018523, -0.70775822],\n",
       "       [-1.24279661, -0.43370516,  0.37043711],\n",
       "       [-1.20462718,  0.20671263, -0.78477217],\n",
       "       [-1.20462718, -1.21643801,  1.37161849],\n",
       "       [-1.16645776,  1.55870573, -1.67043263],\n",
       "       [-1.16645776, -1.21643801,  0.90953478],\n",
       "       [-1.05194947,  0.98944548, -1.90147448],\n",
       "       [-1.05194947, -1.35875307,  1.64116732],\n",
       "       [-1.05194947,  0.91828795, -1.32386984],\n",
       "       [-1.05194947, -1.07412294,  1.06356268],\n",
       "       [-1.01378004,  0.06439757, -1.32386984],\n",
       "       [-1.01378004, -0.64717775,  0.75550687],\n",
       "       [-0.89927175, -0.0779175 , -1.01581403],\n",
       "       [-0.89927175, -1.50106813,  0.8710278 ],\n",
       "       [-0.86110232,  1.84333586, -0.59223729],\n",
       "       [-0.86110232, -1.28759554,  1.56415337],\n",
       "       [-0.82293289,  0.77597288, -0.63074427],\n",
       "       [-0.82293289, -0.64717775,  0.48595804],\n",
       "       [-0.82293289,  0.91828795, -0.7462652 ],\n",
       "       [-0.82293289, -0.86065035,  0.44745106],\n",
       "       [-0.78476346,  0.77597288,  0.17790223],\n",
       "       [-0.78476346, -0.78949282, -0.05313963],\n",
       "       [-0.78476346, -0.64717775, -0.32268846],\n",
       "       [-0.78476346, -0.78949282, -0.43820939],\n",
       "       [-0.70842461,  0.77597288,  0.13939525],\n",
       "       [-0.70842461, -0.29139009,  0.33193013],\n",
       "       [-0.67025518, -0.57602022,  0.21640921],\n",
       "       [-0.67025518,  1.62986327,  0.33193013],\n",
       "       [-0.67025518,  0.63365782, -0.32268846],\n",
       "       [-0.67025518,  0.63365782, -0.24567451],\n",
       "       [-0.63208575,  0.84713042, -0.05313963],\n",
       "       [-0.63208575,  2.34143858, -0.24567451],\n",
       "       [-0.55574689, -0.64717775,  0.10088828],\n",
       "       [-0.55574689,  1.13176054, -0.13015358],\n",
       "       [-0.55574689,  2.41259612,  0.21640921],\n",
       "       [-0.55574689, -1.35875307,  0.21640921],\n",
       "       [-0.51757746,  1.77217833, -0.01463265],\n",
       "       [-0.51757746,  1.13176054,  0.33193013],\n",
       "       [-0.47940803,  1.7010208 , -0.0916466 ],\n",
       "       [-0.47940803, -1.57222566,  0.21640921],\n",
       "       [-0.47940803,  0.34902769, -0.13015358],\n",
       "       [-0.47940803,  2.12796599, -0.16866056],\n",
       "       [-0.47940803, -1.21643801,  0.33193013],\n",
       "       [-0.47940803, -0.29139009, -0.01463265],\n",
       "       [-0.4412386 ,  2.34143858,  0.0623813 ],\n",
       "       [-0.4412386 ,  0.49134276, -0.32268846],\n",
       "       [-0.40306917,  1.62986327, -0.16866056],\n",
       "       [-0.40306917,  1.55870573,  0.33193013],\n",
       "       [-0.25039146,  1.62986327, -0.13015358],\n",
       "       [-0.25039146, -0.78949282,  0.13939525],\n",
       "       [-0.25039146,  0.63365782, -0.01463265],\n",
       "       [-0.25039146,  0.06439757, -0.16866056],\n",
       "       [-0.25039146, -1.00296541, -0.05313963],\n",
       "       [-0.25039146,  0.56250029, -0.36119544],\n",
       "       [-0.25039146,  1.41639067,  0.10088828],\n",
       "       [-0.25039146, -0.14907503,  0.33193013],\n",
       "       [-0.25039146,  2.19912352, -0.20716753],\n",
       "       [-0.25039146,  0.34902769, -0.16866056],\n",
       "       [-0.25039146, -1.28759554,  0.13939525],\n",
       "       [-0.25039146,  0.56250029, -0.05313963],\n",
       "       [-0.13588317,  1.27407561,  0.21640921],\n",
       "       [-0.13588317, -1.07412294,  0.17790223],\n",
       "       [-0.09771374, -0.57602022,  0.52446502],\n",
       "       [-0.09771374,  0.84713042, -0.16866056],\n",
       "       [-0.05954431,  1.98565092,  0.17790223],\n",
       "       [-0.05954431, -1.50106813, -0.47671636],\n",
       "       [-0.02137488,  0.70481535,  0.10088828],\n",
       "       [-0.02137488, -0.14907503, -0.39970241],\n",
       "       [-0.02137488, -0.71833528, -0.16866056],\n",
       "       [-0.02137488, -1.07412294,  0.17790223],\n",
       "       [-0.02137488,  0.34902769, -0.0916466 ],\n",
       "       [-0.02137488, -0.71833528, -0.13015358],\n",
       "       [ 0.01679455,  0.49134276, -0.16866056],\n",
       "       [ 0.01679455, -1.21643801, -0.01463265],\n",
       "       [ 0.05496398, -1.14528047, -0.47671636],\n",
       "       [ 0.05496398,  0.91828795, -0.20716753],\n",
       "       [ 0.05496398,  1.98565092,  0.21640921],\n",
       "       [ 0.05496398, -0.71833528,  0.10088828],\n",
       "       [ 0.05496398,  0.91828795,  0.17790223],\n",
       "       [ 0.05496398, -1.21643801, -0.28418148],\n",
       "       [ 0.09313341,  1.98565092,  0.02387433],\n",
       "       [ 0.09313341,  1.20291807, -0.24567451],\n",
       "       [ 0.09313341,  2.12796599, -0.20716753],\n",
       "       [ 0.09313341,  1.84333586, -0.05313963],\n",
       "       [ 0.09313341,  1.77217833,  0.02387433],\n",
       "       [ 0.09313341, -1.21643801,  0.02387433],\n",
       "       [ 0.13130284, -0.00675997, -0.20716753],\n",
       "       [ 0.13130284, -1.4299106 , -0.0916466 ],\n",
       "       [ 0.16947227, -1.28759554,  0.02387433],\n",
       "       [ 0.16947227, -1.28759554,  0.02387433],\n",
       "       [ 0.16947227,  1.77217833, -0.32268846],\n",
       "       [ 0.16947227,  0.63365782,  0.37043711],\n",
       "       [ 0.24581112,  0.84713042, -0.16866056],\n",
       "       [ 0.24581112,  0.98944548,  0.21640921],\n",
       "       [ 0.24581112, -0.64717775,  0.33193013],\n",
       "       [ 0.24581112, -0.14907503, -0.47671636],\n",
       "       [ 0.32214998,  0.06439757,  0.40894409],\n",
       "       [ 0.32214998, -0.22023256,  1.5256464 ],\n",
       "       [ 0.36031941, -1.28759554, -0.93880008],\n",
       "       [ 0.36031941, -0.36254762,  0.90953478],\n",
       "       [ 0.39848884,  0.06439757, -0.70775822],\n",
       "       [ 0.39848884,  0.20671263,  1.71818128],\n",
       "       [ 0.39848884,  1.41639067, -1.51640472],\n",
       "       [ 0.39848884, -0.00675997,  1.02505571],\n",
       "       [ 0.39848884,  0.49134276, -1.7089396 ],\n",
       "       [ 0.39848884,  0.06439757,  0.98654873],\n",
       "       [ 0.43665827, -0.78949282, -0.7462652 ],\n",
       "       [ 0.43665827, -0.50486269,  0.79401385],\n",
       "       [ 0.4748277 , -1.14528047, -1.7089396 ],\n",
       "       [ 0.4748277 , -0.78949282,  1.41012547],\n",
       "       [ 0.4748277 ,  0.27787016, -1.74744658],\n",
       "       [ 0.4748277 , -0.64717775,  0.83252082],\n",
       "       [ 0.51299713, -1.21643801, -1.47789774],\n",
       "       [ 0.51299713, -0.22023256,  0.98654873],\n",
       "       [ 0.55116656,  1.06060301, -1.86296751],\n",
       "       [ 0.55116656, -0.36254762,  1.75668825],\n",
       "       [ 0.58933599, -0.93180788, -0.28418148],\n",
       "       [ 0.58933599, -0.36254762,  1.44863244],\n",
       "       [ 0.62750542, -1.07412294, -1.51640472],\n",
       "       [ 0.62750542, -0.78949282,  1.94922313],\n",
       "       [ 0.62750542,  0.42018523, -0.51522334],\n",
       "       [ 0.62750542, -0.71833528,  0.98654873],\n",
       "       [ 0.66567484, -0.43370516, -1.20834891],\n",
       "       [ 0.66567484, -0.29139009,  1.64116732],\n",
       "       [ 0.66567484,  0.42018523, -1.40088379],\n",
       "       [ 0.66567484, -0.00675997,  1.41012547],\n",
       "       [ 0.66567484,  0.34902769, -1.05432101],\n",
       "       [ 0.66567484, -0.14907503,  0.98654873],\n",
       "       [ 0.66567484,  0.77597288, -1.40088379],\n",
       "       [ 0.66567484, -0.71833528,  1.41012547],\n",
       "       [ 0.66567484, -0.00675997, -1.74744658],\n",
       "       [ 0.66567484, -0.86065035,  1.10206966],\n",
       "       [ 0.66567484, -0.43370516, -1.93998146],\n",
       "       [ 0.66567484, -0.43370516,  0.75550687],\n",
       "       [ 0.70384427,  1.13176054, -0.66925125],\n",
       "       [ 0.70384427, -0.86065035,  1.14057663],\n",
       "       [ 0.78018313, -1.28759554, -1.59341867],\n",
       "       [ 0.78018313, -0.43370516,  1.71818128],\n",
       "       [ 0.93286085,  0.56250029, -0.97730705],\n",
       "       [ 0.93286085, -0.00675997,  0.83252082],\n",
       "       [ 0.97103028,  0.20671263, -1.16984194],\n",
       "       [ 0.97103028, -0.22023256,  1.6796743 ],\n",
       "       [ 1.00919971, -0.14907503, -0.93880008],\n",
       "       [ 1.00919971, -0.64717775,  0.48595804],\n",
       "       [ 1.00919971,  0.20671263, -1.51640472],\n",
       "       [ 1.00919971, -0.93180788,  0.90953478],\n",
       "       [ 1.00919971, -0.22023256, -1.43939077],\n",
       "       [ 1.00919971, -0.00675997,  1.6796743 ],\n",
       "       [ 1.04736914,  1.06060301, -1.51640472],\n",
       "       [ 1.04736914, -0.86065035,  1.37161849],\n",
       "       [ 1.04736914,  1.20291807, -1.36237682],\n",
       "       [ 1.04736914, -0.86065035,  0.79401385],\n",
       "       [ 1.23821628,  1.34523314, -1.47789774],\n",
       "       [ 1.23821628, -0.43370516,  1.64116732],\n",
       "       [ 1.390894  , -0.36254762, -0.59223729],\n",
       "       [ 1.390894  , -0.50486269,  1.33311151],\n",
       "       [ 1.42906343,  0.34902769, -1.28536286],\n",
       "       [ 1.42906343, -0.93180788,  1.60266035],\n",
       "       [ 1.46723286,  0.1355551 , -0.55373032],\n",
       "       [ 1.46723286, -0.71833528,  1.6796743 ],\n",
       "       [ 1.54357172,  0.91828795, -0.9002931 ],\n",
       "       [ 1.54357172, -0.78949282,  0.56297199],\n",
       "       [ 1.61991057,  0.06439757, -1.13133496],\n",
       "       [ 1.61991057, -0.14907503,  1.48713942],\n",
       "       [ 1.61991057, -0.22023256, -1.09282798],\n",
       "       [ 1.61991057, -0.50486269,  0.67849292],\n",
       "       [ 2.00160487, -0.57602022, -1.51640472],\n",
       "       [ 2.00160487, -0.29139009,  1.64116732],\n",
       "       [ 2.26879087,  0.63365782, -1.32386984],\n",
       "       [ 2.26879087, -0.22023256,  1.06356268],\n",
       "       [ 2.49780745,  0.49134276, -0.7462652 ],\n",
       "       [ 2.49780745, -0.71833528,  0.79401385],\n",
       "       [ 2.91767117, -0.50486269, -1.13133496],\n",
       "       [ 2.91767117, -0.78949282,  1.41012547]])"
      ]
     },
     "execution_count": 28,
     "metadata": {},
     "output_type": "execute_result"
    }
   ],
   "source": [
    "# ss.fit_transform(df1_num)# returns  a 2d array of scaled num values\n",
    "#fit_transform fun transforms the x df.transforms means scaling\n",
    "#X : array-like of shape (n_samples, n_features) means a df only because df has rows \n",
    "#and columns"
   ]
  },
  {
   "cell_type": "code",
   "execution_count": 1,
   "metadata": {
    "scrolled": false
   },
   "outputs": [],
   "source": [
    "# df1_num1=pd.DataFrame(data=ss.fit_transform(df1_num),columns=df1_num.columns)\n",
    "# df1_num1.head(3)"
   ]
  },
  {
   "cell_type": "code",
   "execution_count": 45,
   "metadata": {},
   "outputs": [],
   "source": [
    "from sklearn.model_selection import train_test_split"
   ]
  },
  {
   "cell_type": "code",
   "execution_count": 32,
   "metadata": {},
   "outputs": [],
   "source": [
    "#y=y.astype('int')"
   ]
  },
  {
   "cell_type": "code",
   "execution_count": 46,
   "metadata": {},
   "outputs": [
    {
     "data": {
      "text/plain": [
       "dtype('O')"
      ]
     },
     "execution_count": 46,
     "metadata": {},
     "output_type": "execute_result"
    }
   ],
   "source": [
    "df1.Age.dtype\n",
    "df1.Sex.dtype"
   ]
  },
  {
   "cell_type": "code",
   "execution_count": 47,
   "metadata": {},
   "outputs": [],
   "source": [
    "df1.Sex=df1.Sex.astype('int64')"
   ]
  },
  {
   "cell_type": "code",
   "execution_count": 48,
   "metadata": {},
   "outputs": [],
   "source": [
    "x_train, x_test, y_train, y_test=\n",
    "train_test_split(df1_num1,df1.Sex,random_state=40,test_size=0.3)\n",
    "#y stratify "
   ]
  },
  {
   "cell_type": "code",
   "execution_count": 49,
   "metadata": {},
   "outputs": [
    {
     "data": {
      "text/plain": [
       "((140, 3), (60, 3), (140,), (60,))"
      ]
     },
     "execution_count": 49,
     "metadata": {},
     "output_type": "execute_result"
    }
   ],
   "source": [
    "x_train.shape,x_test.shape,y_train.shape,y_test.shape#dataset split .model must get trained on train data only."
   ]
  },
  {
   "cell_type": "code",
   "execution_count": null,
   "metadata": {},
   "outputs": [],
   "source": [
    "#when dtype of t.v was object,i was unable to perform tts.so i changed it to int.but generally never touch the t.v.(100%)"
   ]
  },
  {
   "cell_type": "code",
   "execution_count": null,
   "metadata": {},
   "outputs": [],
   "source": []
  },
  {
   "cell_type": "code",
   "execution_count": null,
   "metadata": {},
   "outputs": [],
   "source": [
    "#initializes an empty list called 'wcss"
   ]
  },
  {
   "cell_type": "code",
   "execution_count": 51,
   "metadata": {},
   "outputs": [
    {
     "data": {
      "text/plain": [
       "Yearly_Income       float64\n",
       "Age                 float64\n",
       "Cust_Spend_Score    float64\n",
       "dtype: object"
      ]
     },
     "execution_count": 51,
     "metadata": {},
     "output_type": "execute_result"
    }
   ],
   "source": [
    "df1_num1.dtypes#"
   ]
  },
  {
   "cell_type": "code",
   "execution_count": 6,
   "metadata": {
    "scrolled": true
   },
   "outputs": [],
   "source": [
    "\n",
    "# wcss  = []\n",
    "\n",
    "# # use for loop to perform K-means with different values of K\n",
    "# # append the value of WCSS for each K to the list 'wcss'\n",
    "# # the 'inertia_' retuns the WCSS for specific value of K\n",
    "# for i in range(1,7):\n",
    "#     print(i)\n",
    "#     k=KMeans(n_clusters=i,init='k-means++',random_state=10)\n",
    "#     k.fit_transform(df1_num1)\n",
    "#     wcss.append(k.inertia_)\n",
    "\n",
    "\n",
    "#everu=y time loop runs  from i=1 to 20,kmeans instance is printed.\n",
    "#We set init parameter to K-mens++ means we set initial centroids of clusters \"automatically\"\n",
    "#We set init to random means we set initial centroids of clusters \"randomly\""
   ]
  },
  {
   "cell_type": "code",
   "execution_count": null,
   "metadata": {},
   "outputs": [],
   "source": [
    "#I am initializing an empty wcss list.\n",
    "#kNN classifier identifies the class of a data point using the majority voting principle. \n",
    "#If k is set to 5, the classes of 5 nearest points are examined.\n",
    "#Prediction is done according to the predominant class.\n",
    "#Similarly, kNN regression takes the mean value of 5 nearest locations."
   ]
  },
  {
   "cell_type": "code",
   "execution_count": null,
   "metadata": {},
   "outputs": [],
   "source": []
  },
  {
   "cell_type": "code",
   "execution_count": 53,
   "metadata": {
    "scrolled": true
   },
   "outputs": [],
   "source": [
    "knn5 = KNeighborsClassifier(n_neighbors=5)\n",
    "# knn5.fit(x_train, y_train)"
   ]
  },
  {
   "cell_type": "code",
   "execution_count": null,
   "metadata": {},
   "outputs": [],
   "source": []
  },
  {
   "cell_type": "code",
   "execution_count": 58,
   "metadata": {},
   "outputs": [
    {
     "data": {
      "text/plain": [
       "0      0\n",
       "1      0\n",
       "2      1\n",
       "3      1\n",
       "4      1\n",
       "      ..\n",
       "195    1\n",
       "196    1\n",
       "197    0\n",
       "198    0\n",
       "199    0\n",
       "Name: Sex, Length: 200, dtype: object"
      ]
     },
     "execution_count": 58,
     "metadata": {},
     "output_type": "execute_result"
    }
   ],
   "source": [
    "df1.Sex"
   ]
  },
  {
   "cell_type": "code",
   "execution_count": null,
   "metadata": {},
   "outputs": [],
   "source": [
    "y=y.astype('int')"
   ]
  },
  {
   "cell_type": "code",
   "execution_count": 54,
   "metadata": {
    "scrolled": true
   },
   "outputs": [
    {
     "data": {
      "text/plain": [
       "KNeighborsClassifier()"
      ]
     },
     "execution_count": 54,
     "metadata": {},
     "output_type": "execute_result"
    }
   ],
   "source": [
    "knn5.fit(x_train,y_train)"
   ]
  },
  {
   "cell_type": "code",
   "execution_count": 55,
   "metadata": {},
   "outputs": [
    {
     "name": "stderr",
     "output_type": "stream",
     "text": [
      "C:\\Users\\USER\\anaconda\\lib\\site-packages\\sklearn\\base.py:441: UserWarning: X does not have valid feature names, but KNeighborsClassifier was fitted with feature names\n",
      "  warnings.warn(\n"
     ]
    }
   ],
   "source": [
    "y_pred = knn5.predict(x_train)\n"
   ]
  },
  {
   "cell_type": "code",
   "execution_count": 57,
   "metadata": {},
   "outputs": [],
   "source": [
    "from sklearn.metrics import confusion_matrix,accuracy_score"
   ]
  },
  {
   "cell_type": "code",
   "execution_count": 58,
   "metadata": {
    "scrolled": true
   },
   "outputs": [
    {
     "data": {
      "text/plain": [
       "array([[47, 22],\n",
       "       [15, 56]], dtype=int64)"
      ]
     },
     "execution_count": 58,
     "metadata": {},
     "output_type": "execute_result"
    }
   ],
   "source": [
    "confusion_matrix(y_train,y_pred)"
   ]
  },
  {
   "cell_type": "code",
   "execution_count": 59,
   "metadata": {},
   "outputs": [
    {
     "data": {
      "text/plain": [
       "0.7357142857142858"
      ]
     },
     "execution_count": 59,
     "metadata": {},
     "output_type": "execute_result"
    }
   ],
   "source": [
    "accuracy_score(y_train,y_pred)\n",
    "#accuracy of train data is 74%."
   ]
  },
  {
   "cell_type": "code",
   "execution_count": 60,
   "metadata": {},
   "outputs": [
    {
     "name": "stderr",
     "output_type": "stream",
     "text": [
      "C:\\Users\\USER\\anaconda\\lib\\site-packages\\sklearn\\base.py:441: UserWarning: X does not have valid feature names, but KNeighborsClassifier was fitted with feature names\n",
      "  warnings.warn(\n"
     ]
    }
   ],
   "source": [
    "y_pred_t = knn5.predict(x_test)"
   ]
  },
  {
   "cell_type": "code",
   "execution_count": 61,
   "metadata": {
    "scrolled": true
   },
   "outputs": [
    {
     "data": {
      "text/plain": [
       "array([[ 5, 14],\n",
       "       [15, 26]], dtype=int64)"
      ]
     },
     "execution_count": 61,
     "metadata": {},
     "output_type": "execute_result"
    }
   ],
   "source": [
    "\n",
    "confusion_matrix(y_test,y_pred_t)"
   ]
  },
  {
   "cell_type": "code",
   "execution_count": 62,
   "metadata": {},
   "outputs": [
    {
     "data": {
      "text/plain": [
       "0.5166666666666667"
      ]
     },
     "execution_count": 62,
     "metadata": {},
     "output_type": "execute_result"
    }
   ],
   "source": [
    "accuracy_score(y_test,y_pred_t)\n",
    "##accuracy of test data is 52%."
   ]
  },
  {
   "cell_type": "code",
   "execution_count": null,
   "metadata": {},
   "outputs": [],
   "source": [
    "\n"
   ]
  },
  {
   "cell_type": "code",
   "execution_count": 1,
   "metadata": {},
   "outputs": [],
   "source": []
  },
  {
   "cell_type": "code",
   "execution_count": 64,
   "metadata": {},
   "outputs": [],
   "source": [
    "#df[['Glucose','BloodPressure','SkinThickness','Insulin','BMI']].replace(0,np.NaN)\n",
    "#replace values in a column\n",
    "\n",
    "\n",
    "\n",
    "#If i do not perform scaling,it will give higher weightage to variables which have higher magnitude.Model performance will\n",
    "#be worst.\n",
    "\n",
    "#Cross Validation: When model is split into training and testing it can be possible that specific type of data point\n",
    "#may go entirely into either training or testing portion\n",
    "\n",
    "#Hence over-fitting and underfitting problems can be well avoided with cross validation techniques"
   ]
  },
  {
   "cell_type": "code",
   "execution_count": null,
   "metadata": {},
   "outputs": [],
   "source": []
  },
  {
   "cell_type": "code",
   "execution_count": null,
   "metadata": {},
   "outputs": [],
   "source": []
  },
  {
   "cell_type": "code",
   "execution_count": null,
   "metadata": {},
   "outputs": [],
   "source": []
  },
  {
   "cell_type": "code",
   "execution_count": null,
   "metadata": {},
   "outputs": [],
   "source": []
  },
  {
   "cell_type": "code",
   "execution_count": null,
   "metadata": {},
   "outputs": [],
   "source": []
  },
  {
   "cell_type": "code",
   "execution_count": null,
   "metadata": {},
   "outputs": [],
   "source": []
  },
  {
   "cell_type": "code",
   "execution_count": null,
   "metadata": {},
   "outputs": [],
   "source": [
    "#While building the kNN classifier model,we need to find the value  (k) that yields highest accuracy."
   ]
  },
  {
   "cell_type": "code",
   "execution_count": null,
   "metadata": {},
   "outputs": [],
   "source": [
    " \n",
    "#We need to Select the optimal value of k in kNN to get high accuracy.\n"
   ]
  },
  {
   "cell_type": "code",
   "execution_count": null,
   "metadata": {},
   "outputs": [],
   "source": [
    "# for col in df.columns:\n",
    "    \n",
    "#     print(df[col].value_counts())"
   ]
  },
  {
   "cell_type": "code",
   "execution_count": null,
   "metadata": {},
   "outputs": [],
   "source": [
    "#step1):Instansiate the model.(set parameters of the model)\n",
    "#step2):Train the model\n",
    "#step3):Model predicts the op \n",
    "#step4):calculate the accuracy of train and test data separately."
   ]
  },
  {
   "cell_type": "code",
   "execution_count": null,
   "metadata": {},
   "outputs": [],
   "source": []
  },
  {
   "cell_type": "code",
   "execution_count": null,
   "metadata": {},
   "outputs": [],
   "source": [
    "# KNN is a supervised learning algorithm mainly used for classification and regression problems, \n",
    "# whereas K-Means (aka K-means clustering) is an unsupervised learning algorithm."
   ]
  },
  {
   "cell_type": "code",
   "execution_count": null,
   "metadata": {},
   "outputs": [],
   "source": [
    "#K in K-Means refers to the number of clusters, whereas K in KNN is the number of nearest neighbors.\n",
    "\n"
   ]
  },
  {
   "cell_type": "code",
   "execution_count": null,
   "metadata": {},
   "outputs": [],
   "source": [
    "# There are few ways to determine the number of groups/clusters in a dataset prior to the K-means clustering,\n",
    "# and that are:\n",
    "# Elbow Method,\n",
    "# Silhouette Score,"
   ]
  },
  {
   "cell_type": "code",
   "execution_count": null,
   "metadata": {},
   "outputs": [],
   "source": [
    "#KNN algorithm stores (memorizes) the training dataset.. A common value for K is 5 in knn\n",
    "#algo."
   ]
  },
  {
   "cell_type": "code",
   "execution_count": null,
   "metadata": {},
   "outputs": [],
   "source": [
    "# #K-Means\n",
    "# K-Means (K-Means clustering)  that divide unlabeled data into different clusters (or groups). \n",
    "# K in K-means refers to the number of clusters/groups.say k=3 means 3 clusters \n",
    "#with data points will be formed.\n",
    "#a cluster is a group of similar observations/records"
   ]
  },
  {
   "cell_type": "code",
   "execution_count": null,
   "metadata": {},
   "outputs": [],
   "source": [
    "#Silhouette Score: A score between -1 and 1 measuring the similarity among points of a cluster and \n",
    "#comparing that with other clusters. A score of -1 indicates that a point is in the wrong cluster, \n",
    "#whereas a score of 1 indicates that the point is in the right cluster"
   ]
  },
  {
   "cell_type": "code",
   "execution_count": null,
   "metadata": {},
   "outputs": [],
   "source": [
    "#differences between k-means and k-nearest neighbors (k-NN) clustering."
   ]
  },
  {
   "cell_type": "code",
   "execution_count": null,
   "metadata": {},
   "outputs": [],
   "source": [
    "#k-means clustering is a form of unsupervised learning, which means that it does not require training data."
   ]
  },
  {
   "cell_type": "code",
   "execution_count": null,
   "metadata": {},
   "outputs": [],
   "source": [
    "# k-NN clustering, on the other hand, is a form of supervised learning, which means that it requires training data. "
   ]
  },
  {
   "cell_type": "code",
   "execution_count": null,
   "metadata": {},
   "outputs": [],
   "source": [
    "# #There are a few key differences between k-means and k-nearest neighbors (KNN) clustering. \n",
    "# K-means is a bottom-up approach where each observation is assigned to a cluster based on the mean value of the cluster.\n",
    "# KNN is a top-down approach where each observation is assigned to a cluster based on its similarity to other observations in the cluster.\n",
    "# K-means is also a more deterministic approach, while KNN is more probabilistic.\n",
    "# Finally, K-means is typically used for larger data sets, while KNN can be used for data sets of any size."
   ]
  },
  {
   "cell_type": "code",
   "execution_count": null,
   "metadata": {},
   "outputs": [],
   "source": []
  },
  {
   "cell_type": "code",
   "execution_count": null,
   "metadata": {},
   "outputs": [],
   "source": []
  },
  {
   "cell_type": "code",
   "execution_count": null,
   "metadata": {},
   "outputs": [],
   "source": []
  },
  {
   "cell_type": "code",
   "execution_count": null,
   "metadata": {},
   "outputs": [],
   "source": [
    "\n"
   ]
  },
  {
   "cell_type": "code",
   "execution_count": null,
   "metadata": {},
   "outputs": [],
   "source": [
    "#step1)Initial centroids are set up by the algorithm\n",
    "#step2)data points are grouped in clusters(groups)\n",
    "#step3:new centroids are set up by the algorithm \n",
    "#step4)data points are grouped in clusters\n",
    "#step5)finally,we have say 4 centroids with data points in 4 clusters."
   ]
  },
  {
   "cell_type": "code",
   "execution_count": null,
   "metadata": {},
   "outputs": [],
   "source": [
    "#Execute the codes of Kmeans model"
   ]
  },
  {
   "cell_type": "code",
   "execution_count": null,
   "metadata": {},
   "outputs": [],
   "source": []
  },
  {
   "cell_type": "code",
   "execution_count": null,
   "metadata": {},
   "outputs": [],
   "source": [
    "\n"
   ]
  },
  {
   "cell_type": "code",
   "execution_count": null,
   "metadata": {},
   "outputs": [],
   "source": [
    "#"
   ]
  },
  {
   "cell_type": "code",
   "execution_count": 1,
   "metadata": {},
   "outputs": [],
   "source": [
    "# Ensemble learning is means taking average op value of  multiple models.\n",
    "# (all models trained over the same data)\n",
    "#n_estimators — the number of decision trees you will be running in the model\n",
    "#max_depth- max depth of each tree\n",
    "#max_features — the maximum number of features the model will consider when determining a split\n",
    "#we will use grid search and cross validation to find a more optimal set of parameters."
   ]
  },
  {
   "cell_type": "code",
   "execution_count": null,
   "metadata": {},
   "outputs": [],
   "source": [
    "#rf = RandomForestRegressor(n_estimators = 300, max_features = 'sqrt', max_depth = 5, random_state = 18).fit(x_train, y_train)"
   ]
  },
  {
   "cell_type": "code",
   "execution_count": null,
   "metadata": {},
   "outputs": [],
   "source": [
    "#we take avg op of 300 d.t.\n",
    "#"
   ]
  },
  {
   "cell_type": "code",
   "execution_count": null,
   "metadata": {},
   "outputs": [],
   "source": [
    "#(100%) most commonly used metrics in classification problems are accuracy_score, \n",
    "#confusion_matrix and  classification_report"
   ]
  },
  {
   "cell_type": "code",
   "execution_count": null,
   "metadata": {},
   "outputs": [],
   "source": [
    "#########################################################################################################################"
   ]
  },
  {
   "cell_type": "code",
   "execution_count": null,
   "metadata": {},
   "outputs": [],
   "source": []
  },
  {
   "cell_type": "code",
   "execution_count": null,
   "metadata": {},
   "outputs": [],
   "source": []
  },
  {
   "cell_type": "code",
   "execution_count": null,
   "metadata": {},
   "outputs": [],
   "source": [
    "#Random Forest randomly selects observations for 10 training subsets.continue above points.\n",
    "#RF gives high accuracy than DT and ogistic regression models"
   ]
  },
  {
   "cell_type": "code",
   "execution_count": null,
   "metadata": {},
   "outputs": [],
   "source": [
    "#We have  a table which consists of details of marks of 5 students.\n",
    "Maths Science Result\n",
    "18    20      P\n",
    "11    5       F\n",
    "13    19      P\n",
    "6     4       F\n",
    "16    17      P"
   ]
  },
  {
   "cell_type": "code",
   "execution_count": null,
   "metadata": {},
   "outputs": [],
   "source": [
    "#Input vector is Maths=16 and Science = 3\n",
    "#test data point\n"
   ]
  },
  {
   "cell_type": "code",
   "execution_count": null,
   "metadata": {},
   "outputs": [],
   "source": [
    "np.sqrt((Xo-X1i)**2-(Xo-X2i)**2)\n"
   ]
  },
  {
   "cell_type": "code",
   "execution_count": 2,
   "metadata": {},
   "outputs": [
    {
     "data": {
      "text/plain": [
       "293"
      ]
     },
     "execution_count": 2,
     "metadata": {},
     "output_type": "execute_result"
    }
   ],
   "source": [
    "(16-18)**2+(3-20)**2"
   ]
  },
  {
   "cell_type": "code",
   "execution_count": 3,
   "metadata": {},
   "outputs": [],
   "source": [
    "import numpy as np"
   ]
  },
  {
   "cell_type": "code",
   "execution_count": 4,
   "metadata": {
    "scrolled": true
   },
   "outputs": [
    {
     "data": {
      "text/plain": [
       "17.11724276862369"
      ]
     },
     "execution_count": 4,
     "metadata": {},
     "output_type": "execute_result"
    }
   ],
   "source": [
    "np.sqrt(293)"
   ]
  },
  {
   "cell_type": "code",
   "execution_count": 5,
   "metadata": {},
   "outputs": [
    {
     "data": {
      "text/plain": [
       "29"
      ]
     },
     "execution_count": 5,
     "metadata": {},
     "output_type": "execute_result"
    }
   ],
   "source": [
    "(16-11)**2+(3-5)**2\n"
   ]
  },
  {
   "cell_type": "code",
   "execution_count": 6,
   "metadata": {},
   "outputs": [
    {
     "data": {
      "text/plain": [
       "5.385164807134504"
      ]
     },
     "execution_count": 6,
     "metadata": {},
     "output_type": "execute_result"
    }
   ],
   "source": [
    "np.sqrt(29)#F"
   ]
  },
  {
   "cell_type": "code",
   "execution_count": 7,
   "metadata": {
    "scrolled": true
   },
   "outputs": [
    {
     "data": {
      "text/plain": [
       "265"
      ]
     },
     "execution_count": 7,
     "metadata": {},
     "output_type": "execute_result"
    }
   ],
   "source": [
    "(16-13)**2+(3-19)**2"
   ]
  },
  {
   "cell_type": "code",
   "execution_count": 8,
   "metadata": {
    "scrolled": false
   },
   "outputs": [
    {
     "data": {
      "text/plain": [
       "16.278820596099706"
      ]
     },
     "execution_count": 8,
     "metadata": {},
     "output_type": "execute_result"
    }
   ],
   "source": [
    "np.sqrt(265)"
   ]
  },
  {
   "cell_type": "code",
   "execution_count": 9,
   "metadata": {},
   "outputs": [
    {
     "data": {
      "text/plain": [
       "101"
      ]
     },
     "execution_count": 9,
     "metadata": {},
     "output_type": "execute_result"
    }
   ],
   "source": [
    "(16-6)**2+(3-4)**2"
   ]
  },
  {
   "cell_type": "code",
   "execution_count": 10,
   "metadata": {},
   "outputs": [
    {
     "data": {
      "text/plain": [
       "10.04987562112089"
      ]
     },
     "execution_count": 10,
     "metadata": {},
     "output_type": "execute_result"
    }
   ],
   "source": [
    "np.sqrt(101)#F"
   ]
  },
  {
   "cell_type": "code",
   "execution_count": 11,
   "metadata": {},
   "outputs": [
    {
     "data": {
      "text/plain": [
       "196"
      ]
     },
     "execution_count": 11,
     "metadata": {},
     "output_type": "execute_result"
    }
   ],
   "source": [
    "(16-16)**2+(3-17)**2"
   ]
  },
  {
   "cell_type": "code",
   "execution_count": 12,
   "metadata": {},
   "outputs": [
    {
     "data": {
      "text/plain": [
       "14.0"
      ]
     },
     "execution_count": 12,
     "metadata": {},
     "output_type": "execute_result"
    }
   ],
   "source": [
    "np.sqrt(196)#P"
   ]
  },
  {
   "cell_type": "code",
   "execution_count": null,
   "metadata": {},
   "outputs": [],
   "source": [
    "#euclidian distance is calculated between  test data point and 5 dp individually."
   ]
  },
  {
   "cell_type": "code",
   "execution_count": null,
   "metadata": {},
   "outputs": [],
   "source": [
    "#5,10,14\n",
    "#when i set k=3,it is called 3 nearest neighbours\n",
    "#i take 3 lowest or nerestvalues.i consider their majority vote as op of the inp vector\n",
    "# 2F and 1 P.So the student who scored  Maths=16 and Science = 3 will Fail."
   ]
  },
  {
   "cell_type": "code",
   "execution_count": 2,
   "metadata": {},
   "outputs": [],
   "source": [
    "#K means algorithm\n",
    "\n",
    "#Problem statement."
   ]
  },
  {
   "cell_type": "code",
   "execution_count": null,
   "metadata": {},
   "outputs": [],
   "source": [
    "Working of K-Means algorithm with an example:\n",
    "#We need  to put 8 data points in 3 clusters.\n",
    "#Which data point will belong to which cluster? \n",
    "#The 8 dp are in the format (x,y).The dpoints are below.\n",
    "#step1)We consider initial centroids as A1,B1 and C1.\n",
    "#step2)Calculate euclidean distance between all the dp and centroid1.\n",
    "#Similarly for all\n",
    "#centroids.formula for euc.dist=np.sqrt((x2-x1)**2+(y2-y1)**2)\n",
    "\n",
    "#Initial Centroids of 3 clusters \n",
    "\n",
    "#2nd iteration\n",
    "         #B4      #C7       #A8 #Cluster_number \n",
    "        (8,8)    (6,1)      (2,5)                ()  () () ()\n",
    "A1(7,9)    0        7        6.7    1\n",
    "A2(2,5)    6.4      5.83     2.82   3\n",
    "A3(3,13)   5.65     11.7     10     1\n",
    "B1(7,2)    7        0        3.16   2\n",
    "B2(4,9)    3        7.6      6      1\n",
    "B3(8,8)    1.41     6.08     6.4    1\n",
    "C1(4,3)    6.7      3.16     0      3\n",
    "C2(6,1)    8.06     1.41     2.82   2\n"
   ]
  },
  {
   "cell_type": "code",
   "execution_count": null,
   "metadata": {},
   "outputs": [],
   "source": [
    "#2 nd iteration\n",
    "         #A3      #C2        #A2 #Cluster_number \n",
    "        (3,13)    (6,1)      (2,5)  \n",
    "A1\n",
    "A2\n",
    "A3\n",
    "B1\n",
    "..\n",
    "C1\n",
    "C2\n"
   ]
  },
  {
   "cell_type": "code",
   "execution_count": null,
   "metadata": {},
   "outputs": [],
   "source": [
    "#1st iteration\n",
    "c11,c12\n",
    "A1,B2\n",
    "A3,B3*,b6\n",
    "b9,b88\n",
    "\n",
    "\n",
    "\n",
    "B1,c2*,c8,c9\n",
    "b12,b44,A2\n",
    "              C1,b45,\n",
    "              A43"
   ]
  },
  {
   "cell_type": "code",
   "execution_count": null,
   "metadata": {},
   "outputs": [],
   "source": [
    "(A1)A3\n",
    "B2 B3\n",
    "\n",
    "                     \n",
    "                      (B1)C2\n",
    "                      b9\n",
    "                        b6,b12\n",
    "             \n",
    "            \n",
    "            \n",
    "            A2(C1)a8\n",
    "                a9"
   ]
  },
  {
   "cell_type": "code",
   "execution_count": null,
   "metadata": {},
   "outputs": [],
   "source": [
    "#new centroid for cluster 1\n",
    "B2\n",
    "\n",
    "#new centroif for cluster 2\n",
    "c2\n",
    "\n",
    "\n",
    "#new centroid for cluster 3\n",
    "A2\n",
    "\n",
    "\n"
   ]
  },
  {
   "cell_type": "code",
   "execution_count": 24,
   "metadata": {},
   "outputs": [],
   "source": [
    "#A1 d.p is near to itself.A1 is far from B1,C1.So A1 belongs to cluster 1.\n",
    "#A2 d.p is near to initial centroid 3.So A2 dp belongs to cluster 3.ehy cluster 3? because it is close to \n",
    "#centroid of cluster 3.\n",
    "#C2 is near to initial centroid 2.the euclid. distaance is just 1.41 units.so C2 belongs to cluster 2.\n",
    "#eucl.dist between c2 and ini centroid 1 is 8.06 units.\n",
    "#"
   ]
  },
  {
   "cell_type": "code",
   "execution_count": null,
   "metadata": {},
   "outputs": [],
   "source": [
    "#cluster 1 has 4 data points.cluster 2 has 2 data points.cluster 3 has 2 data points.\n",
    "#"
   ]
  },
  {
   "cell_type": "code",
   "execution_count": 1,
   "metadata": {},
   "outputs": [],
   "source": [
    "import numpy as np"
   ]
  },
  {
   "cell_type": "code",
   "execution_count": 6,
   "metadata": {},
   "outputs": [
    {
     "data": {
      "text/plain": [
       "(0.0, 5.656854249492381, 3.0)"
      ]
     },
     "execution_count": 6,
     "metadata": {},
     "output_type": "execute_result"
    }
   ],
   "source": [
    "np.sqrt((7-7)**2+(9-9)**2),np.sqrt((7-3)**2+(9-13)**2),np.sqrt((7-4)**2+(9-9)**2)"
   ]
  },
  {
   "cell_type": "code",
   "execution_count": 7,
   "metadata": {},
   "outputs": [
    {
     "data": {
      "text/plain": [
       "(6.4031242374328485, 7.0, 1.4142135623730951)"
      ]
     },
     "execution_count": 7,
     "metadata": {},
     "output_type": "execute_result"
    }
   ],
   "source": [
    "np.sqrt((7-2)**2+(9-5)**2),np.sqrt((7-7)**2+(9-2)**2),np.sqrt((7-8)**2+(9-8)**2)"
   ]
  },
  {
   "cell_type": "code",
   "execution_count": 9,
   "metadata": {},
   "outputs": [
    {
     "data": {
      "text/plain": [
       "(6.708203932499369, 8.06225774829855)"
      ]
     },
     "execution_count": 9,
     "metadata": {},
     "output_type": "execute_result"
    }
   ],
   "source": [
    "np.sqrt((7-4)**2+(9-3)**2),np.sqrt((7-6)**2+(9-1)**2)"
   ]
  },
  {
   "cell_type": "code",
   "execution_count": null,
   "metadata": {},
   "outputs": [],
   "source": [
    "0,6.4,5.65.. are euclidean distance between all dp and centroid of cluster 1."
   ]
  },
  {
   "cell_type": "code",
   "execution_count": null,
   "metadata": {},
   "outputs": [],
   "source": [
    "#We will be calculating the euclidean distance between all dp and centroid of cluster 2"
   ]
  },
  {
   "cell_type": "code",
   "execution_count": 12,
   "metadata": {},
   "outputs": [
    {
     "data": {
      "text/plain": [
       "(7.0, 5.830951894845301, 11.704699910719626)"
      ]
     },
     "execution_count": 12,
     "metadata": {},
     "output_type": "execute_result"
    }
   ],
   "source": [
    "np.sqrt((7-7)**2+(2-9)**2),np.sqrt((7-2)**2+(2-5)**2),np.sqrt((7-3)**2+(2-13)**2)"
   ]
  },
  {
   "cell_type": "code",
   "execution_count": 15,
   "metadata": {},
   "outputs": [
    {
     "data": {
      "text/plain": [
       "(7.615773105863909, 6.082762530298219, 3.1622776601683795)"
      ]
     },
     "execution_count": 15,
     "metadata": {},
     "output_type": "execute_result"
    }
   ],
   "source": [
    "np.sqrt((7-4)**2+(2-9)**2),np.sqrt((7-8)**2+(2-8)**2),np.sqrt((7-4)**2+(2-3)**2)"
   ]
  },
  {
   "cell_type": "code",
   "execution_count": 16,
   "metadata": {
    "scrolled": true
   },
   "outputs": [
    {
     "data": {
      "text/plain": [
       "1.4142135623730951"
      ]
     },
     "execution_count": 16,
     "metadata": {},
     "output_type": "execute_result"
    }
   ],
   "source": [
    "np.sqrt((7-6)**2+(2-1)**2)"
   ]
  },
  {
   "cell_type": "code",
   "execution_count": null,
   "metadata": {},
   "outputs": [],
   "source": [
    "##We will be calculating the euclidean distance between all dp and centroid of cluster 3"
   ]
  },
  {
   "cell_type": "code",
   "execution_count": 19,
   "metadata": {},
   "outputs": [
    {
     "data": {
      "text/plain": [
       "(6.708203932499369, 2.8284271247461903, 10.04987562112089)"
      ]
     },
     "execution_count": 19,
     "metadata": {},
     "output_type": "execute_result"
    }
   ],
   "source": [
    "np.sqrt((4-7)**2+(3-9)**2),np.sqrt((4-2)**2+(3-5)**2),np.sqrt((4-3)**2+(3-13)**2)"
   ]
  },
  {
   "cell_type": "code",
   "execution_count": 22,
   "metadata": {
    "scrolled": true
   },
   "outputs": [
    {
     "data": {
      "text/plain": [
       "(3.1622776601683795, 6.0, 6.4031242374328485)"
      ]
     },
     "execution_count": 22,
     "metadata": {},
     "output_type": "execute_result"
    }
   ],
   "source": [
    "np.sqrt((4-7)**2+(3-2)**2),np.sqrt((4-4)**2+(3-9)**2),np.sqrt((4-8)**2+(3-8)**2)"
   ]
  },
  {
   "cell_type": "code",
   "execution_count": 23,
   "metadata": {},
   "outputs": [
    {
     "data": {
      "text/plain": [
       "2.8284271247461903"
      ]
     },
     "execution_count": 23,
     "metadata": {},
     "output_type": "execute_result"
    }
   ],
   "source": [
    "np.sqrt((4-6)**2+(3-1)**2)"
   ]
  },
  {
   "cell_type": "code",
   "execution_count": null,
   "metadata": {},
   "outputs": [],
   "source": [
    "#kmeans-i need to cluster data points.I need to find optimum number of dp.\n",
    "#Each cluster has a wcss value.10 clusters will have their own wcss values individually.\n",
    "#"
   ]
  },
  {
   "cell_type": "code",
   "execution_count": 1,
   "metadata": {},
   "outputs": [],
   "source": [
    "# from warnings import filterwarnings\n",
    "# filterwarnings('ignore')\n",
    "import pandas as pd\n"
   ]
  },
  {
   "cell_type": "code",
   "execution_count": 2,
   "metadata": {},
   "outputs": [],
   "source": [
    "import pandas as pd\n"
   ]
  },
  {
   "cell_type": "code",
   "execution_count": 5,
   "metadata": {
    "scrolled": true
   },
   "outputs": [
    {
     "data": {
      "text/html": [
       "<div>\n",
       "<style scoped>\n",
       "    .dataframe tbody tr th:only-of-type {\n",
       "        vertical-align: middle;\n",
       "    }\n",
       "\n",
       "    .dataframe tbody tr th {\n",
       "        vertical-align: top;\n",
       "    }\n",
       "\n",
       "    .dataframe thead th {\n",
       "        text-align: right;\n",
       "    }\n",
       "</style>\n",
       "<table border=\"1\" class=\"dataframe\">\n",
       "  <thead>\n",
       "    <tr style=\"text-align: right;\">\n",
       "      <th></th>\n",
       "      <th>Cust_Number</th>\n",
       "      <th>Yearly_Income</th>\n",
       "      <th>Age</th>\n",
       "      <th>Cust_Spend_Score</th>\n",
       "      <th>Sex</th>\n",
       "    </tr>\n",
       "  </thead>\n",
       "  <tbody>\n",
       "    <tr>\n",
       "      <th>0</th>\n",
       "      <td>CUSTID1</td>\n",
       "      <td>15000</td>\n",
       "      <td>18</td>\n",
       "      <td>44</td>\n",
       "      <td>0</td>\n",
       "    </tr>\n",
       "    <tr>\n",
       "      <th>1</th>\n",
       "      <td>CUSTID2</td>\n",
       "      <td>15000</td>\n",
       "      <td>18</td>\n",
       "      <td>79</td>\n",
       "      <td>0</td>\n",
       "    </tr>\n",
       "    <tr>\n",
       "      <th>2</th>\n",
       "      <td>CUSTID3</td>\n",
       "      <td>16000</td>\n",
       "      <td>23</td>\n",
       "      <td>8</td>\n",
       "      <td>1</td>\n",
       "    </tr>\n",
       "    <tr>\n",
       "      <th>3</th>\n",
       "      <td>CUSTID4</td>\n",
       "      <td>16000</td>\n",
       "      <td>25</td>\n",
       "      <td>79</td>\n",
       "      <td>1</td>\n",
       "    </tr>\n",
       "    <tr>\n",
       "      <th>4</th>\n",
       "      <td>CUSTID5</td>\n",
       "      <td>17000</td>\n",
       "      <td>32</td>\n",
       "      <td>41</td>\n",
       "      <td>1</td>\n",
       "    </tr>\n",
       "  </tbody>\n",
       "</table>\n",
       "</div>"
      ],
      "text/plain": [
       "  Cust_Number  Yearly_Income  Age  Cust_Spend_Score  Sex\n",
       "0     CUSTID1          15000   18                44    0\n",
       "1     CUSTID2          15000   18                79    0\n",
       "2     CUSTID3          16000   23                 8    1\n",
       "3     CUSTID4          16000   25                79    1\n",
       "4     CUSTID5          17000   32                41    1"
      ]
     },
     "execution_count": 5,
     "metadata": {},
     "output_type": "execute_result"
    }
   ],
   "source": [
    "df=pd.read_csv(r'D:\\datasets\\customer_kmeans.csv')\n",
    "df.head()"
   ]
  },
  {
   "cell_type": "code",
   "execution_count": 6,
   "metadata": {
    "scrolled": true
   },
   "outputs": [
    {
     "name": "stdout",
     "output_type": "stream",
     "text": [
      "(200, 5)\n",
      "<class 'pandas.core.frame.DataFrame'>\n",
      "RangeIndex: 200 entries, 0 to 199\n",
      "Data columns (total 5 columns):\n",
      " #   Column            Non-Null Count  Dtype \n",
      "---  ------            --------------  ----- \n",
      " 0   Cust_Number       200 non-null    object\n",
      " 1   Yearly_Income     200 non-null    int64 \n",
      " 2   Age               200 non-null    int64 \n",
      " 3   Cust_Spend_Score  200 non-null    int64 \n",
      " 4   Sex               200 non-null    int64 \n",
      "dtypes: int64(4), object(1)\n",
      "memory usage: 7.9+ KB\n",
      "None\n"
     ]
    }
   ],
   "source": [
    "print(df.shape)\n",
    "print(df.info())"
   ]
  },
  {
   "cell_type": "code",
   "execution_count": null,
   "metadata": {},
   "outputs": [],
   "source": [
    "#sex col has cate levels named 0 and 1.so it must be of dtype obj not int"
   ]
  },
  {
   "cell_type": "code",
   "execution_count": 7,
   "metadata": {},
   "outputs": [],
   "source": [
    "df['Sex'] = df['Sex'].astype('object')"
   ]
  },
  {
   "cell_type": "code",
   "execution_count": 8,
   "metadata": {},
   "outputs": [],
   "source": [
    "df.drop(labels=['Cust_Number'],inplace=True,axis=1)"
   ]
  },
  {
   "cell_type": "code",
   "execution_count": 18,
   "metadata": {},
   "outputs": [
    {
     "data": {
      "text/plain": [
       "Yearly_Income       0\n",
       "Age                 0\n",
       "Cust_Spend_Score    0\n",
       "Sex                 0\n",
       "dtype: int64"
      ]
     },
     "execution_count": 18,
     "metadata": {},
     "output_type": "execute_result"
    }
   ],
   "source": [
    "df.isnull().sum()"
   ]
  },
  {
   "cell_type": "code",
   "execution_count": 6,
   "metadata": {
    "scrolled": false
   },
   "outputs": [
    {
     "data": {
      "text/html": [
       "<div>\n",
       "<style scoped>\n",
       "    .dataframe tbody tr th:only-of-type {\n",
       "        vertical-align: middle;\n",
       "    }\n",
       "\n",
       "    .dataframe tbody tr th {\n",
       "        vertical-align: top;\n",
       "    }\n",
       "\n",
       "    .dataframe thead th {\n",
       "        text-align: right;\n",
       "    }\n",
       "</style>\n",
       "<table border=\"1\" class=\"dataframe\">\n",
       "  <thead>\n",
       "    <tr style=\"text-align: right;\">\n",
       "      <th></th>\n",
       "      <th>Yearly_Income</th>\n",
       "      <th>Age</th>\n",
       "      <th>Cust_Spend_Score</th>\n",
       "      <th>Sex</th>\n",
       "    </tr>\n",
       "  </thead>\n",
       "  <tbody>\n",
       "    <tr>\n",
       "      <th>0</th>\n",
       "      <td>15000</td>\n",
       "      <td>18</td>\n",
       "      <td>44</td>\n",
       "      <td>0</td>\n",
       "    </tr>\n",
       "    <tr>\n",
       "      <th>1</th>\n",
       "      <td>15000</td>\n",
       "      <td>18</td>\n",
       "      <td>79</td>\n",
       "      <td>0</td>\n",
       "    </tr>\n",
       "    <tr>\n",
       "      <th>2</th>\n",
       "      <td>16000</td>\n",
       "      <td>23</td>\n",
       "      <td>8</td>\n",
       "      <td>1</td>\n",
       "    </tr>\n",
       "    <tr>\n",
       "      <th>3</th>\n",
       "      <td>16000</td>\n",
       "      <td>25</td>\n",
       "      <td>79</td>\n",
       "      <td>1</td>\n",
       "    </tr>\n",
       "    <tr>\n",
       "      <th>4</th>\n",
       "      <td>17000</td>\n",
       "      <td>32</td>\n",
       "      <td>41</td>\n",
       "      <td>1</td>\n",
       "    </tr>\n",
       "  </tbody>\n",
       "</table>\n",
       "</div>"
      ],
      "text/plain": [
       "   Yearly_Income  Age  Cust_Spend_Score Sex\n",
       "0          15000   18                44   0\n",
       "1          15000   18                79   0\n",
       "2          16000   23                 8   1\n",
       "3          16000   25                79   1\n",
       "4          17000   32                41   1"
      ]
     },
     "execution_count": 6,
     "metadata": {},
     "output_type": "execute_result"
    }
   ],
   "source": [
    "df.head()#removed irrelevant f,changed dtype,no null values"
   ]
  },
  {
   "cell_type": "code",
   "execution_count": 10,
   "metadata": {},
   "outputs": [],
   "source": [
    "import seaborn as sns\n",
    "import matplotlib.pyplot as plt\n"
   ]
  },
  {
   "cell_type": "code",
   "execution_count": 11,
   "metadata": {
    "scrolled": false
   },
   "outputs": [
    {
     "data": {
      "image/png": "[encoded data removed]",
      "text/plain": [
       "<Figure size 432x288 with 1 Axes>"
      ]
     },
     "metadata": {
      "needs_background": "light"
     },
     "output_type": "display_data"
    }
   ],
   "source": [
    "sns.scatterplot(data=df,x=df.Age,y=df.Yearly_Income)\n",
    "plt.show()"
   ]
  },
  {
   "cell_type": "code",
   "execution_count": null,
   "metadata": {},
   "outputs": [],
   "source": [
    "#betweeen 20 to 30 yearly inc increases\n",
    "#between 30 to 50,yi is at its peak for an employee.\n",
    "#between age 50 to 70,yi decreases"
   ]
  },
  {
   "cell_type": "code",
   "execution_count": null,
   "metadata": {},
   "outputs": [],
   "source": [
    "#i have 3 num vars and 1 cate vars.let me plot scatter,bar,pie,count,boxplot"
   ]
  },
  {
   "cell_type": "code",
   "execution_count": null,
   "metadata": {},
   "outputs": [],
   "source": [
    "#i want dist btw age and i.age inc,inc increases"
   ]
  },
  {
   "cell_type": "code",
   "execution_count": null,
   "metadata": {},
   "outputs": [],
   "source": [
    "# Here x-axis denotes the data to be plotted while the y-axis shows the frequency distribution.\n",
    "#in boxplot"
   ]
  },
  {
   "cell_type": "markdown",
   "metadata": {},
   "source": [
    "Maximum age is 73\n",
    "minimum age is 17\n",
    "median age is 36\n",
    "I verified these values  using df.describe() for age column\n",
    "Many ppl have ages betwween 28 to 50"
   ]
  },
  {
   "cell_type": "code",
   "execution_count": 19,
   "metadata": {
    "scrolled": false
   },
   "outputs": [
    {
     "data": {
      "image/png": "[encoded data removed]",
      "text/plain": [
       "<Figure size 432x288 with 1 Axes>"
      ]
     },
     "metadata": {
      "needs_background": "light"
     },
     "output_type": "display_data"
    }
   ],
   "source": [
    "sns.boxplot(x=df.Age,data=df)\n",
    "plt.show()\n",
    "\n",
    "#seaborn fun syntax:data,x,y\n"
   ]
  },
  {
   "cell_type": "code",
   "execution_count": 31,
   "metadata": {
    "scrolled": true
   },
   "outputs": [],
   "source": [
    "# sns.boxplot(data=df, x=\"Sex\", y=\"Age\")\n",
    "# plt.plot()"
   ]
  },
  {
   "cell_type": "code",
   "execution_count": 8,
   "metadata": {
    "scrolled": true
   },
   "outputs": [
    {
     "data": {
      "text/plain": [
       "1    112\n",
       "0     88\n",
       "Name: Sex, dtype: int64"
      ]
     },
     "execution_count": 8,
     "metadata": {},
     "output_type": "execute_result"
    }
   ],
   "source": [
    "df.Sex.value_counts()"
   ]
  },
  {
   "cell_type": "code",
   "execution_count": 10,
   "metadata": {
    "scrolled": false
   },
   "outputs": [
    {
     "data": {
      "text/html": [
       "<div>\n",
       "<style scoped>\n",
       "    .dataframe tbody tr th:only-of-type {\n",
       "        vertical-align: middle;\n",
       "    }\n",
       "\n",
       "    .dataframe tbody tr th {\n",
       "        vertical-align: top;\n",
       "    }\n",
       "\n",
       "    .dataframe thead th {\n",
       "        text-align: right;\n",
       "    }\n",
       "</style>\n",
       "<table border=\"1\" class=\"dataframe\">\n",
       "  <thead>\n",
       "    <tr style=\"text-align: right;\">\n",
       "      <th></th>\n",
       "      <th>Yearly_Income</th>\n",
       "      <th>Age</th>\n",
       "      <th>Cust_Spend_Score</th>\n",
       "    </tr>\n",
       "  </thead>\n",
       "  <tbody>\n",
       "    <tr>\n",
       "      <th>count</th>\n",
       "      <td>200.000000</td>\n",
       "      <td>200.000000</td>\n",
       "      <td>200.000000</td>\n",
       "    </tr>\n",
       "    <tr>\n",
       "      <th>mean</th>\n",
       "      <td>60560.000000</td>\n",
       "      <td>39.095000</td>\n",
       "      <td>51.380000</td>\n",
       "    </tr>\n",
       "    <tr>\n",
       "      <th>std</th>\n",
       "      <td>26264.721165</td>\n",
       "      <td>14.088592</td>\n",
       "      <td>26.034488</td>\n",
       "    </tr>\n",
       "    <tr>\n",
       "      <th>min</th>\n",
       "      <td>15000.000000</td>\n",
       "      <td>17.000000</td>\n",
       "      <td>1.000000</td>\n",
       "    </tr>\n",
       "    <tr>\n",
       "      <th>25%</th>\n",
       "      <td>41500.000000</td>\n",
       "      <td>28.000000</td>\n",
       "      <td>33.750000</td>\n",
       "    </tr>\n",
       "    <tr>\n",
       "      <th>50%</th>\n",
       "      <td>61500.000000</td>\n",
       "      <td>36.000000</td>\n",
       "      <td>51.000000</td>\n",
       "    </tr>\n",
       "    <tr>\n",
       "      <th>75%</th>\n",
       "      <td>78000.000000</td>\n",
       "      <td>49.250000</td>\n",
       "      <td>72.000000</td>\n",
       "    </tr>\n",
       "    <tr>\n",
       "      <th>max</th>\n",
       "      <td>137000.000000</td>\n",
       "      <td>73.000000</td>\n",
       "      <td>103.000000</td>\n",
       "    </tr>\n",
       "  </tbody>\n",
       "</table>\n",
       "</div>"
      ],
      "text/plain": [
       "       Yearly_Income         Age  Cust_Spend_Score\n",
       "count     200.000000  200.000000        200.000000\n",
       "mean    60560.000000   39.095000         51.380000\n",
       "std     26264.721165   14.088592         26.034488\n",
       "min     15000.000000   17.000000          1.000000\n",
       "25%     41500.000000   28.000000         33.750000\n",
       "50%     61500.000000   36.000000         51.000000\n",
       "75%     78000.000000   49.250000         72.000000\n",
       "max    137000.000000   73.000000        103.000000"
      ]
     },
     "execution_count": 10,
     "metadata": {},
     "output_type": "execute_result"
    }
   ],
   "source": [
    "df.describe()#applied for num vars only"
   ]
  },
  {
   "cell_type": "code",
   "execution_count": 14,
   "metadata": {},
   "outputs": [],
   "source": [
    "df1_num=df.iloc[:,[0,1,2]]"
   ]
  },
  {
   "cell_type": "code",
   "execution_count": null,
   "metadata": {},
   "outputs": [],
   "source": []
  },
  {
   "cell_type": "code",
   "execution_count": 13,
   "metadata": {
    "scrolled": false
   },
   "outputs": [],
   "source": [
    "# sc = StandardScaler()\n",
    "\n",
    "\n",
    "# #df_num_sc = sc.fit_transform(df_num)\n",
    "\n",
    "\n",
    "# df_num_sc = pd.DataFrame(sc.fit_transform(df_num), columns = df_num.columns)\n",
    "\n",
    "# df_num_sc.head()"
   ]
  },
  {
   "cell_type": "code",
   "execution_count": null,
   "metadata": {},
   "outputs": [],
   "source": []
  },
  {
   "cell_type": "code",
   "execution_count": null,
   "metadata": {},
   "outputs": [],
   "source": [
    "#we will cluster dp of numerical features\n"
   ]
  },
  {
   "cell_type": "code",
   "execution_count": null,
   "metadata": {},
   "outputs": [],
   "source": [
    "200 records\n",
    "\n",
    "#i want to split my dataset into k clusters for proper analysis."
   ]
  },
  {
   "cell_type": "code",
   "execution_count": null,
   "metadata": {},
   "outputs": [],
   "source": [
    "k=20\n",
    "?"
   ]
  },
  {
   "cell_type": "code",
   "execution_count": 16,
   "metadata": {},
   "outputs": [
    {
     "data": {
      "text/html": [
       "<div>\n",
       "<style scoped>\n",
       "    .dataframe tbody tr th:only-of-type {\n",
       "        vertical-align: middle;\n",
       "    }\n",
       "\n",
       "    .dataframe tbody tr th {\n",
       "        vertical-align: top;\n",
       "    }\n",
       "\n",
       "    .dataframe thead th {\n",
       "        text-align: right;\n",
       "    }\n",
       "</style>\n",
       "<table border=\"1\" class=\"dataframe\">\n",
       "  <thead>\n",
       "    <tr style=\"text-align: right;\">\n",
       "      <th></th>\n",
       "      <th>Yearly_Income</th>\n",
       "      <th>Age</th>\n",
       "      <th>Cust_Spend_Score</th>\n",
       "    </tr>\n",
       "  </thead>\n",
       "  <tbody>\n",
       "    <tr>\n",
       "      <th>0</th>\n",
       "      <td>15000</td>\n",
       "      <td>18</td>\n",
       "      <td>44</td>\n",
       "    </tr>\n",
       "    <tr>\n",
       "      <th>1</th>\n",
       "      <td>15000</td>\n",
       "      <td>18</td>\n",
       "      <td>79</td>\n",
       "    </tr>\n",
       "    <tr>\n",
       "      <th>2</th>\n",
       "      <td>16000</td>\n",
       "      <td>23</td>\n",
       "      <td>8</td>\n",
       "    </tr>\n",
       "    <tr>\n",
       "      <th>3</th>\n",
       "      <td>16000</td>\n",
       "      <td>25</td>\n",
       "      <td>79</td>\n",
       "    </tr>\n",
       "    <tr>\n",
       "      <th>4</th>\n",
       "      <td>17000</td>\n",
       "      <td>32</td>\n",
       "      <td>41</td>\n",
       "    </tr>\n",
       "  </tbody>\n",
       "</table>\n",
       "</div>"
      ],
      "text/plain": [
       "   Yearly_Income  Age  Cust_Spend_Score\n",
       "0          15000   18                44\n",
       "1          15000   18                79\n",
       "2          16000   23                 8\n",
       "3          16000   25                79\n",
       "4          17000   32                41"
      ]
     },
     "execution_count": 16,
     "metadata": {},
     "output_type": "execute_result"
    }
   ],
   "source": [
    "df1_num.head()"
   ]
  },
  {
   "cell_type": "code",
   "execution_count": 17,
   "metadata": {},
   "outputs": [],
   "source": [
    "from sklearn.cluster import KMeans"
   ]
  },
  {
   "cell_type": "code",
   "execution_count": 18,
   "metadata": {
    "scrolled": true
   },
   "outputs": [],
   "source": [
    "wcss=[]\n",
    "for i in range(2,20):\n",
    "#     print(\"hi\")    \n",
    "    kmeans = KMeans(n_clusters = i, random_state = 10)\n",
    "    kmeans.fit(df1_num)\n",
    "    wcss.append(kmeans.inertia_)\n",
    "    \n",
    "# Upgrading threadpoolctl alone did not work for me. \n",
    "#I had to downgrade the numpy to 1.21.4 as well and then restart the kernel to make it work"
   ]
  },
  {
   "cell_type": "code",
   "execution_count": null,
   "metadata": {},
   "outputs": [],
   "source": [
    "c1=100\n",
    "c2=100"
   ]
  },
  {
   "cell_type": "code",
   "execution_count": 21,
   "metadata": {},
   "outputs": [
    {
     "data": {
      "text/plain": [
       "50.0"
      ]
     },
     "execution_count": 21,
     "metadata": {},
     "output_type": "execute_result"
    }
   ],
   "source": [
    "200/4"
   ]
  },
  {
   "cell_type": "code",
   "execution_count": 19,
   "metadata": {},
   "outputs": [
    {
     "data": {
      "text/plain": [
       "[48661062946.116165,\n",
       " 23517505130.34835,\n",
       " 13278283600.444536,\n",
       " 8481667834.889643,\n",
       " 5051076371.044642,\n",
       " 3932159420.095238,\n",
       " 2857611266.599741,\n",
       " 2386239017.3433642,\n",
       " 1779093213.001204,\n",
       " 1416950509.6035354,\n",
       " 1018198263.8417208,\n",
       " 886599626.6588829,\n",
       " 741723914.363059,\n",
       " 655812165.949549,\n",
       " 559062270.8328824,\n",
       " 486279356.65061325,\n",
       " 408016538.9204365,\n",
       " 347350422.4035894]"
      ]
     },
     "execution_count": 19,
     "metadata": {},
     "output_type": "execute_result"
    }
   ],
   "source": [
    "wcss\n",
    "#wcss means within cluster sum of squares\n",
    "#sum of squares of distance between all the datapoints and the mean value"
   ]
  },
  {
   "cell_type": "code",
   "execution_count": 19,
   "metadata": {
    "scrolled": false
   },
   "outputs": [
    {
     "data": {
      "image/png": "[encoded data removed]",
      "text/plain": [
       "<Figure size 432x288 with 1 Axes>"
      ]
     },
     "metadata": {
      "needs_background": "light"
     },
     "output_type": "display_data"
    }
   ],
   "source": [
    "plt.plot(range(2,20), wcss)\n",
    "\n",
    "# set the axes and plot labels\n",
    "# set the font size using 'fontsize'\n",
    "plt.title('Elbow Plot', fontsize = 15)\n",
    "plt.xlabel('No. of clusters (K)', fontsize = 15)\n",
    "plt.ylabel('WCSS', fontsize = 15)\n",
    "\n",
    "# display the plot\n",
    "plt.show()"
   ]
  },
  {
   "cell_type": "code",
   "execution_count": null,
   "metadata": {},
   "outputs": [],
   "source": [
    "\n",
    "Step 1:set number of clusters where all dp in the dataset are grouped.\n",
    "#say we set it as 3.how to find k so that all dp are grouped?\n",
    "step2:Using elbow plot,For every value of k, we calculate the within-cluster sum of squares (WCSS) value.\n",
    "#WCSS - It is defined as the sum of square distances between the centroids and\n",
    "#each points."
   ]
  },
  {
   "cell_type": "code",
   "execution_count": null,
   "metadata": {},
   "outputs": [],
   "source": [
    "#Now For determining the best number of clusters(k) we plot a graph of k versus their WCSS value.\n",
    "\n",
    "#When k=1 the WCSS has the highest value but with increasing k value WCSS value starts to decrease.\n"
   ]
  },
  {
   "cell_type": "code",
   "execution_count": 23,
   "metadata": {},
   "outputs": [],
   "source": [
    "from sklearn.metrics import silhouette_score"
   ]
  },
  {
   "cell_type": "code",
   "execution_count": 25,
   "metadata": {
    "scrolled": true
   },
   "outputs": [
    {
     "name": "stdout",
     "output_type": "stream",
     "text": [
      "For 4 clusters the silhouette score is 0.5583841965833)\n",
      "For 5 clusters the silhouette score is 0.5834587703312334)\n",
      "For 6 clusters the silhouette score is 0.6052819244070663)\n",
      "For 7 clusters the silhouette score is 0.6139840870004665)\n",
      "For 8 clusters the silhouette score is 0.6001183796110017)\n"
     ]
    }
   ],
   "source": [
    "n_clusters = [4,5, 6,7,8]\n",
    "\n",
    "for K in n_clusters:\n",
    "    cluster = KMeans (n_clusters= K, random_state= 10)\n",
    "    predict = cluster.fit_predict(df1_num)\n",
    "    score = silhouette_score(df1_num, predict, random_state= 10)\n",
    "    print(\"For {} clusters the silhouette score is {})\".format(K, score))"
   ]
  },
  {
   "cell_type": "code",
   "execution_count": null,
   "metadata": {},
   "outputs": [],
   "source": [
    "# Build the Clusters\n",
    "# Let us build the 7 clusters using K-means clustering."
   ]
  },
  {
   "cell_type": "code",
   "execution_count": 26,
   "metadata": {},
   "outputs": [],
   "source": [
    "#I set kmeans model with 7 clusters.\n",
    "new_clusters = KMeans(n_clusters = 7, random_state = 10)\n",
    "\n",
    "# Kmeans model gets trained on observations of num vars.\n",
    "#The data is grouped in 7 clusters.\n",
    "new_clusters.fit(df1_num)\n",
    "\n",
    "#all dp are assigned cluster number\n",
    "df1_num['Cluster'] = new_clusters.labels_"
   ]
  },
  {
   "cell_type": "code",
   "execution_count": 27,
   "metadata": {
    "scrolled": true
   },
   "outputs": [
    {
     "data": {
      "text/html": [
       "<div>\n",
       "<style scoped>\n",
       "    .dataframe tbody tr th:only-of-type {\n",
       "        vertical-align: middle;\n",
       "    }\n",
       "\n",
       "    .dataframe tbody tr th {\n",
       "        vertical-align: top;\n",
       "    }\n",
       "\n",
       "    .dataframe thead th {\n",
       "        text-align: right;\n",
       "    }\n",
       "</style>\n",
       "<table border=\"1\" class=\"dataframe\">\n",
       "  <thead>\n",
       "    <tr style=\"text-align: right;\">\n",
       "      <th></th>\n",
       "      <th>Yearly_Income</th>\n",
       "      <th>Age</th>\n",
       "      <th>Cust_Spend_Score</th>\n",
       "      <th>Cluster</th>\n",
       "    </tr>\n",
       "  </thead>\n",
       "  <tbody>\n",
       "    <tr>\n",
       "      <th>180</th>\n",
       "      <td>97000</td>\n",
       "      <td>34</td>\n",
       "      <td>36</td>\n",
       "      <td>5</td>\n",
       "    </tr>\n",
       "    <tr>\n",
       "      <th>181</th>\n",
       "      <td>97000</td>\n",
       "      <td>32</td>\n",
       "      <td>86</td>\n",
       "      <td>5</td>\n",
       "    </tr>\n",
       "    <tr>\n",
       "      <th>182</th>\n",
       "      <td>98000</td>\n",
       "      <td>44</td>\n",
       "      <td>18</td>\n",
       "      <td>5</td>\n",
       "    </tr>\n",
       "    <tr>\n",
       "      <th>183</th>\n",
       "      <td>98000</td>\n",
       "      <td>26</td>\n",
       "      <td>93</td>\n",
       "      <td>5</td>\n",
       "    </tr>\n",
       "    <tr>\n",
       "      <th>184</th>\n",
       "      <td>99000</td>\n",
       "      <td>41</td>\n",
       "      <td>37</td>\n",
       "      <td>5</td>\n",
       "    </tr>\n",
       "    <tr>\n",
       "      <th>185</th>\n",
       "      <td>99000</td>\n",
       "      <td>29</td>\n",
       "      <td>95</td>\n",
       "      <td>5</td>\n",
       "    </tr>\n",
       "    <tr>\n",
       "      <th>186</th>\n",
       "      <td>101000</td>\n",
       "      <td>52</td>\n",
       "      <td>28</td>\n",
       "      <td>5</td>\n",
       "    </tr>\n",
       "    <tr>\n",
       "      <th>187</th>\n",
       "      <td>101000</td>\n",
       "      <td>28</td>\n",
       "      <td>66</td>\n",
       "      <td>5</td>\n",
       "    </tr>\n",
       "    <tr>\n",
       "      <th>188</th>\n",
       "      <td>103000</td>\n",
       "      <td>40</td>\n",
       "      <td>22</td>\n",
       "      <td>5</td>\n",
       "    </tr>\n",
       "    <tr>\n",
       "      <th>189</th>\n",
       "      <td>103000</td>\n",
       "      <td>37</td>\n",
       "      <td>90</td>\n",
       "      <td>5</td>\n",
       "    </tr>\n",
       "    <tr>\n",
       "      <th>190</th>\n",
       "      <td>103000</td>\n",
       "      <td>36</td>\n",
       "      <td>23</td>\n",
       "      <td>5</td>\n",
       "    </tr>\n",
       "    <tr>\n",
       "      <th>191</th>\n",
       "      <td>103000</td>\n",
       "      <td>32</td>\n",
       "      <td>69</td>\n",
       "      <td>5</td>\n",
       "    </tr>\n",
       "    <tr>\n",
       "      <th>192</th>\n",
       "      <td>113000</td>\n",
       "      <td>31</td>\n",
       "      <td>12</td>\n",
       "      <td>5</td>\n",
       "    </tr>\n",
       "    <tr>\n",
       "      <th>193</th>\n",
       "      <td>113000</td>\n",
       "      <td>35</td>\n",
       "      <td>94</td>\n",
       "      <td>5</td>\n",
       "    </tr>\n",
       "    <tr>\n",
       "      <th>194</th>\n",
       "      <td>120000</td>\n",
       "      <td>48</td>\n",
       "      <td>17</td>\n",
       "      <td>3</td>\n",
       "    </tr>\n",
       "    <tr>\n",
       "      <th>195</th>\n",
       "      <td>120000</td>\n",
       "      <td>36</td>\n",
       "      <td>79</td>\n",
       "      <td>3</td>\n",
       "    </tr>\n",
       "    <tr>\n",
       "      <th>196</th>\n",
       "      <td>126000</td>\n",
       "      <td>46</td>\n",
       "      <td>32</td>\n",
       "      <td>3</td>\n",
       "    </tr>\n",
       "    <tr>\n",
       "      <th>197</th>\n",
       "      <td>126000</td>\n",
       "      <td>29</td>\n",
       "      <td>72</td>\n",
       "      <td>3</td>\n",
       "    </tr>\n",
       "    <tr>\n",
       "      <th>198</th>\n",
       "      <td>137000</td>\n",
       "      <td>32</td>\n",
       "      <td>22</td>\n",
       "      <td>3</td>\n",
       "    </tr>\n",
       "    <tr>\n",
       "      <th>199</th>\n",
       "      <td>137000</td>\n",
       "      <td>28</td>\n",
       "      <td>88</td>\n",
       "      <td>3</td>\n",
       "    </tr>\n",
       "  </tbody>\n",
       "</table>\n",
       "</div>"
      ],
      "text/plain": [
       "     Yearly_Income  Age  Cust_Spend_Score  Cluster\n",
       "180          97000   34                36        5\n",
       "181          97000   32                86        5\n",
       "182          98000   44                18        5\n",
       "183          98000   26                93        5\n",
       "184          99000   41                37        5\n",
       "185          99000   29                95        5\n",
       "186         101000   52                28        5\n",
       "187         101000   28                66        5\n",
       "188         103000   40                22        5\n",
       "189         103000   37                90        5\n",
       "190         103000   36                23        5\n",
       "191         103000   32                69        5\n",
       "192         113000   31                12        5\n",
       "193         113000   35                94        5\n",
       "194         120000   48                17        3\n",
       "195         120000   36                79        3\n",
       "196         126000   46                32        3\n",
       "197         126000   29                72        3\n",
       "198         137000   32                22        3\n",
       "199         137000   28                88        3"
      ]
     },
     "execution_count": 27,
     "metadata": {},
     "output_type": "execute_result"
    }
   ],
   "source": [
    "df1_num.tail(20)"
   ]
  },
  {
   "cell_type": "code",
   "execution_count": null,
   "metadata": {},
   "outputs": [],
   "source": []
  },
  {
   "cell_type": "code",
   "execution_count": 28,
   "metadata": {
    "scrolled": false
   },
   "outputs": [
    {
     "data": {
      "text/plain": [
       "2    48\n",
       "4    42\n",
       "6    42\n",
       "1    32\n",
       "0    16\n",
       "5    14\n",
       "3     6\n",
       "Name: Cluster, dtype: int64"
      ]
     },
     "execution_count": 28,
     "metadata": {},
     "output_type": "execute_result"
    }
   ],
   "source": [
    "df1_num.Cluster.value_counts()"
   ]
  },
  {
   "cell_type": "markdown",
   "metadata": {},
   "source": [
    "Steps to be followed:\n",
    "1.i scaled obs of 3 num vars.I should not scale observations.(df1_num) \n",
    "2.plot elbow plot and ss to find k.K=7.\n",
    "3.I need to assign cluster numbers for all obs of 3 num vars.yes.there are codes."
   ]
  },
  {
   "cell_type": "code",
   "execution_count": null,
   "metadata": {},
   "outputs": [],
   "source": [
    "All the observations are clustered in 7 clusters.\n",
    "We will analyse."
   ]
  },
  {
   "cell_type": "code",
   "execution_count": null,
   "metadata": {},
   "outputs": [],
   "source": [
    "#The cluster number 3 has most number of data points or samples or observations or records or inp vectors."
   ]
  },
  {
   "cell_type": "code",
   "execution_count": null,
   "metadata": {},
   "outputs": [],
   "source": [
    "#"
   ]
  },
  {
   "cell_type": "code",
   "execution_count": null,
   "metadata": {},
   "outputs": [],
   "source": []
  },
  {
   "cell_type": "code",
   "execution_count": 29,
   "metadata": {
    "scrolled": true
   },
   "outputs": [
    {
     "name": "stderr",
     "output_type": "stream",
     "text": [
      "C:\\Users\\USER\\anaconda\\lib\\site-packages\\seaborn\\regression.py:580: UserWarning: The `size` parameter has been renamed to `height`; please update your code.\n",
      "  warnings.warn(msg, UserWarning)\n"
     ]
    },
    {
     "data": {
      "image/png": "[encoded data removed]",
      "text/plain": [
       "<Figure size 763.5x720 with 1 Axes>"
      ]
     },
     "metadata": {
      "needs_background": "light"
     },
     "output_type": "display_data"
    }
   ],
   "source": [
    "# plot the lmplot to visualize the clusters\n",
    "# pass the different markers to display the points in each cluster with different shapes\n",
    "# the 'hue' parameter returns colors for each cluster\n",
    "sns.lmplot(x = 'Cust_Spend_Score', y = 'Yearly_Income', data = df1_num, hue = 'Cluster', \n",
    "                markers = ['*', ',', '^', '.', '+',',','+'], fit_reg = False, size = 10)\n",
    "\n",
    "# set the axes and plot labels\n",
    "# set the font size using 'fontsize'\n",
    "plt.title('K-means Clustering (for K=7)', fontsize = 15)\n",
    "plt.xlabel('Spending Score', fontsize = 15)\n",
    "plt.ylabel('Annual Income', fontsize = 15)\n",
    "\n",
    "# display the plot\n",
    "plt.show()"
   ]
  },
  {
   "cell_type": "code",
   "execution_count": null,
   "metadata": {},
   "outputs": [],
   "source": [
    "#i have created clusters of observations of 2 num vars.\n",
    "But these are scaled values.\n",
    "#x axis p ss hase v -2 to 2\n",
    "Do not cluster scaled data.\n",
    "cluster col is there for scaled dataframe\n",
    "#cluster col is not there in raw dataset.\n",
    "#need to add cluster col in raw dataset."
   ]
  },
  {
   "cell_type": "markdown",
   "metadata": {},
   "source": [
    "I cannot analyse scaled data in a cluster.it will give wrong results."
   ]
  },
  {
   "cell_type": "code",
   "execution_count": null,
   "metadata": {},
   "outputs": [],
   "source": [
    "#Need to cluster raw observations of 3 num variables"
   ]
  },
  {
   "cell_type": "code",
   "execution_count": 32,
   "metadata": {
    "scrolled": false
   },
   "outputs": [],
   "source": [
    "\n",
    "#remove sex column.using drop fun.apply kmeans cl in these 3 num vars.\n",
    "#"
   ]
  },
  {
   "cell_type": "code",
   "execution_count": null,
   "metadata": {},
   "outputs": [],
   "source": [
    "Kmeans working:\n",
    "1)elbow and ss is used to calculate the optimal number of k for dataset.\n",
    "2)then analyse.Calc minimum,max,avg,count of customers in all the cluster.say cluster 0 here."
   ]
  },
  {
   "cell_type": "code",
   "execution_count": 39,
   "metadata": {},
   "outputs": [
    {
     "data": {
      "text/plain": [
       "2    48\n",
       "4    42\n",
       "6    42\n",
       "1    32\n",
       "0    16\n",
       "5    14\n",
       "3     6\n",
       "Name: Cluster, dtype: int64"
      ]
     },
     "execution_count": 39,
     "metadata": {},
     "output_type": "execute_result"
    }
   ],
   "source": [
    "df1_num.Cluster.value_counts()"
   ]
  },
  {
   "cell_type": "code",
   "execution_count": 40,
   "metadata": {},
   "outputs": [
    {
     "data": {
      "text/plain": [
       "16"
      ]
     },
     "execution_count": 40,
     "metadata": {},
     "output_type": "execute_result"
    }
   ],
   "source": [
    "len(df1_num.loc[df1_num['Cluster']==0])"
   ]
  },
  {
   "cell_type": "code",
   "execution_count": 41,
   "metadata": {
    "scrolled": true
   },
   "outputs": [
    {
     "data": {
      "text/html": [
       "<div>\n",
       "<style scoped>\n",
       "    .dataframe tbody tr th:only-of-type {\n",
       "        vertical-align: middle;\n",
       "    }\n",
       "\n",
       "    .dataframe tbody tr th {\n",
       "        vertical-align: top;\n",
       "    }\n",
       "\n",
       "    .dataframe thead th {\n",
       "        text-align: right;\n",
       "    }\n",
       "</style>\n",
       "<table border=\"1\" class=\"dataframe\">\n",
       "  <thead>\n",
       "    <tr style=\"text-align: right;\">\n",
       "      <th></th>\n",
       "      <th>Yearly_Income</th>\n",
       "      <th>Age</th>\n",
       "      <th>Cust_Spend_Score</th>\n",
       "      <th>Cluster</th>\n",
       "    </tr>\n",
       "  </thead>\n",
       "  <tbody>\n",
       "    <tr>\n",
       "      <th>count</th>\n",
       "      <td>16.000000</td>\n",
       "      <td>16.000000</td>\n",
       "      <td>16.000000</td>\n",
       "      <td>16.0</td>\n",
       "    </tr>\n",
       "    <tr>\n",
       "      <th>mean</th>\n",
       "      <td>87625.000000</td>\n",
       "      <td>39.312500</td>\n",
       "      <td>49.750000</td>\n",
       "      <td>0.0</td>\n",
       "    </tr>\n",
       "    <tr>\n",
       "      <th>std</th>\n",
       "      <td>2305.789814</td>\n",
       "      <td>10.170013</td>\n",
       "      <td>34.489612</td>\n",
       "      <td>0.0</td>\n",
       "    </tr>\n",
       "    <tr>\n",
       "      <th>min</th>\n",
       "      <td>85000.000000</td>\n",
       "      <td>26.000000</td>\n",
       "      <td>12.000000</td>\n",
       "      <td>0.0</td>\n",
       "    </tr>\n",
       "    <tr>\n",
       "      <th>25%</th>\n",
       "      <td>86750.000000</td>\n",
       "      <td>32.250000</td>\n",
       "      <td>15.500000</td>\n",
       "      <td>0.0</td>\n",
       "    </tr>\n",
       "    <tr>\n",
       "      <th>50%</th>\n",
       "      <td>87000.000000</td>\n",
       "      <td>38.000000</td>\n",
       "      <td>45.500000</td>\n",
       "      <td>0.0</td>\n",
       "    </tr>\n",
       "    <tr>\n",
       "      <th>75%</th>\n",
       "      <td>88000.000000</td>\n",
       "      <td>43.250000</td>\n",
       "      <td>78.000000</td>\n",
       "      <td>0.0</td>\n",
       "    </tr>\n",
       "    <tr>\n",
       "      <th>max</th>\n",
       "      <td>93000.000000</td>\n",
       "      <td>58.000000</td>\n",
       "      <td>95.000000</td>\n",
       "      <td>0.0</td>\n",
       "    </tr>\n",
       "  </tbody>\n",
       "</table>\n",
       "</div>"
      ],
      "text/plain": [
       "       Yearly_Income        Age  Cust_Spend_Score  Cluster\n",
       "count      16.000000  16.000000         16.000000     16.0\n",
       "mean    87625.000000  39.312500         49.750000      0.0\n",
       "std      2305.789814  10.170013         34.489612      0.0\n",
       "min     85000.000000  26.000000         12.000000      0.0\n",
       "25%     86750.000000  32.250000         15.500000      0.0\n",
       "50%     87000.000000  38.000000         45.500000      0.0\n",
       "75%     88000.000000  43.250000         78.000000      0.0\n",
       "max     93000.000000  58.000000         95.000000      0.0"
      ]
     },
     "execution_count": 41,
     "metadata": {},
     "output_type": "execute_result"
    }
   ],
   "source": [
    "df1_num.loc[df1_num['Cluster']==0].describe()"
   ]
  },
  {
   "cell_type": "markdown",
   "metadata": {},
   "source": [
    "#Average Yearly income of customers in cluster 0 is 87.6k.\n",
    "#Average Yearly Cust_Spend_Score of customers in cluster 0 is 49.75 units."
   ]
  },
  {
   "cell_type": "code",
   "execution_count": 42,
   "metadata": {},
   "outputs": [
    {
     "data": {
      "text/plain": [
       "32"
      ]
     },
     "execution_count": 42,
     "metadata": {},
     "output_type": "execute_result"
    }
   ],
   "source": [
    "len(df1_num.loc[df1_num['Cluster']==1])"
   ]
  },
  {
   "cell_type": "code",
   "execution_count": 44,
   "metadata": {
    "scrolled": true
   },
   "outputs": [
    {
     "data": {
      "text/html": [
       "<div>\n",
       "<style scoped>\n",
       "    .dataframe tbody tr th:only-of-type {\n",
       "        vertical-align: middle;\n",
       "    }\n",
       "\n",
       "    .dataframe tbody tr th {\n",
       "        vertical-align: top;\n",
       "    }\n",
       "\n",
       "    .dataframe thead th {\n",
       "        text-align: right;\n",
       "    }\n",
       "</style>\n",
       "<table border=\"1\" class=\"dataframe\">\n",
       "  <thead>\n",
       "    <tr style=\"text-align: right;\">\n",
       "      <th></th>\n",
       "      <th>Yearly_Income</th>\n",
       "      <th>Age</th>\n",
       "      <th>Cust_Spend_Score</th>\n",
       "      <th>Cluster</th>\n",
       "    </tr>\n",
       "  </thead>\n",
       "  <tbody>\n",
       "    <tr>\n",
       "      <th>count</th>\n",
       "      <td>32.000000</td>\n",
       "      <td>32.000000</td>\n",
       "      <td>32.000000</td>\n",
       "      <td>32.0</td>\n",
       "    </tr>\n",
       "    <tr>\n",
       "      <th>mean</th>\n",
       "      <td>22000.000000</td>\n",
       "      <td>34.781250</td>\n",
       "      <td>51.531250</td>\n",
       "      <td>1.0</td>\n",
       "    </tr>\n",
       "    <tr>\n",
       "      <th>std</th>\n",
       "      <td>4765.467177</td>\n",
       "      <td>14.227947</td>\n",
       "      <td>32.921201</td>\n",
       "      <td>0.0</td>\n",
       "    </tr>\n",
       "    <tr>\n",
       "      <th>min</th>\n",
       "      <td>15000.000000</td>\n",
       "      <td>18.000000</td>\n",
       "      <td>1.000000</td>\n",
       "      <td>1.0</td>\n",
       "    </tr>\n",
       "    <tr>\n",
       "      <th>25%</th>\n",
       "      <td>18750.000000</td>\n",
       "      <td>22.750000</td>\n",
       "      <td>19.000000</td>\n",
       "      <td>1.0</td>\n",
       "    </tr>\n",
       "    <tr>\n",
       "      <th>50%</th>\n",
       "      <td>20500.000000</td>\n",
       "      <td>33.000000</td>\n",
       "      <td>52.500000</td>\n",
       "      <td>1.0</td>\n",
       "    </tr>\n",
       "    <tr>\n",
       "      <th>75%</th>\n",
       "      <td>25750.000000</td>\n",
       "      <td>42.500000</td>\n",
       "      <td>79.000000</td>\n",
       "      <td>1.0</td>\n",
       "    </tr>\n",
       "    <tr>\n",
       "      <th>max</th>\n",
       "      <td>30000.000000</td>\n",
       "      <td>69.000000</td>\n",
       "      <td>103.000000</td>\n",
       "      <td>1.0</td>\n",
       "    </tr>\n",
       "  </tbody>\n",
       "</table>\n",
       "</div>"
      ],
      "text/plain": [
       "       Yearly_Income        Age  Cust_Spend_Score  Cluster\n",
       "count      32.000000  32.000000         32.000000     32.0\n",
       "mean    22000.000000  34.781250         51.531250      1.0\n",
       "std      4765.467177  14.227947         32.921201      0.0\n",
       "min     15000.000000  18.000000          1.000000      1.0\n",
       "25%     18750.000000  22.750000         19.000000      1.0\n",
       "50%     20500.000000  33.000000         52.500000      1.0\n",
       "75%     25750.000000  42.500000         79.000000      1.0\n",
       "max     30000.000000  69.000000        103.000000      1.0"
      ]
     },
     "execution_count": 44,
     "metadata": {},
     "output_type": "execute_result"
    }
   ],
   "source": [
    "df1_num.loc[df1_num['Cluster']==1].describe()"
   ]
  },
  {
   "cell_type": "code",
   "execution_count": null,
   "metadata": {},
   "outputs": [],
   "source": [
    "Average Yearly income of customers in cluster 1 is 22k.\n",
    "Average Yearly Cust_Spend_Score of customers in cluster 1 is 51.5 units."
   ]
  },
  {
   "cell_type": "code",
   "execution_count": null,
   "metadata": {},
   "outputs": [],
   "source": [
    "##Customers in cluster number 1 are poor."
   ]
  },
  {
   "cell_type": "code",
   "execution_count": 53,
   "metadata": {},
   "outputs": [
    {
     "data": {
      "text/plain": [
       "48"
      ]
     },
     "execution_count": 53,
     "metadata": {},
     "output_type": "execute_result"
    }
   ],
   "source": [
    "len(df1_num.loc[df1_num['Cluster']==2])"
   ]
  },
  {
   "cell_type": "code",
   "execution_count": 57,
   "metadata": {
    "scrolled": true
   },
   "outputs": [
    {
     "data": {
      "text/html": [
       "<div>\n",
       "<style scoped>\n",
       "    .dataframe tbody tr th:only-of-type {\n",
       "        vertical-align: middle;\n",
       "    }\n",
       "\n",
       "    .dataframe tbody tr th {\n",
       "        vertical-align: top;\n",
       "    }\n",
       "\n",
       "    .dataframe thead th {\n",
       "        text-align: right;\n",
       "    }\n",
       "</style>\n",
       "<table border=\"1\" class=\"dataframe\">\n",
       "  <thead>\n",
       "    <tr style=\"text-align: right;\">\n",
       "      <th></th>\n",
       "      <th>Yearly_Income</th>\n",
       "      <th>Age</th>\n",
       "      <th>Cust_Spend_Score</th>\n",
       "      <th>Cluster</th>\n",
       "    </tr>\n",
       "  </thead>\n",
       "  <tbody>\n",
       "    <tr>\n",
       "      <th>count</th>\n",
       "      <td>14.000000</td>\n",
       "      <td>14.000000</td>\n",
       "      <td>14.000000</td>\n",
       "      <td>14.0</td>\n",
       "    </tr>\n",
       "    <tr>\n",
       "      <th>mean</th>\n",
       "      <td>102000.000000</td>\n",
       "      <td>35.500000</td>\n",
       "      <td>54.928571</td>\n",
       "      <td>5.0</td>\n",
       "    </tr>\n",
       "    <tr>\n",
       "      <th>std</th>\n",
       "      <td>5173.898991</td>\n",
       "      <td>6.980743</td>\n",
       "      <td>32.596518</td>\n",
       "      <td>0.0</td>\n",
       "    </tr>\n",
       "    <tr>\n",
       "      <th>min</th>\n",
       "      <td>97000.000000</td>\n",
       "      <td>26.000000</td>\n",
       "      <td>12.000000</td>\n",
       "      <td>5.0</td>\n",
       "    </tr>\n",
       "    <tr>\n",
       "      <th>25%</th>\n",
       "      <td>98250.000000</td>\n",
       "      <td>31.250000</td>\n",
       "      <td>24.250000</td>\n",
       "      <td>5.0</td>\n",
       "    </tr>\n",
       "    <tr>\n",
       "      <th>50%</th>\n",
       "      <td>101000.000000</td>\n",
       "      <td>34.500000</td>\n",
       "      <td>51.500000</td>\n",
       "      <td>5.0</td>\n",
       "    </tr>\n",
       "    <tr>\n",
       "      <th>75%</th>\n",
       "      <td>103000.000000</td>\n",
       "      <td>39.250000</td>\n",
       "      <td>89.000000</td>\n",
       "      <td>5.0</td>\n",
       "    </tr>\n",
       "    <tr>\n",
       "      <th>max</th>\n",
       "      <td>113000.000000</td>\n",
       "      <td>52.000000</td>\n",
       "      <td>95.000000</td>\n",
       "      <td>5.0</td>\n",
       "    </tr>\n",
       "  </tbody>\n",
       "</table>\n",
       "</div>"
      ],
      "text/plain": [
       "       Yearly_Income        Age  Cust_Spend_Score  Cluster\n",
       "count      14.000000  14.000000         14.000000     14.0\n",
       "mean   102000.000000  35.500000         54.928571      5.0\n",
       "std      5173.898991   6.980743         32.596518      0.0\n",
       "min     97000.000000  26.000000         12.000000      5.0\n",
       "25%     98250.000000  31.250000         24.250000      5.0\n",
       "50%    101000.000000  34.500000         51.500000      5.0\n",
       "75%    103000.000000  39.250000         89.000000      5.0\n",
       "max    113000.000000  52.000000         95.000000      5.0"
      ]
     },
     "execution_count": 57,
     "metadata": {},
     "output_type": "execute_result"
    }
   ],
   "source": [
    "(df1_num.loc[df1_num['Cluster']==5]).describe()"
   ]
  },
  {
   "cell_type": "code",
   "execution_count": null,
   "metadata": {},
   "outputs": [],
   "source": [
    "Average Yearly income of customers in cluster 5 is 1.02 lakhs.\n",
    "Average Yearly Cust_Spend_Score of customers in cluster 5 is 54.92 units."
   ]
  },
  {
   "cell_type": "code",
   "execution_count": null,
   "metadata": {},
   "outputs": [],
   "source": [
    "#The customers in cluster 5 are rich.#there are 14 customers in cluster number 5."
   ]
  },
  {
   "cell_type": "code",
   "execution_count": null,
   "metadata": {},
   "outputs": [],
   "source": []
  }
 ],
 "metadata": {
  "kernelspec": {
   "display_name": "Python 3",
   "language": "python",
   "name": "python3"
  },
  "language_info": {
   "codemirror_mode": {
    "name": "ipython",
    "version": 3
   },
   "file_extension": ".py",
   "mimetype": "text/x-python",
   "name": "python",
   "nbconvert_exporter": "python",
   "pygments_lexer": "ipython3",
   "version": "3.8.5"
  }
 },
 "nbformat": 4,
 "nbformat_minor": 4
}
