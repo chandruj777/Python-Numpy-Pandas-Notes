{
 "cells": [
  {
   "cell_type": "code",
   "execution_count": null,
   "metadata": {},
   "outputs": [],
   "source": [
    "#Python program to find floor and ceil of a number"
   ]
  },
  {
   "cell_type": "code",
   "execution_count": 1,
   "metadata": {},
   "outputs": [
    {
     "name": "stdout",
     "output_type": "stream",
     "text": [
      "enter the number to find the ceil of a number6.888\n"
     ]
    },
    {
     "data": {
      "text/plain": [
       "7"
      ]
     },
     "execution_count": 1,
     "metadata": {},
     "output_type": "execute_result"
    }
   ],
   "source": [
    "a=float(input(\"enter the number to find the ceil of a number\"))\n",
    "a+=1\n",
    "int(a)"
   ]
  },
  {
   "cell_type": "code",
   "execution_count": 6,
   "metadata": {
    "scrolled": false
   },
   "outputs": [
    {
     "name": "stdout",
     "output_type": "stream",
     "text": [
      "enter the nuber to find the floor of a number7.009\n"
     ]
    },
    {
     "data": {
      "text/plain": [
       "7"
      ]
     },
     "execution_count": 6,
     "metadata": {},
     "output_type": "execute_result"
    }
   ],
   "source": [
    "b=(input(\"enter the nuber to find the floor of a number\"))\n",
    "int(float(b))\n"
   ]
  },
  {
   "cell_type": "code",
   "execution_count": 3,
   "metadata": {},
   "outputs": [
    {
     "data": {
      "text/plain": [
       "3"
      ]
     },
     "execution_count": 3,
     "metadata": {},
     "output_type": "execute_result"
    }
   ],
   "source": [
    "int(3.08)"
   ]
  },
  {
   "cell_type": "code",
   "execution_count": null,
   "metadata": {},
   "outputs": [],
   "source": [
    "#Python program to get a string and put the vowels in a list."
   ]
  },
  {
   "cell_type": "code",
   "execution_count": 21,
   "metadata": {},
   "outputs": [
    {
     "ename": "KeyboardInterrupt",
     "evalue": "Interrupted by user",
     "output_type": "error",
     "traceback": [
      "\u001b[1;31m---------------------------------------------------------------------------\u001b[0m",
      "\u001b[1;31mKeyboardInterrupt\u001b[0m                         Traceback (most recent call last)",
      "\u001b[1;32m<ipython-input-21-912e959d2206>\u001b[0m in \u001b[0;36m<module>\u001b[1;34m\u001b[0m\n\u001b[0;32m      6\u001b[0m             \u001b[0mop\u001b[0m\u001b[1;33m+=\u001b[0m\u001b[0mi\u001b[0m\u001b[1;33m\u001b[0m\u001b[1;33m\u001b[0m\u001b[0m\n\u001b[0;32m      7\u001b[0m     \u001b[1;32mreturn\u001b[0m \u001b[0mop\u001b[0m\u001b[1;33m\u001b[0m\u001b[1;33m\u001b[0m\u001b[0m\n\u001b[1;32m----> 8\u001b[1;33m \u001b[0mstring\u001b[0m\u001b[1;33m=\u001b[0m\u001b[0minput\u001b[0m\u001b[1;33m(\u001b[0m\u001b[1;34m\"enter the string \"\u001b[0m\u001b[1;33m)\u001b[0m\u001b[1;33m\u001b[0m\u001b[1;33m\u001b[0m\u001b[0m\n\u001b[0m\u001b[0;32m      9\u001b[0m \u001b[0mprint\u001b[0m\u001b[1;33m(\u001b[0m\u001b[0mudf\u001b[0m\u001b[1;33m(\u001b[0m\u001b[0mstring\u001b[0m\u001b[1;33m)\u001b[0m\u001b[1;33m)\u001b[0m\u001b[1;33m\u001b[0m\u001b[1;33m\u001b[0m\u001b[0m\n",
      "\u001b[1;32m~\\anaconda\\lib\\site-packages\\ipykernel\\kernelbase.py\u001b[0m in \u001b[0;36mraw_input\u001b[1;34m(self, prompt)\u001b[0m\n\u001b[0;32m    858\u001b[0m                 \u001b[1;34m\"raw_input was called, but this frontend does not support input requests.\"\u001b[0m\u001b[1;33m\u001b[0m\u001b[1;33m\u001b[0m\u001b[0m\n\u001b[0;32m    859\u001b[0m             )\n\u001b[1;32m--> 860\u001b[1;33m         return self._input_request(str(prompt),\n\u001b[0m\u001b[0;32m    861\u001b[0m             \u001b[0mself\u001b[0m\u001b[1;33m.\u001b[0m\u001b[0m_parent_ident\u001b[0m\u001b[1;33m,\u001b[0m\u001b[1;33m\u001b[0m\u001b[1;33m\u001b[0m\u001b[0m\n\u001b[0;32m    862\u001b[0m             \u001b[0mself\u001b[0m\u001b[1;33m.\u001b[0m\u001b[0m_parent_header\u001b[0m\u001b[1;33m,\u001b[0m\u001b[1;33m\u001b[0m\u001b[1;33m\u001b[0m\u001b[0m\n",
      "\u001b[1;32m~\\anaconda\\lib\\site-packages\\ipykernel\\kernelbase.py\u001b[0m in \u001b[0;36m_input_request\u001b[1;34m(self, prompt, ident, parent, password)\u001b[0m\n\u001b[0;32m    902\u001b[0m             \u001b[1;32mexcept\u001b[0m \u001b[0mKeyboardInterrupt\u001b[0m\u001b[1;33m:\u001b[0m\u001b[1;33m\u001b[0m\u001b[1;33m\u001b[0m\u001b[0m\n\u001b[0;32m    903\u001b[0m                 \u001b[1;31m# re-raise KeyboardInterrupt, to truncate traceback\u001b[0m\u001b[1;33m\u001b[0m\u001b[1;33m\u001b[0m\u001b[1;33m\u001b[0m\u001b[0m\n\u001b[1;32m--> 904\u001b[1;33m                 \u001b[1;32mraise\u001b[0m \u001b[0mKeyboardInterrupt\u001b[0m\u001b[1;33m(\u001b[0m\u001b[1;34m\"Interrupted by user\"\u001b[0m\u001b[1;33m)\u001b[0m \u001b[1;32mfrom\u001b[0m \u001b[1;32mNone\u001b[0m\u001b[1;33m\u001b[0m\u001b[1;33m\u001b[0m\u001b[0m\n\u001b[0m\u001b[0;32m    905\u001b[0m             \u001b[1;32mexcept\u001b[0m \u001b[0mException\u001b[0m \u001b[1;32mas\u001b[0m \u001b[0me\u001b[0m\u001b[1;33m:\u001b[0m\u001b[1;33m\u001b[0m\u001b[1;33m\u001b[0m\u001b[0m\n\u001b[0;32m    906\u001b[0m                 \u001b[0mself\u001b[0m\u001b[1;33m.\u001b[0m\u001b[0mlog\u001b[0m\u001b[1;33m.\u001b[0m\u001b[0mwarning\u001b[0m\u001b[1;33m(\u001b[0m\u001b[1;34m\"Invalid Message:\"\u001b[0m\u001b[1;33m,\u001b[0m \u001b[0mexc_info\u001b[0m\u001b[1;33m=\u001b[0m\u001b[1;32mTrue\u001b[0m\u001b[1;33m)\u001b[0m\u001b[1;33m\u001b[0m\u001b[1;33m\u001b[0m\u001b[0m\n",
      "\u001b[1;31mKeyboardInterrupt\u001b[0m: Interrupted by user"
     ]
    }
   ],
   "source": [
    "def udf(string):\n",
    "    op=[]\n",
    "    vovels_list=['a','e','i','o','u']\n",
    "    for i in string:\n",
    "        if i.lower() in vovels_list:\n",
    "            op+=i\n",
    "    return op\n",
    "string=input(\"enter the string \")\n",
    "print(udf(string))"
   ]
  },
  {
   "cell_type": "code",
   "execution_count": 19,
   "metadata": {
    "scrolled": true
   },
   "outputs": [
    {
     "data": {
      "text/plain": [
       "'I'"
      ]
     },
     "execution_count": 19,
     "metadata": {},
     "output_type": "execute_result"
    }
   ],
   "source": [
    "\"i\".upper()"
   ]
  },
  {
   "cell_type": "code",
   "execution_count": null,
   "metadata": {},
   "outputs": [],
   "source": [
    "#3rd iteration i='E'"
   ]
  },
  {
   "cell_type": "code",
   "execution_count": 14,
   "metadata": {},
   "outputs": [
    {
     "data": {
      "text/plain": [
       "'e'"
      ]
     },
     "execution_count": 14,
     "metadata": {},
     "output_type": "execute_result"
    }
   ],
   "source": [
    "\"E\".lower()"
   ]
  },
  {
   "cell_type": "code",
   "execution_count": null,
   "metadata": {},
   "outputs": [],
   "source": [
    "#if condn:\n",
    "#if condn true then if loop stmts will be executed\n",
    "#if condn fails then if loop stmts are not executed\n",
    "#if is a keyword .if keyword is used to check a condn.\n"
   ]
  },
  {
   "cell_type": "code",
   "execution_count": null,
   "metadata": {},
   "outputs": [],
   "source": [
    "if condn:\n",
    "    {\n",
    "     #stmts\n",
    "    }\n",
    "\n",
    "\n",
    "if condn:\n",
    "    {\n",
    "     stmts\n",
    "    }\n",
    "stmts2\n",
    "#it will go to stmt 2.ctrl will omit stmts inside if.\n"
   ]
  },
  {
   "cell_type": "code",
   "execution_count": 3,
   "metadata": {
    "scrolled": false
   },
   "outputs": [
    {
     "name": "stdout",
     "output_type": "stream",
     "text": [
      "enter a number4\n",
      "hi\n"
     ]
    }
   ],
   "source": [
    "#input fun will get the value from user.input value in string.\n",
    "#int fun converts string to integer.#if keyword then a condn is there.\n",
    "#when condn true,if loop stmts executed.\n",
    "num=int(input(\"enter a number\"))\n",
    "if num>6:\n",
    "    print(num,\"is big number \")    \n",
    "print(\"hi\")\n"
   ]
  },
  {
   "cell_type": "code",
   "execution_count": 7,
   "metadata": {},
   "outputs": [],
   "source": [
    "import numpy as np"
   ]
  },
  {
   "cell_type": "code",
   "execution_count": 13,
   "metadata": {
    "scrolled": true
   },
   "outputs": [
    {
     "data": {
      "text/plain": [
       "(10.0, 3.0)"
      ]
     },
     "execution_count": 13,
     "metadata": {},
     "output_type": "execute_result"
    }
   ],
   "source": [
    "np.ceil(9.001),np.floor(3.999012)"
   ]
  },
  {
   "cell_type": "code",
   "execution_count": null,
   "metadata": {},
   "outputs": [],
   "source": [
    "#calculate the floor and ceil of a number without using numpy module."
   ]
  },
  {
   "cell_type": "code",
   "execution_count": 1,
   "metadata": {},
   "outputs": [
    {
     "name": "stdout",
     "output_type": "stream",
     "text": [
      "enter the number33\n",
      "hello\n"
     ]
    }
   ],
   "source": [
    "\n",
    "num=int(input(\"enter the number\"))\n",
    "if num>90:\n",
    "    {\n",
    "    print(\"hi\")\n",
    "    }\n",
    "print(\"hello\")\n",
    "\n"
   ]
  },
  {
   "cell_type": "code",
   "execution_count": null,
   "metadata": {
    "scrolled": false
   },
   "outputs": [],
   "source": [
    "num=int(input(\"enter a number\"))\n",
    "a=8\n",
    "num=a\n",
    "if num>6:\n",
    "    print(\"hello\")\n",
    "if num is a:\n",
    "    print(\"hey\")\n",
    "print(\"lol\")\n"
   ]
  },
  {
   "cell_type": "code",
   "execution_count": null,
   "metadata": {},
   "outputs": [],
   "source": [
    "#num=8,a=8\n",
    "# print(\"hi\")##\n",
    "#i get a number from user input\n",
    "#i am assigning 8 to a\n",
    "#i am checking if 10>6 or not\n",
    "#as if cond is true here,hello is printed\n",
    "#checks 2 nd if codn\n",
    "#if 10 is 8 or not\n",
    "#print(\"hi\")"
   ]
  },
  {
   "cell_type": "code",
   "execution_count": null,
   "metadata": {},
   "outputs": [],
   "source": [
    "#if,if else,elif"
   ]
  },
  {
   "cell_type": "code",
   "execution_count": null,
   "metadata": {},
   "outputs": [],
   "source": [
    "# area= pi r **2"
   ]
  },
  {
   "cell_type": "code",
   "execution_count": 24,
   "metadata": {
    "scrolled": true
   },
   "outputs": [
    {
     "name": "stdout",
     "output_type": "stream",
     "text": [
      "[1, 2, 3, 4] [4, 5, 6]\n",
      "[4, 5, 6] [4, 5, 6]\n"
     ]
    },
    {
     "data": {
      "text/plain": [
       "False"
      ]
     },
     "execution_count": 24,
     "metadata": {},
     "output_type": "execute_result"
    }
   ],
   "source": [
    "l1=[1,2,3,4]\n",
    "l2=[4,5,6]\n",
    "print(l1,l2)\n",
    "l1=l2 #i store l2 elements in l1 list\n",
    "print(l1,l2)\n",
    "\n",
    "(l1 is not l2)\n"
   ]
  },
  {
   "cell_type": "code",
   "execution_count": null,
   "metadata": {},
   "outputs": [],
   "source": [
    "#If-else \n",
    "if condition:\n",
    "    # stmt 1\n",
    "\n",
    "else:\n",
    "    # stmt 2"
   ]
  },
  {
   "cell_type": "code",
   "execution_count": null,
   "metadata": {},
   "outputs": [],
   "source": [
    "#if condn true,if loop stmts are executed.\n",
    "#if condn fails,else block stmts are executed.\n",
    "#ctrl comes to else block.if stmts are skipped"
   ]
  },
  {
   "cell_type": "code",
   "execution_count": null,
   "metadata": {},
   "outputs": [],
   "source": [
    "#skillrack"
   ]
  },
  {
   "cell_type": "code",
   "execution_count": 12,
   "metadata": {
    "scrolled": true
   },
   "outputs": [
    {
     "ename": "KeyboardInterrupt",
     "evalue": "Interrupted by user",
     "output_type": "error",
     "traceback": [
      "\u001b[1;31m---------------------------------------------------------------------------\u001b[0m",
      "\u001b[1;31mKeyboardInterrupt\u001b[0m                         Traceback (most recent call last)",
      "\u001b[1;32m<ipython-input-12-f5957a74d277>\u001b[0m in \u001b[0;36m<module>\u001b[1;34m\u001b[0m\n\u001b[1;32m----> 1\u001b[1;33m \u001b[0mx\u001b[0m\u001b[1;33m=\u001b[0m\u001b[0mint\u001b[0m\u001b[1;33m(\u001b[0m\u001b[0minput\u001b[0m\u001b[1;33m(\u001b[0m\u001b[1;34m\"enter the value\"\u001b[0m\u001b[1;33m)\u001b[0m\u001b[1;33m)\u001b[0m\u001b[1;33m\u001b[0m\u001b[1;33m\u001b[0m\u001b[0m\n\u001b[0m\u001b[0;32m      2\u001b[0m \u001b[1;32mif\u001b[0m \u001b[0mx\u001b[0m\u001b[1;33m<\u001b[0m\u001b[1;36m10\u001b[0m\u001b[1;33m:\u001b[0m\u001b[1;33m\u001b[0m\u001b[1;33m\u001b[0m\u001b[0m\n\u001b[0;32m      3\u001b[0m \u001b[1;33m\u001b[0m\u001b[0m\n\u001b[0;32m      4\u001b[0m     \u001b[0mprint\u001b[0m\u001b[1;33m(\u001b[0m\u001b[1;34m\"below 10\"\u001b[0m\u001b[1;33m)\u001b[0m\u001b[1;33m\u001b[0m\u001b[1;33m\u001b[0m\u001b[0m\n\u001b[0;32m      5\u001b[0m \u001b[1;32melse\u001b[0m\u001b[1;33m:\u001b[0m\u001b[1;33m\u001b[0m\u001b[1;33m\u001b[0m\u001b[0m\n",
      "\u001b[1;32m~\\anaconda\\lib\\site-packages\\ipykernel\\kernelbase.py\u001b[0m in \u001b[0;36mraw_input\u001b[1;34m(self, prompt)\u001b[0m\n\u001b[0;32m    858\u001b[0m                 \u001b[1;34m\"raw_input was called, but this frontend does not support input requests.\"\u001b[0m\u001b[1;33m\u001b[0m\u001b[1;33m\u001b[0m\u001b[0m\n\u001b[0;32m    859\u001b[0m             )\n\u001b[1;32m--> 860\u001b[1;33m         return self._input_request(str(prompt),\n\u001b[0m\u001b[0;32m    861\u001b[0m             \u001b[0mself\u001b[0m\u001b[1;33m.\u001b[0m\u001b[0m_parent_ident\u001b[0m\u001b[1;33m,\u001b[0m\u001b[1;33m\u001b[0m\u001b[1;33m\u001b[0m\u001b[0m\n\u001b[0;32m    862\u001b[0m             \u001b[0mself\u001b[0m\u001b[1;33m.\u001b[0m\u001b[0m_parent_header\u001b[0m\u001b[1;33m,\u001b[0m\u001b[1;33m\u001b[0m\u001b[1;33m\u001b[0m\u001b[0m\n",
      "\u001b[1;32m~\\anaconda\\lib\\site-packages\\ipykernel\\kernelbase.py\u001b[0m in \u001b[0;36m_input_request\u001b[1;34m(self, prompt, ident, parent, password)\u001b[0m\n\u001b[0;32m    902\u001b[0m             \u001b[1;32mexcept\u001b[0m \u001b[0mKeyboardInterrupt\u001b[0m\u001b[1;33m:\u001b[0m\u001b[1;33m\u001b[0m\u001b[1;33m\u001b[0m\u001b[0m\n\u001b[0;32m    903\u001b[0m                 \u001b[1;31m# re-raise KeyboardInterrupt, to truncate traceback\u001b[0m\u001b[1;33m\u001b[0m\u001b[1;33m\u001b[0m\u001b[1;33m\u001b[0m\u001b[0m\n\u001b[1;32m--> 904\u001b[1;33m                 \u001b[1;32mraise\u001b[0m \u001b[0mKeyboardInterrupt\u001b[0m\u001b[1;33m(\u001b[0m\u001b[1;34m\"Interrupted by user\"\u001b[0m\u001b[1;33m)\u001b[0m \u001b[1;32mfrom\u001b[0m \u001b[1;32mNone\u001b[0m\u001b[1;33m\u001b[0m\u001b[1;33m\u001b[0m\u001b[0m\n\u001b[0m\u001b[0;32m    905\u001b[0m             \u001b[1;32mexcept\u001b[0m \u001b[0mException\u001b[0m \u001b[1;32mas\u001b[0m \u001b[0me\u001b[0m\u001b[1;33m:\u001b[0m\u001b[1;33m\u001b[0m\u001b[1;33m\u001b[0m\u001b[0m\n\u001b[0;32m    906\u001b[0m                 \u001b[0mself\u001b[0m\u001b[1;33m.\u001b[0m\u001b[0mlog\u001b[0m\u001b[1;33m.\u001b[0m\u001b[0mwarning\u001b[0m\u001b[1;33m(\u001b[0m\u001b[1;34m\"Invalid Message:\"\u001b[0m\u001b[1;33m,\u001b[0m \u001b[0mexc_info\u001b[0m\u001b[1;33m=\u001b[0m\u001b[1;32mTrue\u001b[0m\u001b[1;33m)\u001b[0m\u001b[1;33m\u001b[0m\u001b[1;33m\u001b[0m\u001b[0m\n",
      "\u001b[1;31mKeyboardInterrupt\u001b[0m: Interrupted by user"
     ]
    }
   ],
   "source": [
    "x=int(input(\"enter the value\"))\n",
    "if x<10:\n",
    "    \n",
    "    print(\"below 10\")\n",
    "else:\n",
    "    print(\"above 10\")\n",
    "#either if or else will be executed."
   ]
  },
  {
   "cell_type": "code",
   "execution_count": 27,
   "metadata": {},
   "outputs": [
    {
     "name": "stdout",
     "output_type": "stream",
     "text": [
      "The largest number is 160\n"
     ]
    }
   ],
   "source": [
    "a=50\n",
    "b=160\n",
    "c=90\n",
    "if a >= b and a >= c:\n",
    "    \n",
    "    largest = a\n",
    "elif b >=c:\n",
    "    \n",
    "    largest = b\n",
    "else:\n",
    "    largest = c\n",
    "\n",
    "print(\"The largest number is\", largest)"
   ]
  },
  {
   "cell_type": "code",
   "execution_count": null,
   "metadata": {},
   "outputs": [],
   "source": [
    "a>b and a>c then a is larger number\n",
    "step2:if b>c b is largest\n",
    "step3:else c is largest"
   ]
  },
  {
   "cell_type": "code",
   "execution_count": 19,
   "metadata": {},
   "outputs": [],
   "source": [
    "#python program to get a string of characters and put vovels in the list.case sensitive\n",
    "#condn ust be checked."
   ]
  },
  {
   "cell_type": "code",
   "execution_count": 6,
   "metadata": {},
   "outputs": [
    {
     "name": "stdout",
     "output_type": "stream",
     "text": [
      "cja\n",
      "['a']\n"
     ]
    }
   ],
   "source": [
    "mystr=input(\"\")\n",
    "vovel_list=[]\n",
    "mylist=['a','e','i','o','u']\n",
    "for i in mystr:    \n",
    "    if i.lower() in mylist:        \n",
    "        vovel_list+=i        \n",
    "print(vovel_list) \n"
   ]
  },
  {
   "cell_type": "code",
   "execution_count": null,
   "metadata": {},
   "outputs": [],
   "source": [
    "#vowellist=vowelist+i\n",
    "#vowelist=['A','e']\n",
    "        \n",
    "# vovel_list+=i   is same as mylist.append(i)\n",
    "#both code append element in the list\n",
    "#i.lower() is different from i.islower()\n",
    "#A is converted to lower case and checked in the condn.A will be displayed\n",
    "#as it is in the op list.A is a vowel.a is a vowel."
   ]
  },
  {
   "cell_type": "code",
   "execution_count": 29,
   "metadata": {},
   "outputs": [],
   "source": [
    "import numpy as np"
   ]
  },
  {
   "cell_type": "code",
   "execution_count": 30,
   "metadata": {},
   "outputs": [],
   "source": [
    "choices=['a','b','c']"
   ]
  },
  {
   "cell_type": "code",
   "execution_count": 41,
   "metadata": {},
   "outputs": [
    {
     "data": {
      "text/plain": [
       "'b'"
      ]
     },
     "execution_count": 41,
     "metadata": {},
     "output_type": "execute_result"
    }
   ],
   "source": [
    "np.random.choice(choices)"
   ]
  },
  {
   "cell_type": "code",
   "execution_count": 9,
   "metadata": {},
   "outputs": [],
   "source": [
    "\n",
    "# np.random.choices error"
   ]
  },
  {
   "cell_type": "code",
   "execution_count": null,
   "metadata": {},
   "outputs": [],
   "source": [
    "#i=a,vovlist=a\n",
    "#i=E,vovlist=['a','b']"
   ]
  },
  {
   "cell_type": "code",
   "execution_count": null,
   "metadata": {},
   "outputs": [],
   "source": []
  },
  {
   "cell_type": "code",
   "execution_count": null,
   "metadata": {},
   "outputs": [],
   "source": []
  },
  {
   "cell_type": "code",
   "execution_count": null,
   "metadata": {},
   "outputs": [],
   "source": [
    "\"123cha#$%\"\n",
    "print(\"integers are\",1237)\n",
    "print(\"special characters are\",#$%)\n",
    "#step1:iterate through all characters in the string\n",
    "#step2:if numeric value put it in num list\n",
    "#step3:if special char put it in a special char list.\n"
   ]
  },
  {
   "cell_type": "code",
   "execution_count": null,
   "metadata": {},
   "outputs": [],
   "source": []
  },
  {
   "cell_type": "code",
   "execution_count": null,
   "metadata": {},
   "outputs": [],
   "source": [
    "#Python program to demonstrate the working of traffic lights elif concepts."
   ]
  },
  {
   "cell_type": "code",
   "execution_count": 10,
   "metadata": {},
   "outputs": [
    {
     "name": "stdout",
     "output_type": "stream",
     "text": [
      "yellOW\n",
      "Car should WAIT\n"
     ]
    }
   ],
   "source": [
    "a=input()\n",
    "if a.upper()=='RED':    \n",
    "    print(\"Car should STOP\")\n",
    "elif a.upper()=='YELLOW':\n",
    "    print(\"Car should WAIT\")\n",
    "elif a.upper()=='GREEN':        \n",
    "    print(\"Car should GO\")\n",
    "else:\n",
    "    print(\"in valid signal\")\n"
   ]
  },
  {
   "cell_type": "code",
   "execution_count": null,
   "metadata": {},
   "outputs": [],
   "source": []
  },
  {
   "cell_type": "code",
   "execution_count": 1,
   "metadata": {},
   "outputs": [
    {
     "name": "stdout",
     "output_type": "stream",
     "text": [
      "      *      \n",
      "     ***     \n",
      "    *****    \n",
      "   *******   \n",
      "  *********  \n"
     ]
    }
   ],
   "source": [
    "#print triangle\n",
    "\n",
    "print(\"     \",\"*\",\"     \")\n",
    "print(\"    \",\"***\",\"    \")\n",
    "print(\"   \",\"*****\",\"   \")\n",
    "print(\"  \",\"*******\",\"  \")\n",
    "print(\" \",\"*********\",\" \")\n",
    "\n"
   ]
  },
  {
   "cell_type": "code",
   "execution_count": null,
   "metadata": {},
   "outputs": [],
   "source": [
    "a=int(input())\n",
    "b=int(input())\n",
    "c=int(input())\n",
    "if a>b and a>c:\n",
    "    print(\"a\")\n",
    "elif b>c:\n",
    "    print(\"b\")\n",
    "else:\n",
    "    print(\"c\")"
   ]
  },
  {
   "cell_type": "code",
   "execution_count": 12,
   "metadata": {},
   "outputs": [
    {
     "name": "stdout",
     "output_type": "stream",
     "text": [
      "12\n"
     ]
    }
   ],
   "source": [
    "def max_of_three(a, b, c):\n",
    "    if a > b and a > c:\n",
    "        return a\n",
    "    elif b > c:\n",
    "        return b\n",
    "    else:\n",
    "        return c\n",
    "print(max_of_three(10, 12, 3))"
   ]
  },
  {
   "cell_type": "code",
   "execution_count": 12,
   "metadata": {},
   "outputs": [
    {
     "name": "stdout",
     "output_type": "stream",
     "text": [
      "enter the value8\n",
      "below 10\n"
     ]
    }
   ],
   "source": [
    "x=int(input(\"enter the value\"))\n",
    "\n",
    "if x<10:\n",
    "    \n",
    "    print(\"below 10\")\n",
    "else:\n",
    "    print(\"above or equal 10\")\n",
    "\n"
   ]
  },
  {
   "cell_type": "code",
   "execution_count": null,
   "metadata": {},
   "outputs": [],
   "source": [
    "#The elif keyword is pythons way of saying \"if the previous conditions were not true, then try this condition\"."
   ]
  },
  {
   "cell_type": "code",
   "execution_count": null,
   "metadata": {},
   "outputs": [],
   "source": [
    "#elif???to check multiple if condns one by one.each if condn will have  a stmt or mathematical operation."
   ]
  },
  {
   "cell_type": "markdown",
   "metadata": {},
   "source": [
    "calculate the total electricity bill according to the given conditions:\n",
    "Get the customer name,address,old reading,new reading\n",
    "For first 50 units Rs. 0.50/unit\n",
    "For next 100 units Rs. 0.75/unit\n",
    "For next 100 units Rs. 1.20/unit\n",
    "For next 'n' units Rs. 1.50/unit\n",
    "An additional surcharge of 20% is added to the bill."
   ]
  },
  {
   "cell_type": "code",
   "execution_count": 53,
   "metadata": {},
   "outputs": [
    {
     "data": {
      "text/plain": [
       "670.0"
      ]
     },
     "execution_count": 53,
     "metadata": {},
     "output_type": "execute_result"
    }
   ],
   "source": [
    "u=550\n",
    "50*0.5+100*0.75+100*1.2+(u-250)*1.5"
   ]
  },
  {
   "cell_type": "code",
   "execution_count": null,
   "metadata": {},
   "outputs": [],
   "source": []
  },
  {
   "cell_type": "code",
   "execution_count": 44,
   "metadata": {},
   "outputs": [
    {
     "data": {
      "text/plain": [
       "40.0"
      ]
     },
     "execution_count": 44,
     "metadata": {},
     "output_type": "execute_result"
    }
   ],
   "source": [
    "u=70\n",
    "50*0.5+(u-50)*0.75"
   ]
  },
  {
   "cell_type": "code",
   "execution_count": 47,
   "metadata": {},
   "outputs": [
    {
     "data": {
      "text/plain": [
       "92.5"
      ]
     },
     "execution_count": 47,
     "metadata": {},
     "output_type": "execute_result"
    }
   ],
   "source": [
    "u=140\n",
    "50*0.5+(u-50)*0.75"
   ]
  },
  {
   "cell_type": "code",
   "execution_count": 52,
   "metadata": {},
   "outputs": [
    {
     "data": {
      "text/plain": [
       "208.0"
      ]
     },
     "execution_count": 52,
     "metadata": {},
     "output_type": "execute_result"
    }
   ],
   "source": [
    "u=240\n",
    "50*0.5+100*0.75+90*1.2#rs"
   ]
  },
  {
   "cell_type": "code",
   "execution_count": 51,
   "metadata": {},
   "outputs": [
    {
     "data": {
      "text/plain": [
       "90"
      ]
     },
     "execution_count": 51,
     "metadata": {},
     "output_type": "execute_result"
    }
   ],
   "source": [
    "240-150"
   ]
  },
  {
   "cell_type": "code",
   "execution_count": null,
   "metadata": {},
   "outputs": [],
   "source": []
  },
  {
   "cell_type": "code",
   "execution_count": 46,
   "metadata": {},
   "outputs": [
    {
     "data": {
      "text/plain": [
       "90"
      ]
     },
     "execution_count": 46,
     "metadata": {},
     "output_type": "execute_result"
    }
   ],
   "source": [
    "u-50"
   ]
  },
  {
   "cell_type": "code",
   "execution_count": null,
   "metadata": {},
   "outputs": [],
   "source": [
    "#The 4 conditions given in the question are applied to any units value entered\n",
    "#by us."
   ]
  },
  {
   "cell_type": "code",
   "execution_count": 54,
   "metadata": {
    "scrolled": false
   },
   "outputs": [
    {
     "name": "stdout",
     "output_type": "stream",
     "text": [
      "name of the customerghjk\n",
      "enter the old reading550\n",
      "enter the new reading850\n",
      "Total Bill 354.0\n"
     ]
    }
   ],
   "source": [
    "name=input(\"name of the customer\")\n",
    "old=int(input(\"enter the old reading\"))\n",
    "new=int(input(\"enter the new reading\"))\n",
    "units=new-old\n",
    "if units<=50:\n",
    "    amt=units*0.5\n",
    "elif units>50 and units<=150:\n",
    "    amt=50*0.5+(units-50)*0.75\n",
    "elif units>150 and units<=250:\n",
    "    amt=50*0.5+100*0.75+(units-150)*1.2\n",
    "elif units>250:\n",
    "    amt=50*0.5+100*0.75+100*1.2+(units-250)*1.5\n",
    "print(\"Total Bill\",amt+0.2*amt)\n",
    "#25+75+120+75 "
   ]
  },
  {
   "cell_type": "code",
   "execution_count": null,
   "metadata": {},
   "outputs": [],
   "source": [
    "190\n"
   ]
  },
  {
   "cell_type": "code",
   "execution_count": 13,
   "metadata": {},
   "outputs": [
    {
     "data": {
      "text/plain": [
       "177.6"
      ]
     },
     "execution_count": 13,
     "metadata": {},
     "output_type": "execute_result"
    }
   ],
   "source": [
    "0.2*148+148"
   ]
  },
  {
   "cell_type": "code",
   "execution_count": 11,
   "metadata": {},
   "outputs": [
    {
     "data": {
      "text/plain": [
       "148.0"
      ]
     },
     "execution_count": 11,
     "metadata": {},
     "output_type": "execute_result"
    }
   ],
   "source": [
    "amt1=50*0.5\n",
    "amt2=100*0.75\n",
    "amt3=(190-150)*1.2\n",
    "amt1+amt2+amt3"
   ]
  },
  {
   "cell_type": "code",
   "execution_count": 13,
   "metadata": {},
   "outputs": [
    {
     "data": {
      "text/plain": [
       "295"
      ]
     },
     "execution_count": 13,
     "metadata": {},
     "output_type": "execute_result"
    }
   ],
   "source": [
    "25+75+120+75"
   ]
  },
  {
   "cell_type": "code",
   "execution_count": 14,
   "metadata": {
    "scrolled": true
   },
   "outputs": [
    {
     "data": {
      "text/plain": [
       "59.0"
      ]
     },
     "execution_count": 14,
     "metadata": {},
     "output_type": "execute_result"
    }
   ],
   "source": [
    "0.2*295"
   ]
  },
  {
   "cell_type": "code",
   "execution_count": 12,
   "metadata": {},
   "outputs": [
    {
     "data": {
      "text/plain": [
       "75.0"
      ]
     },
     "execution_count": 12,
     "metadata": {},
     "output_type": "execute_result"
    }
   ],
   "source": [
    "50*1.5"
   ]
  },
  {
   "cell_type": "code",
   "execution_count": 2,
   "metadata": {},
   "outputs": [
    {
     "name": "stdout",
     "output_type": "stream",
     "text": [
      "name of the customercha\n",
      "enter the old reading1500\n",
      "enter the new reading2000\n",
      "units consumed 500\n",
      "name of the customer cha\n",
      "total bill is : 900.0\n"
     ]
    }
   ],
   "source": [
    "#elif concept\n",
    "name=input(\"name of the customer\")\n",
    "old=int(input(\"enter the old reading\"))\n",
    "new=int(input(\"enter the new reading\"))\n",
    "units=new-old\n",
    "if units<=50:\n",
    "    amt=0.5*units\n",
    "#     sur=0.2*amt\n",
    "elif units>50 and units<=150:\n",
    "    amt=0.75*units\n",
    "#     sur=0.2*amt\n",
    "elif units>150 and units<=250:\n",
    "    amt=1.2*units\n",
    "#     sur=0.2*amt\n",
    "else:\n",
    "    amt=1.5*units\n",
    "#     sur=0.2*amt\n",
    "print(\"units consumed\",units)\n",
    "print(\"name of the customer\",name)\n",
    "print(\"total bill is :\",amt+0.2*amt)\n",
    "##commercial household prize little high\n",
    "#"
   ]
  },
  {
   "cell_type": "code",
   "execution_count": null,
   "metadata": {},
   "outputs": [],
   "source": [
    "#Python program to calculate the tax of employees based on their individual salaries."
   ]
  },
  {
   "cell_type": "code",
   "execution_count": 31,
   "metadata": {},
   "outputs": [
    {
     "name": "stdout",
     "output_type": "stream",
     "text": [
      "-1\n",
      "2\n",
      "5\n",
      "8\n"
     ]
    }
   ],
   "source": [
    "for i in range(2,12,+3):\n",
    "    print(i-3)"
   ]
  },
  {
   "cell_type": "code",
   "execution_count": null,
   "metadata": {},
   "outputs": [],
   "source": []
  },
  {
   "cell_type": "code",
   "execution_count": 1,
   "metadata": {},
   "outputs": [
    {
     "name": "stdout",
     "output_type": "stream",
     "text": [
      "no tax\n",
      "tax is  56000.0\n",
      "tax is  22000.0\n",
      "tax is  355400.0\n"
     ]
    }
   ],
   "source": [
    "l1=[100000,560000,440000,1777000]\n",
    "for i in range(0,len(l1)):#i=0,1,2,3\n",
    "    if l1[i]>0 and l1[i]<250000:\n",
    "        print(\"no tax\")\n",
    "    elif l1[i]>=250000 and l1[i]<500000:\n",
    "        print(\"tax is \",0.05*l1[i])\n",
    "    elif l1[i]>=500000 and l1[i]<1000000:\n",
    "        print(\"tax is \",0.1*l1[i])\n",
    "    elif l1[i]>1000000 and l1[i]<=2000000:\n",
    "        print(\"tax is \",0.2*l1[i])\n",
    "\n",
    "#When i put multiple if condn one by one all if condn will be checked irrespective it is true or false\n",
    "#\n",
    "#When 2 elif condns are true,1 st elif condn stmt will  be executed.2 nd elif cndn stmt will not be\n",
    "#executed even as it is true."
   ]
  },
  {
   "cell_type": "code",
   "execution_count": 16,
   "metadata": {},
   "outputs": [
    {
     "data": {
      "text/plain": [
       "400000.0"
      ]
     },
     "execution_count": 16,
     "metadata": {},
     "output_type": "execute_result"
    }
   ],
   "source": [
    "0.2*2000000"
   ]
  },
  {
   "cell_type": "code",
   "execution_count": null,
   "metadata": {},
   "outputs": [],
   "source": [
    "#When we have multiple elif condns,the elif condn which is true its stmt is executed.other elif condns will not be checked.\n",
    "#When we have multiple if conds,when one  if condn is true other if condns will be checked too."
   ]
  },
  {
   "cell_type": "code",
   "execution_count": null,
   "metadata": {},
   "outputs": [],
   "source": [
    "\n",
    "\n"
   ]
  },
  {
   "cell_type": "code",
   "execution_count": null,
   "metadata": {},
   "outputs": [],
   "source": []
  },
  {
   "cell_type": "code",
   "execution_count": 4,
   "metadata": {},
   "outputs": [],
   "source": [
    "#270\n"
   ]
  },
  {
   "cell_type": "code",
   "execution_count": 5,
   "metadata": {},
   "outputs": [],
   "source": [
    "# 170-50"
   ]
  },
  {
   "cell_type": "code",
   "execution_count": null,
   "metadata": {},
   "outputs": [],
   "source": [
    "#When i mention multiple if condns one by one\n",
    "#all if condns will be checked.even if one if condn fails other if condns will be checked and their stmts will get executed.\n"
   ]
  },
  {
   "cell_type": "code",
   "execution_count": null,
   "metadata": {},
   "outputs": [],
   "source": [
    "#there is no need to use elif to check the units>250 because the units will be more than 250 units.so just use else\n",
    "#block and its expression."
   ]
  },
  {
   "cell_type": "code",
   "execution_count": null,
   "metadata": {
    "scrolled": true
   },
   "outputs": [],
   "source": [
    "\n",
    "\n"
   ]
  },
  {
   "cell_type": "code",
   "execution_count": null,
   "metadata": {},
   "outputs": [],
   "source": [
    "#positive_num>0,num<0,-1,-2,-3,-4\n",
    "#"
   ]
  },
  {
   "cell_type": "code",
   "execution_count": 1,
   "metadata": {},
   "outputs": [],
   "source": [
    "#python program to ckeck if a num is 0 or positive or negative.(elif block)"
   ]
  },
  {
   "cell_type": "code",
   "execution_count": 20,
   "metadata": {},
   "outputs": [
    {
     "name": "stdout",
     "output_type": "stream",
     "text": [
      "enter the number0\n",
      "print 0\n"
     ]
    }
   ],
   "source": [
    "num=int(input(\"enter the number\"))\n",
    "if num<0:\n",
    "    print(\"negative number\")\n",
    "elif num>0:\n",
    "    print(\"positive number\")\n",
    "else:\n",
    "    print(\"print 0\")\n",
    "#i get input from user\n",
    "#if  0<0 false so if loop omited\n",
    "#ctrl checks elif condn 0>0 false so elif stmts is not executed\n",
    "#ctrl to else block print 0"
   ]
  },
  {
   "cell_type": "code",
   "execution_count": 23,
   "metadata": {},
   "outputs": [
    {
     "name": "stdout",
     "output_type": "stream",
     "text": [
      "enter the number5\n",
      "positive number\n"
     ]
    }
   ],
   "source": [
    "num=int(input(\"enter the number\"))\n",
    "if num<0:\n",
    "    print(\"negative number\")\n",
    "elif num>0:\n",
    "    print(\"positive number\")\n",
    "else:\n",
    "    print(\"print 0\")\n"
   ]
  },
  {
   "cell_type": "code",
   "execution_count": null,
   "metadata": {},
   "outputs": [],
   "source": [
    "#1,2,3,4-positive numbers\n",
    "#-1,-2,-3-negative numbers"
   ]
  },
  {
   "cell_type": "code",
   "execution_count": null,
   "metadata": {},
   "outputs": [],
   "source": []
  },
  {
   "cell_type": "code",
   "execution_count": 32,
   "metadata": {},
   "outputs": [
    {
     "name": "stdout",
     "output_type": "stream",
     "text": [
      "enter the mark95\n",
      "excellet\n"
     ]
    }
   ],
   "source": [
    "#mark>90-excellet\n",
    "#mark>70-good\n",
    "#mark>35-passed\n",
    "#mark<35-failed\n",
    "\n",
    "mark=int(input(\"enter the mark\"))\n",
    "if mark>90:\n",
    "    print(\"excellent\")\n",
    "elif mark>70:\n",
    "    print(\"good\")\n",
    "elif mark>=35:\n",
    "    print(\"pass\")\n",
    "else:\n",
    "    print(\"fail\")"
   ]
  },
  {
   "cell_type": "code",
   "execution_count": 13,
   "metadata": {},
   "outputs": [],
   "source": [
    "#if else:either if or else will be executed."
   ]
  },
  {
   "cell_type": "code",
   "execution_count": null,
   "metadata": {},
   "outputs": [],
   "source": []
  },
  {
   "cell_type": "code",
   "execution_count": 3,
   "metadata": {
    "scrolled": false
   },
   "outputs": [],
   "source": [
    "# mylist=['birds','fruits']\n",
    "# mylist1=['birds','fruits1155']\n",
    "\n",
    "# mylist=mylist1\n",
    "# l3=mylist\n",
    "# if l3 is mylist:\n",
    "#     print(\"hello\")\n",
    "# print(\"ji\")\n"
   ]
  },
  {
   "cell_type": "code",
   "execution_count": null,
   "metadata": {
    "scrolled": true
   },
   "outputs": [],
   "source": [
    "# mylist=['birds','fruits']\n",
    "# mylist1=['birds','fruits1155']\n",
    "# #print(mylist,mylist1)\n",
    "# mylist=mylist1\n",
    "# #print(mylist,mylist1)\n",
    "# if mylist is mylist1:\n",
    "#     print(\"hello\")\n",
    "# print(\"ji\")\n",
    "# #type the working of this prog"
   ]
  },
  {
   "cell_type": "code",
   "execution_count": null,
   "metadata": {},
   "outputs": [],
   "source": [
    "#For loop:use is to  execute group of codes/stmts again and again\n",
    "#for loop iteraates(takes) through all elements in the list/tuple/dict one by one.\n",
    "#for loop iterates(takes) through all characters in the string one by one."
   ]
  },
  {
   "cell_type": "code",
   "execution_count": null,
   "metadata": {},
   "outputs": [],
   "source": []
  },
  {
   "cell_type": "code",
   "execution_count": null,
   "metadata": {},
   "outputs": [],
   "source": []
  },
  {
   "cell_type": "code",
   "execution_count": null,
   "metadata": {},
   "outputs": [],
   "source": []
  },
  {
   "cell_type": "code",
   "execution_count": null,
   "metadata": {},
   "outputs": [],
   "source": [
    "#2)range fun gives us range of numbers from 0 to n-1."
   ]
  },
  {
   "cell_type": "code",
   "execution_count": 5,
   "metadata": {
    "scrolled": true
   },
   "outputs": [
    {
     "name": "stdout",
     "output_type": "stream",
     "text": [
      "1\n",
      "4\n",
      "7\n",
      "10\n"
     ]
    }
   ],
   "source": [
    "for i in range(1,12,3):\n",
    "    print(i)\n",
    "#python prog to print 1 st 10 positive integers using for loop"
   ]
  },
  {
   "cell_type": "code",
   "execution_count": 4,
   "metadata": {},
   "outputs": [
    {
     "name": "stdout",
     "output_type": "stream",
     "text": [
      "1\n",
      "3\n",
      "5\n",
      "7\n",
      "9\n"
     ]
    }
   ],
   "source": [
    "for i in range(1,11,+2):\n",
    "    print(i)"
   ]
  },
  {
   "cell_type": "code",
   "execution_count": 37,
   "metadata": {},
   "outputs": [
    {
     "name": "stdout",
     "output_type": "stream",
     "text": [
      "18\n",
      "11\n"
     ]
    }
   ],
   "source": [
    "#python prog to print  odd integers from 0 to 10 using for loop\n",
    "#1,3,5,7,9\n",
    "for i in range(18,5,-7):\n",
    "    print(i)\n"
   ]
  },
  {
   "cell_type": "code",
   "execution_count": null,
   "metadata": {},
   "outputs": [],
   "source": []
  },
  {
   "cell_type": "code",
   "execution_count": null,
   "metadata": {},
   "outputs": [],
   "source": []
  },
  {
   "cell_type": "code",
   "execution_count": null,
   "metadata": {},
   "outputs": [],
   "source": []
  },
  {
   "cell_type": "code",
   "execution_count": null,
   "metadata": {},
   "outputs": [],
   "source": []
  },
  {
   "cell_type": "code",
   "execution_count": null,
   "metadata": {},
   "outputs": [],
   "source": []
  },
  {
   "cell_type": "code",
   "execution_count": 11,
   "metadata": {
    "scrolled": false
   },
   "outputs": [
    {
     "name": "stdout",
     "output_type": "stream",
     "text": [
      "Enter no: 4\n",
      "     *\n",
      "    ***\n",
      "   *****\n",
      "  *******\n"
     ]
    }
   ],
   "source": [
    "n = int(input(\"Enter no: \"))#n=4\n",
    "a=1\n",
    "\n",
    "\n",
    "for x in range(1,n+1):#x=1,2,3,4\n",
    "    print(\" \"*n,end=\" \")\n",
    "    n=n-1\n",
    "    print(\"*\"*a)\n",
    "    a += 2\n",
    "    \n",
    "#     *\n",
    "#    ***    \n",
    "#   *****\n",
    "#1 st iter,x=1,b=4,a=3\n",
    "# 2nd iter,b=3,a=5\n",
    "# 3rd iter,\n",
    "\n",
    "\n",
    "\n",
    "#2nd iter,x=2,b=4 then 3,a=5\n",
    "#3 rd iter,x=4,\n",
    "#     *   \n",
    "#    ***   \n",
    "#   *****\n",
    "#  *******\n",
    "    \n",
    "\n",
    "     \n",
    "\n",
    "# 2nd print stmts will be printed along 1 st print stmt when end=\" \""
   ]
  },
  {
   "cell_type": "code",
   "execution_count": 8,
   "metadata": {
    "scrolled": true
   },
   "outputs": [
    {
     "name": "stdout",
     "output_type": "stream",
     "text": [
      "raj student\n"
     ]
    }
   ],
   "source": [
    "print(\"raj\",end=\" \")\n",
    "print(\"student\")"
   ]
  },
  {
   "cell_type": "code",
   "execution_count": null,
   "metadata": {},
   "outputs": [],
   "source": [
    "    *\n",
    "   ***\n",
    "  *****"
   ]
  },
  {
   "cell_type": "code",
   "execution_count": 27,
   "metadata": {},
   "outputs": [
    {
     "name": "stdout",
     "output_type": "stream",
     "text": [
      "chandru\n",
      "cj\n"
     ]
    }
   ],
   "source": [
    "#the print stmt ends with  \" space\"\n",
    "##the print stmt ends with  \"@\""
   ]
  },
  {
   "cell_type": "code",
   "execution_count": null,
   "metadata": {},
   "outputs": [],
   "source": [
    "#for?to execute group of stmts multiple times.\n",
    "#for loop runs till the condn is satisfied"
   ]
  },
  {
   "cell_type": "code",
   "execution_count": 41,
   "metadata": {},
   "outputs": [
    {
     "name": "stdout",
     "output_type": "stream",
     "text": [
      "0\n",
      "Finally finished!\n"
     ]
    }
   ],
   "source": [
    "# Print all numbers from 0 to 10,                           and print a message when the loop has ended:\n",
    "\n",
    "for x in range(0,10,10):\n",
    "    print(x)\n",
    "else:\n",
    "    print(\"Finally finished!\")\n",
    "#x=0,2.max=3\n",
    "#for x in range(0,2,+2): exp"
   ]
  },
  {
   "cell_type": "code",
   "execution_count": 9,
   "metadata": {
    "scrolled": true
   },
   "outputs": [
    {
     "name": "stdout",
     "output_type": "stream",
     "text": [
      "3\n",
      "8\n",
      "loop has ended\n"
     ]
    }
   ],
   "source": [
    "# Print all  odd numbers from 0 to 10, and print a message when the loop has ended:\n",
    "#1,3,5,..,9\n",
    "for i in range(3,10,+2):\n",
    "    print(i)\n",
    "else:\n",
    "    print(\"loop has ended\")\n",
    "#i takes values from 0 to 10 irrespective of step size."
   ]
  },
  {
   "cell_type": "code",
   "execution_count": 4,
   "metadata": {
    "scrolled": false
   },
   "outputs": [],
   "source": []
  },
  {
   "cell_type": "code",
   "execution_count": 57,
   "metadata": {
    "scrolled": false
   },
   "outputs": [
    {
     "name": "stdout",
     "output_type": "stream",
     "text": [
      "enter the value7\n",
      "<class 'int'>\n",
      "not 5\n"
     ]
    }
   ],
   "source": [
    "# nested if\n",
    "x=int(input(\"enter the value\"))\n",
    "print(type(x))\n",
    "if x==5:\n",
    "    \n",
    "    if type(x)==int:#str\n",
    "               \n",
    "        print(\"5 is integer format\")\n",
    "    else:\n",
    "        print(\"5 is other format\")\n",
    "else:\n",
    "    print(\"not 5\")\n",
    "#once the print stmt is executed,ctrl will stop.\n",
    "#"
   ]
  },
  {
   "cell_type": "code",
   "execution_count": null,
   "metadata": {},
   "outputs": [],
   "source": []
  },
  {
   "cell_type": "code",
   "execution_count": null,
   "metadata": {},
   "outputs": [],
   "source": [
    "a=\"cha\""
   ]
  },
  {
   "cell_type": "code",
   "execution_count": 2,
   "metadata": {
    "scrolled": true
   },
   "outputs": [
    {
     "name": "stdout",
     "output_type": "stream",
     "text": [
      "apple\n",
      "banana\n",
      "cherry\n"
     ]
    }
   ],
   "source": [
    "fruits = [\"apple\", \"banana\", \"cherry\"]\n",
    "#i=2\n",
    "for i in fruits:    \n",
    "    print(i)\n",
    "#x=app,abb,cherry\n",
    "#print(i[-1])\n"
   ]
  },
  {
   "cell_type": "code",
   "execution_count": 12,
   "metadata": {
    "scrolled": false
   },
   "outputs": [
    {
     "name": "stdout",
     "output_type": "stream",
     "text": [
      "-1\n",
      "0\n",
      "1\n",
      "2\n",
      "6\n"
     ]
    }
   ],
   "source": [
    "mytuple=(1,2,3,4,8)\n",
    "for i in mytuple:\n",
    "    print(i-2)   \n"
   ]
  },
  {
   "cell_type": "code",
   "execution_count": 14,
   "metadata": {
    "scrolled": true
   },
   "outputs": [
    {
     "name": "stdout",
     "output_type": "stream",
     "text": [
      "4\n",
      "5\n",
      "6\n",
      "7\n"
     ]
    }
   ],
   "source": [
    "l1=[1,2,3,4]\n",
    "for i in l1:\n",
    "    print(i+3)"
   ]
  },
  {
   "cell_type": "code",
   "execution_count": 17,
   "metadata": {},
   "outputs": [
    {
     "name": "stdout",
     "output_type": "stream",
     "text": [
      "[1, 8, 27, 64]\n"
     ]
    }
   ],
   "source": [
    "l1=[1,2,3,4]\n",
    "mylist=[]\n",
    "for i in l1:\n",
    "    mylist.append(i**3)\n",
    "print(mylist)  \n",
    "#mylist[]"
   ]
  },
  {
   "cell_type": "code",
   "execution_count": 14,
   "metadata": {},
   "outputs": [],
   "source": [
    "# l1=[1,2,3,4]\n",
    "# mylist=[]\n",
    "# for i in l1:\n",
    "#     mylist+=i\n",
    "# print(mylist)  \n",
    "# #mylist[]"
   ]
  },
  {
   "cell_type": "code",
   "execution_count": null,
   "metadata": {},
   "outputs": [],
   "source": [
    "# a = \"1237.4cha#$%\"\n",
    "# b=[]\n",
    "# c=[]\n",
    "# d=[]\n",
    "# for x in a:\n",
    "#     if x.isnumeric() == True:\n",
    "#         b.append(x)\n",
    "#     elif x.isalpha() == True:\n",
    "#         c.append(x)\n",
    "#     else:\n",
    "#         d.append(x)\n",
    "# print(b,c,d)"
   ]
  },
  {
   "cell_type": "code",
   "execution_count": 19,
   "metadata": {},
   "outputs": [
    {
     "name": "stdout",
     "output_type": "stream",
     "text": [
      "<class 'int'>\n",
      "<class 'bool'>\n",
      "<class 'str'>\n"
     ]
    }
   ],
   "source": [
    "a = [1237,True,'False']\n",
    "for x in a:\n",
    "    print(type(x))"
   ]
  },
  {
   "cell_type": "code",
   "execution_count": 12,
   "metadata": {},
   "outputs": [],
   "source": [
    "\n",
    "# for x in a:\n",
    "#     if x.isnumeric() == True:\n",
    "#         b.append(x)\n",
    "#     elif x.isalpha() == True:#\n",
    "#         c.append(x)\n",
    "#these funs return true and false.boolean values."
   ]
  },
  {
   "cell_type": "code",
   "execution_count": null,
   "metadata": {},
   "outputs": [],
   "source": []
  },
  {
   "cell_type": "code",
   "execution_count": null,
   "metadata": {},
   "outputs": [],
   "source": []
  },
  {
   "cell_type": "code",
   "execution_count": null,
   "metadata": {},
   "outputs": [],
   "source": []
  },
  {
   "cell_type": "code",
   "execution_count": null,
   "metadata": {},
   "outputs": [],
   "source": []
  },
  {
   "cell_type": "code",
   "execution_count": null,
   "metadata": {},
   "outputs": [],
   "source": [
    "1)Get a string input from the user of upper,lower,\n",
    "special characters,integers\n",
    "and put them in separate lists."
   ]
  },
  {
   "cell_type": "code",
   "execution_count": null,
   "metadata": {},
   "outputs": [],
   "source": [
    "#cA$1"
   ]
  },
  {
   "cell_type": "code",
   "execution_count": 21,
   "metadata": {
    "scrolled": true
   },
   "outputs": [
    {
     "name": "stdout",
     "output_type": "stream",
     "text": [
      "vA5*\n",
      "Lower case letters:  ['v']\n",
      "Upper case letters:  ['A']\n",
      "Digits:  ['5']\n",
      "Special characters:  ['*']\n"
     ]
    }
   ],
   "source": [
    "name = input()\n",
    "lower_alpha = []\n",
    "upper_alpha = []\n",
    "digit = []\n",
    "special = []\n",
    "\n",
    "for i in range(0,len(name)):\n",
    "    if(name[i] >= 'a' and name[i] <= 'z'):\n",
    "        lower_alpha.append(name[i])\n",
    "    elif(name[i] >= 'A' and name[i] <= 'Z'):\n",
    "        upper_alpha.append(name[i])\n",
    "    elif(name[i] >= '0' and name[i] <= '9'):\n",
    "        digit.append(name[i])\n",
    "    else:\n",
    "        special.append(name[i])\n",
    "print(\"Lower case letters: \", lower_alpha)\n",
    "print(\"Upper case letters: \", upper_alpha)\n",
    "print(\"Digits: \", digit)\n",
    "print(\"Special characters: \", special)\n"
   ]
  },
  {
   "cell_type": "code",
   "execution_count": 23,
   "metadata": {},
   "outputs": [
    {
     "name": "stdout",
     "output_type": "stream",
     "text": [
      "hi\n"
     ]
    }
   ],
   "source": [
    "c='1'\n",
    "if c.isdigit()==True:\n",
    "    print(\"hi\")\n",
    "# print(\"hey\")"
   ]
  },
  {
   "cell_type": "code",
   "execution_count": 27,
   "metadata": {},
   "outputs": [
    {
     "name": "stdout",
     "output_type": "stream",
     "text": [
      "1\n"
     ]
    }
   ],
   "source": [
    "\n",
    "\n",
    "c='A'\n",
    "if c.isupper()==False:\n",
    "    print(\"hello\")\n",
    "print(\"1\")\n",
    "#True not equal to false so 1 is printed."
   ]
  },
  {
   "cell_type": "code",
   "execution_count": null,
   "metadata": {},
   "outputs": [],
   "source": [
    "#When that character lies between lower a to lower z that character is appended into lower list.\n",
    "#When that character lies between '0' to '9' (not 0 or 9) then that character is appended into\n",
    "#digits list\n",
    "#two methods to solve this program.m1 is displayed above.in method 2 u have to set conditions\n",
    "#based on below functions: if i.islower(),elif i.isupper(), elif i.isnumeric(),,is.digit(),else block\n",
    "#reprsents special chars."
   ]
  },
  {
   "cell_type": "code",
   "execution_count": null,
   "metadata": {},
   "outputs": [],
   "source": [
    "#i will take 7 and 1 as integers or strings?i takes 7 and 1 as strings.it takes every element in the\\\n",
    "#string as character only.\n",
    "#elif(name[i] >= 0 and name[i] <= 9): means 0 and 9 go into special list."
   ]
  },
  {
   "cell_type": "code",
   "execution_count": 29,
   "metadata": {
    "scrolled": true
   },
   "outputs": [
    {
     "name": "stdout",
     "output_type": "stream",
     "text": [
      "enter the stringaS3&\n",
      "Upper characters:  ['S']\n",
      "Lower characters:  ['a']\n",
      "Integers:  ['3']\n",
      "Special characters:  ['&']\n"
     ]
    }
   ],
   "source": [
    "# import string\n",
    "\n",
    "string = (input(\"enter the string\"))\n",
    "upper_chars = []\n",
    "lower_chars = []\n",
    "special_chars = []\n",
    "integers = []\n",
    "\n",
    "for i in string:\n",
    "    if i.islower():\n",
    "        lower_chars.append(i)\n",
    "    elif i.isupper():\n",
    "        upper_chars.append(i)\n",
    "    elif i.isdigit():\n",
    "        integers.append(i)\n",
    "    else:\n",
    "        special_chars.append(i)\n",
    "\n",
    "print(\"Upper characters: \", upper_chars)\n",
    "print(\"Lower characters: \", lower_chars)\n",
    "print(\"Integers: \", integers)\n",
    "print(\"Special characters: \", special_chars)"
   ]
  },
  {
   "cell_type": "code",
   "execution_count": 12,
   "metadata": {},
   "outputs": [
    {
     "name": "stdout",
     "output_type": "stream",
     "text": [
      "enter the stringc\n",
      "Upper characters:  []\n",
      "Lower characters:  []\n",
      "Integers:  ['c']\n",
      "Special characters:  []\n"
     ]
    }
   ],
   "source": [
    "import string#module string has a function named puntuation...\n",
    "\n",
    "string = (input(\"enter the string\"))\n",
    "upper_chars = []\n",
    "lower_chars = []\n",
    "special_chars = []\n",
    "integers = []\n",
    "\n",
    "for i in string:\n",
    "    if i.islower()==False:\n",
    "        lower_chars.append(i)\n",
    "    elif i.isupper()==True:\n",
    "        upper_chars.append(i)\n",
    "    elif i.isdigit()==False:\n",
    "        integers.append(i)\n",
    "    else:\n",
    "        special_chars.append(i)\n",
    "\n",
    "print(\"Upper characters: \", upper_chars)\n",
    "print(\"Lower characters: \", lower_chars)\n",
    "print(\"Integers: \", integers)\n",
    "print(\"Special characters: \", special_chars)\n",
    "\n",
    "#i.isdigit(),i.islower(),i.isupper() returns True only by default."
   ]
  },
  {
   "cell_type": "code",
   "execution_count": null,
   "metadata": {},
   "outputs": [],
   "source": []
  },
  {
   "cell_type": "code",
   "execution_count": null,
   "metadata": {},
   "outputs": [],
   "source": [
    "#When we use elif conds in for loop,when one elif condn is true,stmt is executed.Then next for loop iteration\n",
    "#takes place.When for loop is finished,print stmts will be executed in this program."
   ]
  },
  {
   "cell_type": "code",
   "execution_count": 13,
   "metadata": {
    "scrolled": true
   },
   "outputs": [
    {
     "name": "stdout",
     "output_type": "stream",
     "text": [
      "r2\n",
      "a2\n",
      "i2\n",
      "n2\n",
      "b2\n",
      "o2\n",
      "w2\n"
     ]
    }
   ],
   "source": [
    "mystr=\"rainbow\"\n",
    "#python program to print characters in a string using for loop\n",
    "for i in mystr:\n",
    "    print(i+\"2\")\n",
    "#print(i-1)\n",
    "#print(i+'1')"
   ]
  },
  {
   "cell_type": "code",
   "execution_count": 15,
   "metadata": {
    "scrolled": true
   },
   "outputs": [
    {
     "name": "stdout",
     "output_type": "stream",
     "text": [
      "2\n",
      "2\n",
      "2\n",
      "2\n",
      "2\n",
      "2\n",
      "2\n"
     ]
    }
   ],
   "source": [
    "for i in mystr:\n",
    "    print(len(i+' '))"
   ]
  },
  {
   "cell_type": "code",
   "execution_count": 18,
   "metadata": {},
   "outputs": [
    {
     "data": {
      "text/plain": [
       "'ry'"
      ]
     },
     "execution_count": 18,
     "metadata": {},
     "output_type": "execute_result"
    }
   ],
   "source": [
    "mystr[1:]"
   ]
  },
  {
   "cell_type": "code",
   "execution_count": 14,
   "metadata": {},
   "outputs": [
    {
     "name": "stdout",
     "output_type": "stream",
     "text": [
      "length of the string  2\n"
     ]
    }
   ],
   "source": [
    "#python program to calculate the length of a string.\n",
    "mystr=\"fry\"\n",
    "c=0\n",
    "for i in mystr[1:]:\n",
    "#     c=0\n",
    "    c=c+1\n",
    "print(\"length of the string \",c)\n",
    "\n",
    "#all the variables used in for loop must be declared outside it."
   ]
  },
  {
   "cell_type": "code",
   "execution_count": null,
   "metadata": {},
   "outputs": [],
   "source": []
  },
  {
   "cell_type": "code",
   "execution_count": null,
   "metadata": {},
   "outputs": [],
   "source": [
    "# pattern printing"
   ]
  },
  {
   "cell_type": "code",
   "execution_count": null,
   "metadata": {},
   "outputs": [],
   "source": [
    "# def pypart(n):\n",
    "#     mylist =[]\n",
    "#     for i in range(3,n+1):\n",
    "#         mylist.append(\"*\"*i)\n",
    "#     print(\"\\n\".join(mylist))\n",
    "# n=6\n",
    "# pypart(n)\n",
    "    "
   ]
  },
  {
   "cell_type": "code",
   "execution_count": null,
   "metadata": {},
   "outputs": [],
   "source": []
  },
  {
   "cell_type": "code",
   "execution_count": null,
   "metadata": {},
   "outputs": [],
   "source": []
  },
  {
   "cell_type": "code",
   "execution_count": 4,
   "metadata": {
    "collapsed": true
   },
   "outputs": [
    {
     "name": "stdout",
     "output_type": "stream",
     "text": [
      "r\n",
      "a\n",
      "i\n",
      "n\n",
      "b\n",
      "o\n",
      "w\n"
     ]
    }
   ],
   "source": [
    "\n"
   ]
  },
  {
   "cell_type": "markdown",
   "metadata": {},
   "source": [
    "\n",
    "Python for loop with else\n",
    "\n",
    "A for loop can have an optional else block as well. The else part is executed when the loop is finished."
   ]
  },
  {
   "cell_type": "code",
   "execution_count": null,
   "metadata": {},
   "outputs": [],
   "source": []
  },
  {
   "cell_type": "code",
   "execution_count": 12,
   "metadata": {
    "scrolled": false
   },
   "outputs": [
    {
     "name": "stdout",
     "output_type": "stream",
     "text": [
      "dogs\n",
      "cats\n",
      "deers\n",
      "No animals left \n"
     ]
    }
   ],
   "source": [
    "animals = [\"dogs\", \"cats\", \"deers\"]\n",
    "\n",
    "for i in animals:\n",
    "    print(i)# after i= deers,no element further left for loop finished\n",
    "else:\n",
    "    print(\"No animals left \")\n"
   ]
  },
  {
   "cell_type": "code",
   "execution_count": null,
   "metadata": {},
   "outputs": [],
   "source": [
    "# Nested Loops\n",
    "# A nested loop is a loop inside a loop.\n",
    "\n",
    "# When outer loop runs once,inner loop runs n number of times from the beginning.\n",
    "#it does not care about iteration number of outer loop."
   ]
  },
  {
   "cell_type": "code",
   "execution_count": null,
   "metadata": {},
   "outputs": [],
   "source": []
  },
  {
   "cell_type": "code",
   "execution_count": 49,
   "metadata": {},
   "outputs": [
    {
     "name": "stdout",
     "output_type": "stream",
     "text": [
      "dog apple\n",
      "dog banana\n",
      "dog cherry\n",
      "cat apple\n",
      "cat banana\n",
      "cat cherry\n",
      "horse apple\n",
      "horse banana\n",
      "horse cherry\n"
     ]
    }
   ],
   "source": [
    "animals = [\"dog\", \"cat\", \"horse\"]\n",
    "fruits = [\"apple\", \"banana\", \"cherry\"]\n",
    "\n",
    "for x in animals:\n",
    "    for y in fruits:\n",
    "        print(x, y)\n",
    "#outer loop 1 st iter,x=dog,\n",
    "#inner loop 1 st iter,y=apple\n",
    "# 2nd iter of inner loop,y=banana,\n",
    "#2 nd iter of outer loop,x=cat\n",
    "# 3 rd iteration of the outer loop\n",
    "#x=horse"
   ]
  },
  {
   "cell_type": "code",
   "execution_count": null,
   "metadata": {},
   "outputs": [],
   "source": [
    "#nested for else"
   ]
  },
  {
   "cell_type": "code",
   "execution_count": 8,
   "metadata": {
    "scrolled": true
   },
   "outputs": [
    {
     "name": "stdout",
     "output_type": "stream",
     "text": [
      "dog apple\n",
      "dog banana\n",
      "dog cherry\n",
      "no fruits left\n",
      "cat apple\n",
      "cat banana\n",
      "cat cherry\n",
      "no fruits left\n",
      "horse apple\n",
      "horse banana\n",
      "horse cherry\n",
      "no fruits left\n",
      "no animals left\n"
     ]
    }
   ],
   "source": [
    "animals = [\"dog\", \"cat\", \"horse\"]\n",
    "fruits = [\"apple\", \"banana\", \"cherry\"]\n",
    "\n",
    "for x in animals:\n",
    "    for y in fruits:\n",
    "        print(x, y)\n",
    "    else:\n",
    "        print(\"no fruits left\")\n",
    "else:\n",
    "    print(\"no animals left\")\n",
    "#"
   ]
  },
  {
   "cell_type": "code",
   "execution_count": null,
   "metadata": {},
   "outputs": [],
   "source": [
    "#for loop,nexted for loop,"
   ]
  },
  {
   "cell_type": "code",
   "execution_count": null,
   "metadata": {},
   "outputs": [],
   "source": [
    " #Python program to count the number of characters (character) in a string"
   ]
  },
  {
   "cell_type": "code",
   "execution_count": 15,
   "metadata": {},
   "outputs": [
    {
     "name": "stdout",
     "output_type": "stream",
     "text": [
      "ji\n",
      "1\n"
     ]
    }
   ],
   "source": [
    "mystr=input()\n",
    "#c=0\n",
    "for i in mystr:\n",
    "    c=0\n",
    "    c+=1\n",
    "print(c)\n",
    "#\n",
    "# 2 nd iter,i takes 2nd char\n",
    "    "
   ]
  },
  {
   "cell_type": "code",
   "execution_count": 17,
   "metadata": {},
   "outputs": [],
   "source": [
    "# #print the table of 5\n",
    "# num=5\n",
    "# for i in range(1,n+1):\n",
    "#     print(\"5 into \",i,\"is \",num*i)"
   ]
  },
  {
   "cell_type": "code",
   "execution_count": 7,
   "metadata": {},
   "outputs": [],
   "source": [
    "#Write a program to print tables from 2 to a user provided range (use for loop)"
   ]
  },
  {
   "cell_type": "markdown",
   "metadata": {},
   "source": [
    "The pass Statement\n",
    "for loops cannot be empty, but if you for some reason have a for loop with no content, put in the pass statement to avoid getting an error.\n",
    "\n"
   ]
  },
  {
   "cell_type": "code",
   "execution_count": 21,
   "metadata": {},
   "outputs": [],
   "source": [
    "for x in (0,2):\n",
    "    pass\n",
    "    \n",
    "    \n",
    "    \n",
    "    \n",
    "#can put tuple or list of integers"
   ]
  },
  {
   "cell_type": "code",
   "execution_count": 6,
   "metadata": {},
   "outputs": [
    {
     "name": "stdout",
     "output_type": "stream",
     "text": [
      "5\n",
      "10\n",
      "15\n",
      "20\n",
      "25\n",
      "30\n",
      "35\n",
      "40\n",
      "45\n",
      "50\n"
     ]
    }
   ],
   "source": [
    "#python program to print 5 tables upto 50.\n",
    "\n",
    "for i in range(1,11):#i=1,2,3,4,...10\n",
    "    print(5*i)"
   ]
  },
  {
   "cell_type": "code",
   "execution_count": 2,
   "metadata": {},
   "outputs": [
    {
     "name": "stdout",
     "output_type": "stream",
     "text": [
      "s\n",
      "t\n",
      "r\n",
      "end\n"
     ]
    }
   ],
   "source": [
    "#working of break\n",
    "for val in \"string\":\n",
    "    if val==\"i\":\n",
    "        break\n",
    "    print(val)\n",
    "print(\"end\")\n",
    "#break keyword means ctrl will come out all the loops and outside loop ka stmts are executed."
   ]
  },
  {
   "cell_type": "code",
   "execution_count": 1,
   "metadata": {},
   "outputs": [
    {
     "data": {
      "text/plain": [
       "1920"
      ]
     },
     "execution_count": 1,
     "metadata": {},
     "output_type": "execute_result"
    }
   ],
   "source": [
    "\n",
    "960+294+666"
   ]
  },
  {
   "cell_type": "code",
   "execution_count": 2,
   "metadata": {},
   "outputs": [
    {
     "data": {
      "text/plain": [
       "26420"
      ]
     },
     "execution_count": 2,
     "metadata": {},
     "output_type": "execute_result"
    }
   ],
   "source": [
    "1920+24500"
   ]
  },
  {
   "cell_type": "code",
   "execution_count": 20,
   "metadata": {},
   "outputs": [
    {
     "name": "stdout",
     "output_type": "stream",
     "text": [
      "[3, 23]\n"
     ]
    }
   ],
   "source": [
    "#(Interview question)\n",
    "#Find prime numbers in the below list:\n",
    "mylist=[3,10,21,23]\n",
    "lst=[]\n",
    "for num in mylist:\n",
    "    c=0\n",
    "    for i in range(1,num+1):\n",
    "        if num%i==0:\n",
    "            c=c+1\n",
    "    if c==2:\n",
    "        lst.append(num)\n",
    "print(lst)   "
   ]
  },
  {
   "cell_type": "code",
   "execution_count": null,
   "metadata": {},
   "outputs": [],
   "source": []
  },
  {
   "cell_type": "code",
   "execution_count": null,
   "metadata": {},
   "outputs": [],
   "source": [
    "#think and code.\n",
    "#a number divisible by 1 and itself is prime number.\n",
    "#1st step:I mus iterate though all numbers in the list.\n",
    "#one number by one i need to check if it is prime or not.\n",
    "#i write a for loop to iterate take all numbers in the list.\n",
    "#why did i set c=0 at the start?\n",
    "#step 2:I need to divide that number by 1,2,num\n",
    "#c=3 for a prime number.When i go to next iteration of outer for loop,\n",
    "#c variable is reset to 0.Thei divide that num by 1 to all numbers till num itself.when c==2 prime number is appened\n",
    "#into the lst.when c is more than 2 then once i didvide that number by all numbers from1 to num,that number is not\n",
    "#appened into the lst because it ise composite number.\"Ctrl goes to next iteration of outer for loop\"\n",
    "#if c==2:\n",
    "#        lst.append(num) is the last stmt of for loop.When if condn true if loopstmts are executed.\n",
    "#if cond fails means if c==2: is the last stmt of  for loop..ctrl goes to next iteration of for loop.\n",
    "#"
   ]
  },
  {
   "cell_type": "code",
   "execution_count": null,
   "metadata": {},
   "outputs": [],
   "source": []
  },
  {
   "cell_type": "code",
   "execution_count": 7,
   "metadata": {},
   "outputs": [
    {
     "data": {
      "text/plain": [
       "317040"
      ]
     },
     "execution_count": 7,
     "metadata": {},
     "output_type": "execute_result"
    }
   ],
   "source": [
    "26420*12"
   ]
  },
  {
   "cell_type": "code",
   "execution_count": 8,
   "metadata": {
    "scrolled": true
   },
   "outputs": [
    {
     "data": {
      "text/plain": [
       "102960"
      ]
     },
     "execution_count": 8,
     "metadata": {},
     "output_type": "execute_result"
    }
   ],
   "source": [
    "420000-317040"
   ]
  },
  {
   "cell_type": "code",
   "execution_count": 9,
   "metadata": {
    "scrolled": false
   },
   "outputs": [
    {
     "data": {
      "text/plain": [
       "0.32475397426192276"
      ]
     },
     "execution_count": 9,
     "metadata": {},
     "output_type": "execute_result"
    }
   ],
   "source": [
    "102960/317040"
   ]
  },
  {
   "cell_type": "code",
   "execution_count": null,
   "metadata": {},
   "outputs": [],
   "source": [
    "#tgive 32 percent\n"
   ]
  },
  {
   "cell_type": "code",
   "execution_count": 10,
   "metadata": {},
   "outputs": [
    {
     "data": {
      "text/plain": [
       "10.5"
      ]
     },
     "execution_count": 10,
     "metadata": {},
     "output_type": "execute_result"
    }
   ],
   "source": [
    "35-24.5"
   ]
  },
  {
   "cell_type": "code",
   "execution_count": 11,
   "metadata": {},
   "outputs": [
    {
     "data": {
      "text/plain": [
       "0.42857142857142855"
      ]
     },
     "execution_count": 11,
     "metadata": {},
     "output_type": "execute_result"
    }
   ],
   "source": [
    "10.5/24.5"
   ]
  },
  {
   "cell_type": "code",
   "execution_count": 24,
   "metadata": {},
   "outputs": [],
   "source": [
    "#(interview question) Write a python program to filter palindromes in the list."
   ]
  },
  {
   "cell_type": "code",
   "execution_count": 1,
   "metadata": {},
   "outputs": [
    {
     "name": "stdout",
     "output_type": "stream",
     "text": [
      "palindromes in the list ['mom', '333']\n"
     ]
    }
   ],
   "source": [
    "l1=[\"mom\",\"333\",\"rain\"]\n",
    "l2=[j for j in l1 if j==j[::-1]]\n",
    "print(\"palindromes in the list\",l2)"
   ]
  },
  {
   "cell_type": "code",
   "execution_count": 23,
   "metadata": {},
   "outputs": [],
   "source": [
    "# def is_palindrome(s):\n",
    "#     return s==s[::-1]\n",
    "# palindromes=[word for word in ]\n",
    "# print(\"palindromes in the list\",palindromes)"
   ]
  },
  {
   "cell_type": "code",
   "execution_count": 2,
   "metadata": {},
   "outputs": [],
   "source": [
    "def is_palindrome(s)\n",
    "        \n",
    "l1=[\"mom\",\"333\",\"tri\"]\n",
    "l2=[i for i in l1]"
   ]
  },
  {
   "cell_type": "code",
   "execution_count": null,
   "metadata": {},
   "outputs": [],
   "source": []
  },
  {
   "cell_type": "code",
   "execution_count": null,
   "metadata": {},
   "outputs": [],
   "source": [
    "#solve the same question using udf\n",
    "#create a list of palindromes.\n",
    "#create a udf to perform mathematical calculation to filter palindromes into the list.\n",
    "#if x==x[::-1] i m checking the string and reversing the string,both the strings are same\n",
    "#string then i mreversing the string both are same,that string is palindrome"
   ]
  },
  {
   "cell_type": "code",
   "execution_count": 31,
   "metadata": {},
   "outputs": [],
   "source": [
    "#for loop takes valeus from all emlements in the list.\n",
    "#1st iter,j is mom,if mom==mom true so if loop stmts are executed,mom appended into list named l2.\n",
    "#2nd iteration,j=\"333\" if 333==333 if condn true if loop stmts are executed which is j ,\"333\" is appended into\n",
    "#the lit l2.3rd iteration,j=rain,if cond fails if loop stms are not executed.next iteration of for loop.\n",
    "#for loop complete.then line byline execution takes place .next below ccel  is executed.\n",
    "#print(\"palindromes in the list\",l2) "
   ]
  },
  {
   "cell_type": "code",
   "execution_count": 15,
   "metadata": {
    "scrolled": true
   },
   "outputs": [
    {
     "name": "stdout",
     "output_type": "stream",
     "text": [
      "2\n",
      "None\n",
      "2\n",
      "None\n"
     ]
    }
   ],
   "source": [
    "def add(x=0,y=0, z = 0): \n",
    "    print(x)\n",
    "    #return x + y+z\n",
    " \n",
    "# Driver code \n",
    "print(add(2))\n",
    "print(add(2, 3, 4))\n"
   ]
  },
  {
   "cell_type": "code",
   "execution_count": 45,
   "metadata": {},
   "outputs": [
    {
     "name": "stdout",
     "output_type": "stream",
     "text": [
      "2\n",
      "None\n",
      "2\n",
      "None\n"
     ]
    }
   ],
   "source": [
    "def add(x=0,y=0, z = 0): \n",
    "    print(x)\n",
    "    #return x + y+z\n",
    " \n",
    "# Driver code \n",
    "print(add(2))\n",
    "print(add(2, 3, 4))"
   ]
  },
  {
   "cell_type": "code",
   "execution_count": 21,
   "metadata": {},
   "outputs": [
    {
     "name": "stdout",
     "output_type": "stream",
     "text": [
      "1\n",
      "None\n",
      "2\n",
      "None\n"
     ]
    }
   ],
   "source": [
    "def add(x,y,z=0): \n",
    "    print(x)\n",
    "    #return x + y+z\n",
    " \n",
    "# Driver code \n",
    "print(add(1,1))\n",
    "print(add(2, 3, 4))"
   ]
  },
  {
   "cell_type": "code",
   "execution_count": null,
   "metadata": {},
   "outputs": [],
   "source": [
    "#positional args-must be passed at the start of udf\n",
    "#default args sayz=0 must be set at the next position.\n",
    "#default args must not be set initially."
   ]
  },
  {
   "cell_type": "code",
   "execution_count": 44,
   "metadata": {},
   "outputs": [
    {
     "name": "stdout",
     "output_type": "stream",
     "text": [
      "9\n",
      "None\n",
      "4\n",
      "None\n"
     ]
    }
   ],
   "source": [
    "#A simple Python function to demonstrate \n",
    "# Polymorphism \n",
    "def add(x, y, z = 9):\n",
    "    print(z)\n",
    "    #return x + y+z\n",
    " \n",
    "#Driver code\n",
    "print(add(2, 3))\n",
    "print(add(2, 3, 4))"
   ]
  },
  {
   "cell_type": "code",
   "execution_count": null,
   "metadata": {},
   "outputs": [],
   "source": [
    "class India():\n",
    "    def capital(self):\n",
    "        print(\"New Delhi is the capital of India.\")\n",
    " \n",
    "    def language(self):\n",
    "        print(\"Hindi is the most widely spoken language of India.\")\n",
    " \n",
    "    def type(self):\n",
    "        print(\"India is a developing country.\")\n",
    " \n",
    "class USA():\n",
    "    def capital(self):\n",
    "        print(\"Washington, D.C. is the capital of USA.\")\n",
    " \n",
    "    def language(self):\n",
    "        print(\"English is the primary language of USA.\")\n",
    " \n",
    "    def type(self):\n",
    "        print(\"USA is a developed country.\")\n",
    " \n",
    "obj_ind = India()\n",
    "obj_usa = USA()\n",
    "for country in (obj_ind, obj_usa):\n",
    "    country.capital()\n",
    "    country.language()\n",
    "    country.type()"
   ]
  },
  {
   "cell_type": "code",
   "execution_count": 9,
   "metadata": {
    "scrolled": true
   },
   "outputs": [
    {
     "name": "stdout",
     "output_type": "stream",
     "text": [
      "<__main__.India object at 0x000002126BC2F610>\n",
      "new delhi\n",
      "hindi\n",
      "india is developing country\n",
      "<__main__.USA object at 0x000002126BC2F6D0>\n",
      "washintohgton\n",
      "english is language\n",
      "usa is a developed country\n",
      "<__main__.England object at 0x000002126BC3CCA0>\n",
      "london\n",
      "english is language\n",
      "england is a developed country\n"
     ]
    }
   ],
   "source": [
    "class India():\n",
    "    def capital(self):\n",
    "        print(\"new delhi\")\n",
    "    def language(self):\n",
    "        print(\"hindi\")\n",
    "    def type(self):\n",
    "        print(\"india is developing country\")\n",
    "        \n",
    "class USA():\n",
    "    def capital(self):\n",
    "        print(\"washintohgton\")\n",
    "    def language(self):\n",
    "        print(\"english is language\")\n",
    "    def type(self):\n",
    "        print(\"usa is a developed country\")\n",
    "class England():\n",
    "    def capital(self):\n",
    "        print(\"london\")\n",
    "    def language(self):\n",
    "        print(\"english is language\")\n",
    "    def type(self):\n",
    "        print(\"england is a developed country\")       \n",
    "\n",
    "obj1=India()\n",
    "obj2=USA()\n",
    "obj3=England()\n",
    "for country in (obj1,obj2,obj3):\n",
    "    print(country)\n",
    "    country.capital()\n",
    "    country.language()\n",
    "    country.type()\n",
    "        "
   ]
  }
 ],
 "metadata": {
  "kernelspec": {
   "display_name": "Python 3",
   "language": "python",
   "name": "python3"
  },
  "language_info": {
   "codemirror_mode": {
    "name": "ipython",
    "version": 3
   },
   "file_extension": ".py",
   "mimetype": "text/x-python",
   "name": "python",
   "nbconvert_exporter": "python",
   "pygments_lexer": "ipython3",
   "version": "3.8.5"
  }
 },
 "nbformat": 4,
 "nbformat_minor": 5
}
