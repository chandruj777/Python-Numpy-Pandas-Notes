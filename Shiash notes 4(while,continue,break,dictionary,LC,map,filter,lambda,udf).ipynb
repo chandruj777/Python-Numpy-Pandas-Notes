{
 "cells": [
  {
   "cell_type": "code",
   "execution_count": null,
   "metadata": {},
   "outputs": [],
   "source": [
    "#the email is say chAN9@gmail.com\n",
    "#it should have one @\n",
    "#it should have one .\n",
    "#it should have one _\n",
    "#\n",
    "#step1:get the email address\n",
    "#iterate through all characters\n",
    "#1 st iter,when i=c, if cond  fails,2nd if cond true so var2=1\n",
    "#when var2>1 email is valid.this is one of the condn in main condn\n",
    "#2 nd iter,i=h,var=2,\n",
    "#so var2 can have values between 1 to say 10.var 2 will have\n",
    "#value greater  than 1.\n",
    "#so var 3 which validates for upper case letters it will also have value\n",
    "#between say 1 to 10.var1 will also have value betwwen 1 to say 10.\n",
    "#main if condn\n",
    "#if var1>1 and var2>1 and var3>1:\n",
    "#print(\"email is valid\")\n",
    "#else:\n",
    "#print(\"invalid\")"
   ]
  },
  {
   "cell_type": "code",
   "execution_count": null,
   "metadata": {},
   "outputs": [],
   "source": [
    "a=float(input(\"enter the number to find the ceil of a number\"))\n",
    "a+=1\n",
    "print(int(a))\n",
    "\n",
    "b=(input(\"enter the nuber to find the floor of a number\"))\n",
    "print(int(float(b)))"
   ]
  },
  {
   "cell_type": "code",
   "execution_count": 1,
   "metadata": {},
   "outputs": [
    {
     "name": "stdout",
     "output_type": "stream",
     "text": [
      "enter the emailcha\n",
      "invalid\n"
     ]
    }
   ],
   "source": [
    "var1=0\n",
    "var2=0\n",
    "var3=0\n",
    "var4=0\n",
    "var5=0\n",
    "a=input(\"enter the email\")\n",
    "for i in a:   \n",
    "    if i>='a' and i<='z':\n",
    "        var1+=1\n",
    "#         print(var1)\n",
    "    elif i>='0' and i<='9':   \n",
    "        var2+=1\n",
    "#         print(var2)\n",
    "    elif i>='A' and i<='Z':\n",
    "        var3+=1\n",
    "#         print(var3)\n",
    "    elif i=='@':\n",
    "        var4+=1\n",
    "    elif i=='.' or i=='_':\n",
    "        var5+=1\n",
    "if var1>=0 and var2>=0 and var3>=0 and var4==1 and var5>=1:\n",
    "    print(\"email is valid\")\n",
    "else:\n",
    "    print(\"invalid\")"
   ]
  },
  {
   "cell_type": "code",
   "execution_count": null,
   "metadata": {},
   "outputs": [],
   "source": [
    "#Python program to calculate the electricity bill based on units consumed\n",
    "#in a house.An additional sur charge of 20% is added to the amount.\n",
    "#Condition 1:For units<50,cost is Rs 0.5\n",
    "#conditon 2:For next 100 units,cost of electricity is  Rs 0.75 per unit\n",
    "#condition 3:For next 100 units,cost of electricity is  Rs 1.2 per unit\n",
    "#Condition 4:for next 'n' units,cost of electricity is Rs 1.5 per units."
   ]
  },
  {
   "cell_type": "code",
   "execution_count": 1,
   "metadata": {},
   "outputs": [
    {
     "name": "stdout",
     "output_type": "stream",
     "text": [
      "enter the units555\n",
      "Total Bill 813.0\n"
     ]
    }
   ],
   "source": [
    "units=int(input(\"enter the units\"))\n",
    "if units<=50:\n",
    "    amt=units*0.5\n",
    "elif units>50 and units<=150:\n",
    "    amt=50*0.5+(units-50)*0.75\n",
    "elif units>150 and units<=250:\n",
    "    amt=50*0.5+100*0.75+(units-150)*1.2\n",
    "elif units>250:\n",
    "    amt=50*0.5+100*0.75+100*1.2+(units-250)*1.5\n",
    "print(\"Total Bill\",amt+0.2*amt)"
   ]
  },
  {
   "cell_type": "code",
   "execution_count": null,
   "metadata": {},
   "outputs": [],
   "source": [
    " #while keyword is used to check a cond.\n",
    "#'As long as' while condn is true,while loop stmts executed.\n",
    "#while condn fails,while loop stmts are not executed.\n",
    "\n",
    "while condition:\n",
    "    # body of while loop"
   ]
  },
  {
   "cell_type": "code",
   "execution_count": null,
   "metadata": {},
   "outputs": [],
   "source": []
  },
  {
   "cell_type": "code",
   "execution_count": 4,
   "metadata": {
    "scrolled": true
   },
   "outputs": [
    {
     "name": "stdout",
     "output_type": "stream",
     "text": [
      "4\n",
      "7\n"
     ]
    }
   ],
   "source": [
    "\n",
    "# 1)program to display numbers from 1 to 5\n",
    "\n",
    "i = 1\n",
    "n = 5\n",
    "while i <=n:\n",
    "    i = i +3\n",
    "    print(i)   \n",
    "    \n",
    "# # else:\n",
    "# #     print(\"while loop finished\")\n",
    "# #1 st,i1,n=5,1<=5,print(1),i=2\n",
    "# #2 nd iter,2<=5,print(2),i=3\n",
    "# # 3 rd iter, 3<=5,print(3),i=4,\n",
    "# #  4th iter,\n",
    "\n",
    "# #it will print 1 for infinite times.while loop becomes endless loop.\n",
    "#if you do not increment i,while condn checked multiple times and 1 gets printed all the times\n",
    "#condn is checked.\n",
    "\n"
   ]
  },
  {
   "cell_type": "code",
   "execution_count": 7,
   "metadata": {},
   "outputs": [
    {
     "data": {
      "text/plain": [
       "0"
      ]
     },
     "execution_count": 7,
     "metadata": {},
     "output_type": "execute_result"
    }
   ],
   "source": [
    "5%5\n",
    "#c=1"
   ]
  },
  {
   "cell_type": "code",
   "execution_count": 14,
   "metadata": {},
   "outputs": [
    {
     "name": "stdout",
     "output_type": "stream",
     "text": [
      "enter the number78\n",
      "composite\n"
     ]
    }
   ],
   "source": [
    "#3)Prime number or not\n",
    "num=int(input(\"enter the number\"))#5\n",
    "c=0\n",
    "for i in range(1,num+1):#i=1,2,3,4,5\n",
    "    if num%i==0:\n",
    "        c+=1\n",
    "if c==2:\n",
    "        print(\"prime\")\n",
    "else:\n",
    "    print(\"composite\")\n"
   ]
  },
  {
   "cell_type": "code",
   "execution_count": null,
   "metadata": {},
   "outputs": [],
   "source": [
    "return '2fact(1)''"
   ]
  },
  {
   "cell_type": "code",
   "execution_count": 3,
   "metadata": {
    "scrolled": true
   },
   "outputs": [
    {
     "name": "stdout",
     "output_type": "stream",
     "text": [
      "[2, 6, 24]\n"
     ]
    }
   ],
   "source": [
    "def fact(n):\n",
    "    if n==0:\n",
    "        return 1\n",
    "    else:\n",
    "        return n*fact(n-1)\n",
    "    \n",
    "l1=[2,3,4]\n",
    "lst=[]\n",
    "for num in l1:\n",
    "    lst.append(fact(num))\n",
    "print(lst)   "
   ]
  },
  {
   "cell_type": "code",
   "execution_count": 13,
   "metadata": {},
   "outputs": [
    {
     "data": {
      "text/plain": [
       "294.0"
      ]
     },
     "execution_count": 13,
     "metadata": {},
     "output_type": "execute_result"
    }
   ],
   "source": []
  },
  {
   "cell_type": "code",
   "execution_count": 10,
   "metadata": {},
   "outputs": [
    {
     "name": "stdout",
     "output_type": "stream",
     "text": [
      "[2, 6, 24, 120]\n"
     ]
    }
   ],
   "source": []
  },
  {
   "cell_type": "code",
   "execution_count": null,
   "metadata": {},
   "outputs": [],
   "source": [
    "fact(3)\n",
    "return 3*fact(2)\n",
    "\n",
    "return 1fact(0)"
   ]
  },
  {
   "cell_type": "code",
   "execution_count": null,
   "metadata": {},
   "outputs": [],
   "source": [
    "lst.append(6)"
   ]
  },
  {
   "cell_type": "code",
   "execution_count": null,
   "metadata": {},
   "outputs": [],
   "source": [
    "2,6"
   ]
  },
  {
   "cell_type": "code",
   "execution_count": null,
   "metadata": {},
   "outputs": [],
   "source": [
    "lst=[2]"
   ]
  },
  {
   "cell_type": "code",
   "execution_count": null,
   "metadata": {},
   "outputs": [],
   "source": [
    "#create a list of integers\n",
    "l1=[3,4,5]\n",
    "#create an empty list.to append fact values of all the number in to lst.\n",
    "  \n",
    "#i want 3*2*1=6\n",
    "#i want 4*3*2*1=24\n",
    "#i want 5*4*3*2*1=120\n",
    "#for this to happen,i need to iterate through all numbers in the list one by one.\n",
    "#1st iter,num=3.i want 3*2*1=6\n",
    "\n",
    "\n",
    "\n",
    "    "
   ]
  },
  {
   "cell_type": "code",
   "execution_count": null,
   "metadata": {},
   "outputs": [],
   "source": [
    "#1st iteration,lq is activated,empty list lst is created.for loop runs.1st iteration,num takes all the numberrs\n",
    "#in the list one by one.num=3ctrl moves to function call.\n",
    "#function call to function definition.def fact(n):\n",
    "#def fact(n):n is 3,if 3==0 condn fails ctrl goes to else block return value\n",
    "#value is 3*fact(2).ctrl goes from function call to function definition.\n",
    "#\n",
    "#for num in l1:\n",
    "#    3*fact(2)\n",
    "#ctrl moves from function call to function definition\n",
    "#def fact(2):\n",
    "#if 2==0:if codnn fails ctrl to else bock return 2*fact(1)\n",
    "##for num in l1:\n",
    "#    6*fact(1)\n",
    "#ctrl moves from function call to function definition\n",
    "#def fact(1):\n",
    "#else block stmts are executed\n",
    "#return 1*fact(0)\n",
    "#6*fact(0)\n",
    "#ctrl moves from functin call to function definition\n",
    "#def fact(0):\n",
    "#return 1 return values comes in place of function call\n",
    "#6\n",
    "#the ctrl does not mpove  from udf to function definition as the value in var1 is 6.\n",
    "#udf is not activate now.then that 6 is appeneded into lst.\n",
    "#lst.append(var1) is the last stmt of1st iteration of for loop.for loop complete.during next iteration,num takes 4.\n",
    "#during the next iteration of the outer for loop,num takes 4.\n",
    "#var1=fact(4)\n",
    "  "
   ]
  },
  {
   "cell_type": "code",
   "execution_count": 4,
   "metadata": {},
   "outputs": [],
   "source": [
    "# #Working:\n",
    "# #create a list of integers\n",
    "# l1=[3,4,5]\n",
    "# #empty list-to append fact values of all the number in to lst.\n",
    "# for num in l1:\n",
    "#     fact(num)\n",
    "# #till here i write using logic.#i define a function named fact(num).it will do mathematical calculations.\n",
    "# #mathe calc are say  4*3*2*1\n",
    "# def fact(n):\n",
    "#     if n==0:\n",
    "#         return 1\n",
    "# #when u create a function u must define the function too.\n",
    "# #first condition is logically written.w.k.t factorial of 0 is 1 rule.\n",
    "# #When our list has 0 its factorial must be 1.\n",
    "# #i have represented it in if condn.if n==0:return 1\n",
    "# #"
   ]
  },
  {
   "cell_type": "code",
   "execution_count": null,
   "metadata": {},
   "outputs": [],
   "source": [
    "i=1,2,3,4\n",
    "num=4\n",
    "f=1*1=1\n",
    "f=1*2=2\n",
    "f=2*3=6\n",
    "f=6*4=24"
   ]
  },
  {
   "cell_type": "code",
   "execution_count": 54,
   "metadata": {},
   "outputs": [],
   "source": [
    "\n",
    "fact=fact*i"
   ]
  },
  {
   "cell_type": "code",
   "execution_count": 11,
   "metadata": {},
   "outputs": [
    {
     "name": "stdout",
     "output_type": "stream",
     "text": [
      "factorial list : [6, 24, 120, 720]\n"
     ]
    }
   ],
   "source": [
    "l1=[3,4,5,6]\n",
    "lst=[]\n",
    "#i is number in the list\n",
    "for num in l1:\n",
    "    factorial=1\n",
    "    for i in range(1,num+1):\n",
    "        factorial=factorial*i\n",
    "    lst.append(factorial)\n",
    "print(\"factorial list :\",lst)\n",
    "        "
   ]
  },
  {
   "cell_type": "code",
   "execution_count": null,
   "metadata": {},
   "outputs": [],
   "source": [
    "# a list l1 iscreated\n",
    "#lst is an empty list which is created.\n",
    "#l1 is a list\n",
    "#lst named empty list is created.\n",
    "#l1 is a list\n",
    "#lst named empty list is created.\n",
    "#l1 is a lsit created \n",
    "#lst named empty list is created where each numbers factorial numbers are appenedinto the list.\n",
    "#lst named empty list is created where each numbers factorial numbers are appeneded into the list.\n"
   ]
  },
  {
   "cell_type": "code",
   "execution_count": null,
   "metadata": {},
   "outputs": [],
   "source": [
    "f is a variable which is calculated by f=f*i\n"
   ]
  },
  {
   "cell_type": "code",
   "execution_count": null,
   "metadata": {},
   "outputs": [],
   "source": [
    "f=f*i\n",
    "f=1*1=1\n",
    "f=1*2=2\n",
    "f=2*3=6\n",
    "f=6*4=24\n",
    "f=24*5=120"
   ]
  },
  {
   "cell_type": "code",
   "execution_count": 42,
   "metadata": {},
   "outputs": [
    {
     "name": "stdout",
     "output_type": "stream",
     "text": [
      "[6, 24, 120]\n"
     ]
    }
   ],
   "source": [
    "l1=[3,4,5]\n",
    "lst=[]\n",
    "for num in l1:\n",
    "    fact=1\n",
    "    for i in range(1,num+1):\n",
    "        fact=fact*i\n",
    "    lst.append(fact)\n",
    "print(lst)"
   ]
  },
  {
   "cell_type": "code",
   "execution_count": null,
   "metadata": {},
   "outputs": [],
   "source": [
    "num=3\n",
    "i=1,2,3"
   ]
  },
  {
   "cell_type": "code",
   "execution_count": null,
   "metadata": {},
   "outputs": [],
   "source": [
    "f=f*i\n",
    "f=f*i\n",
    "f=1*1=1\n",
    "f=1*2=2\n",
    "f=2*3=6"
   ]
  },
  {
   "cell_type": "code",
   "execution_count": null,
   "metadata": {},
   "outputs": [],
   "source": [
    "num=4\n",
    "i=1,2,3,4"
   ]
  },
  {
   "cell_type": "code",
   "execution_count": 36,
   "metadata": {
    "scrolled": true
   },
   "outputs": [
    {
     "data": {
      "text/plain": [
       "24"
      ]
     },
     "execution_count": 36,
     "metadata": {},
     "output_type": "execute_result"
    }
   ],
   "source": [
    "1*2*3*4"
   ]
  },
  {
   "cell_type": "code",
   "execution_count": 37,
   "metadata": {
    "scrolled": true
   },
   "outputs": [
    {
     "data": {
      "text/plain": [
       "6"
      ]
     },
     "execution_count": 37,
     "metadata": {},
     "output_type": "execute_result"
    }
   ],
   "source": [
    "1*2*3"
   ]
  },
  {
   "cell_type": "code",
   "execution_count": 38,
   "metadata": {},
   "outputs": [
    {
     "data": {
      "text/plain": [
       "2"
      ]
     },
     "execution_count": 38,
     "metadata": {},
     "output_type": "execute_result"
    }
   ],
   "source": [
    "1*2"
   ]
  },
  {
   "cell_type": "code",
   "execution_count": 39,
   "metadata": {},
   "outputs": [
    {
     "data": {
      "text/plain": [
       "24"
      ]
     },
     "execution_count": 39,
     "metadata": {},
     "output_type": "execute_result"
    }
   ],
   "source": [
    "1*2*3*4"
   ]
  },
  {
   "cell_type": "code",
   "execution_count": 40,
   "metadata": {},
   "outputs": [
    {
     "data": {
      "text/plain": [
       "6"
      ]
     },
     "execution_count": 40,
     "metadata": {},
     "output_type": "execute_result"
    }
   ],
   "source": [
    "1*2*3"
   ]
  },
  {
   "cell_type": "code",
   "execution_count": null,
   "metadata": {},
   "outputs": [],
   "source": []
  },
  {
   "cell_type": "code",
   "execution_count": null,
   "metadata": {},
   "outputs": [],
   "source": [
    "#note:\n",
    "When num=4,i=1,2,3,4\n",
    "when num=5,i=1,2,3,4,5\n",
    "write for loops s that above things are satisfied."
   ]
  },
  {
   "cell_type": "code",
   "execution_count": null,
   "metadata": {},
   "outputs": [],
   "source": [
    "1st iter,num=3\n",
    "fact=1\n",
    "#i set fact var as 1\n",
    "#i=1,2,3\n",
    "#ist iter,i=1\n",
    "fact=1*1=1\n",
    "2nd iter,i=2\n",
    "fact=1*2=2\n",
    "3rd iter,i=3\n",
    "fact=2*3=6\n",
    "lst=[6]\n",
    "outer loop 2nd iteration,\n",
    "num=4\n",
    "4*3*2*1 must be done in for loop stmts\n",
    "when num=4  4*3*2*1 must be done in for loop stmts\n",
    "i=1,2,3,4\n",
    "num=5,i=1,2,3,4,5\n",
    "when num=5,i=1,2,3,4,5\n",
    "when num=4,i=1,2,3,4"
   ]
  },
  {
   "cell_type": "code",
   "execution_count": null,
   "metadata": {},
   "outputs": [],
   "source": [
    "4*3*2*1\n",
    "1*2*3*4"
   ]
  },
  {
   "cell_type": "code",
   "execution_count": 9,
   "metadata": {},
   "outputs": [],
   "source": [
    "#find the factoria of all the number sin thelist one by one\n",
    "# 3*2*1\n",
    "# 4*3*2*1\n",
    "# 5*4*3*2*1\n",
    "# 6*5*4*3*2*1"
   ]
  },
  {
   "cell_type": "code",
   "execution_count": 9,
   "metadata": {},
   "outputs": [],
   "source": [
    "#num=5\n",
    "#c=0\n",
    "#\n",
    "# 5%5\n",
    "#c=1"
   ]
  },
  {
   "cell_type": "code",
   "execution_count": null,
   "metadata": {},
   "outputs": [],
   "source": [
    "7m   52d\n",
    "1m"
   ]
  },
  {
   "cell_type": "code",
   "execution_count": null,
   "metadata": {},
   "outputs": [],
   "source": []
  },
  {
   "cell_type": "code",
   "execution_count": 6,
   "metadata": {},
   "outputs": [
    {
     "data": {
      "text/plain": [
       "0"
      ]
     },
     "execution_count": 6,
     "metadata": {},
     "output_type": "execute_result"
    }
   ],
   "source": [
    "5%5"
   ]
  },
  {
   "cell_type": "code",
   "execution_count": 7,
   "metadata": {
    "scrolled": true
   },
   "outputs": [
    {
     "data": {
      "text/plain": [
       "0"
      ]
     },
     "execution_count": 7,
     "metadata": {},
     "output_type": "execute_result"
    }
   ],
   "source": [
    "#5%1,c=1,when num is 5\n",
    "5%5"
   ]
  },
  {
   "cell_type": "code",
   "execution_count": 8,
   "metadata": {
    "scrolled": true
   },
   "outputs": [
    {
     "name": "stdout",
     "output_type": "stream",
     "text": [
      "correct number6\n",
      "guess number8\n",
      "wrong number,try again\n",
      "guess number again7\n",
      "wrong number,try again\n",
      "guess number again6\n",
      "correct guess\n"
     ]
    }
   ],
   "source": [
    "\n",
    "#2)Lets play a game to guess a number  using while loop.\n",
    "#num1,num2\n",
    "num1=int(input(\"correct number\"))\n",
    "num2=int(input(\"guess number\"))\n",
    "while num1!=num2:\n",
    "    print(\"wrong number,try again\")\n",
    "    num2=int(input(\"guess number again\"))\n",
    "print(\"correct guess\")"
   ]
  },
  {
   "cell_type": "code",
   "execution_count": 4,
   "metadata": {},
   "outputs": [],
   "source": [
    "# 3)python program to print the sum of squares of numbers till 5.\n",
    "#1,2,3,4,5"
   ]
  },
  {
   "cell_type": "code",
   "execution_count": 5,
   "metadata": {},
   "outputs": [
    {
     "name": "stdout",
     "output_type": "stream",
     "text": [
      "35\n"
     ]
    }
   ],
   "source": [
    "i=1\n",
    "n=5\n",
    "s1=0\n",
    "summ=0\n",
    "while i<=n:\n",
    "    s1=i**2\n",
    "    summ+=s1\n",
    "    i=i+2\n",
    "print(summ)\n",
    "#while 1<5:\n",
    "\n",
    "#1 st iter,1<=5,s1=1,summ=1,i=2,\n",
    "# 2nd iter,2<=5,s1=4,summ=5,i=3,\n",
    "# 3 rd iter,3<=5,s1=9,summ=14,i=4\n",
    "# 4th iter,14+16=summ=30,i=5\n",
    "\n",
    "# 5th iter,s1=25,30+25,summ=55,i=6,"
   ]
  },
  {
   "cell_type": "code",
   "execution_count": null,
   "metadata": {},
   "outputs": [],
   "source": []
  },
  {
   "cell_type": "code",
   "execution_count": null,
   "metadata": {},
   "outputs": [],
   "source": []
  },
  {
   "cell_type": "code",
   "execution_count": null,
   "metadata": {},
   "outputs": [],
   "source": [
    "# C=[]\n",
    "# for i in range (7, 50, 7):\n",
    "#     If i %2 == 1:\n",
    "#            c.append()\n",
    "# Sum = 0\n",
    "# for i in c:\n",
    "#     return sum + i\n",
    "\n",
    "# Print (sum)"
   ]
  },
  {
   "cell_type": "code",
   "execution_count": null,
   "metadata": {},
   "outputs": [],
   "source": [
    "#4)python program to print the sum of odd multiples of 7 till 50."
   ]
  },
  {
   "cell_type": "code",
   "execution_count": null,
   "metadata": {},
   "outputs": [],
   "source": []
  },
  {
   "cell_type": "code",
   "execution_count": null,
   "metadata": {},
   "outputs": [],
   "source": [
    "#7,14,21,28,35,42,49\n",
    "#5,10,15,20,25,30,35,40,45,50"
   ]
  },
  {
   "cell_type": "code",
   "execution_count": 20,
   "metadata": {},
   "outputs": [
    {
     "data": {
      "text/plain": [
       "112"
      ]
     },
     "execution_count": 20,
     "metadata": {},
     "output_type": "execute_result"
    }
   ],
   "source": [
    "35+28+49\n",
    "#s=28\n",
    "#"
   ]
  },
  {
   "cell_type": "code",
   "execution_count": null,
   "metadata": {},
   "outputs": [],
   "source": [
    "While True allows a group of codes to be repeated infinite number of times until a break is executed"
   ]
  },
  {
   "cell_type": "code",
   "execution_count": 3,
   "metadata": {},
   "outputs": [
    {
     "data": {
      "text/plain": [
       "112"
      ]
     },
     "execution_count": 3,
     "metadata": {},
     "output_type": "execute_result"
    }
   ],
   "source": [
    "7+21+35+49"
   ]
  },
  {
   "cell_type": "code",
   "execution_count": 12,
   "metadata": {
    "scrolled": true
   },
   "outputs": [
    {
     "data": {
      "text/plain": [
       "1"
      ]
     },
     "execution_count": 12,
     "metadata": {},
     "output_type": "execute_result"
    }
   ],
   "source": [
    "21%2"
   ]
  },
  {
   "cell_type": "code",
   "execution_count": 14,
   "metadata": {},
   "outputs": [
    {
     "data": {
      "text/plain": [
       "112"
      ]
     },
     "execution_count": 14,
     "metadata": {},
     "output_type": "execute_result"
    }
   ],
   "source": [
    "28+35+49"
   ]
  },
  {
   "cell_type": "code",
   "execution_count": null,
   "metadata": {},
   "outputs": [],
   "source": [
    "#Sumation of odd multiples of 7 till 50."
   ]
  },
  {
   "cell_type": "code",
   "execution_count": 23,
   "metadata": {
    "scrolled": true
   },
   "outputs": [
    {
     "name": "stdout",
     "output_type": "stream",
     "text": [
      "name 's2' is not defined\n"
     ]
    }
   ],
   "source": [
    "i=1\n",
    "#s2=0\n",
    "try:    \n",
    "    while i<=50:        \n",
    "        if i%7==0:\n",
    "            if i%2!=0:\n",
    "                s2+=i\n",
    "        i+=1        \n",
    "    print(s2)\n",
    "except Exception as e:\n",
    "    print(e)   \n",
    "    \n",
    "#s3=7+21+35+49"
   ]
  },
  {
   "cell_type": "code",
   "execution_count": null,
   "metadata": {},
   "outputs": [],
   "source": [
    "while 2<=50:true"
   ]
  },
  {
   "cell_type": "code",
   "execution_count": 26,
   "metadata": {},
   "outputs": [
    {
     "data": {
      "text/plain": [
       "2"
      ]
     },
     "execution_count": 26,
     "metadata": {},
     "output_type": "execute_result"
    }
   ],
   "source": [
    "2%7"
   ]
  },
  {
   "cell_type": "code",
   "execution_count": 25,
   "metadata": {},
   "outputs": [
    {
     "data": {
      "text/plain": [
       "1"
      ]
     },
     "execution_count": 25,
     "metadata": {},
     "output_type": "execute_result"
    }
   ],
   "source": [
    "\n",
    "if 2==0:"
   ]
  },
  {
   "cell_type": "code",
   "execution_count": null,
   "metadata": {},
   "outputs": [],
   "source": [
    "#The program will continue to run from i =1 till 6.When i=7,while true,if true\n",
    "#if true and s3 is logical error and ctrl goes to except block and error is displayed\n",
    "#s3 variable is not defined(when u do not define outside whileloop)"
   ]
  },
  {
   "cell_type": "code",
   "execution_count": 17,
   "metadata": {},
   "outputs": [
    {
     "data": {
      "text/plain": [
       "2"
      ]
     },
     "execution_count": 17,
     "metadata": {},
     "output_type": "execute_result"
    }
   ],
   "source": [
    "2%7"
   ]
  },
  {
   "cell_type": "code",
   "execution_count": 5,
   "metadata": {},
   "outputs": [
    {
     "data": {
      "text/plain": [
       "2"
      ]
     },
     "execution_count": 5,
     "metadata": {},
     "output_type": "execute_result"
    }
   ],
   "source": [
    "2%7"
   ]
  },
  {
   "cell_type": "code",
   "execution_count": 19,
   "metadata": {},
   "outputs": [
    {
     "name": "stdout",
     "output_type": "stream",
     "text": [
      "hey\n"
     ]
    }
   ],
   "source": [
    "l1=[1,2]\n",
    "try:    \n",
    "    if '1' in l1:#if '1' in l1\n",
    "        print(\"yes\")\n",
    "    print(\"hey\")\n",
    "except Exception as e:\n",
    "    print(e)\n",
    "    "
   ]
  },
  {
   "cell_type": "code",
   "execution_count": 7,
   "metadata": {},
   "outputs": [
    {
     "name": "stdout",
     "output_type": "stream",
     "text": [
      "112\n"
     ]
    }
   ],
   "source": [
    "i=7\n",
    "s=0\n",
    "while i<=50:\n",
    "    if i%2!=0:\n",
    "        s+=i\n",
    "    i+=7\n",
    "print(s)"
   ]
  },
  {
   "cell_type": "code",
   "execution_count": null,
   "metadata": {},
   "outputs": [],
   "source": []
  },
  {
   "cell_type": "code",
   "execution_count": null,
   "metadata": {},
   "outputs": [],
   "source": [
    "#1st iter,i=1,while 1=<50,true,stmts are executed\n",
    "#2ns iter,i=2,while cond 2<=50 true,\n",
    "#i=7,s=7\\\n",
    "#i=21,s=28\n",
    "#i=35,s=63\n",
    "#i=49,s=63+49"
   ]
  },
  {
   "cell_type": "code",
   "execution_count": 22,
   "metadata": {},
   "outputs": [
    {
     "data": {
      "text/plain": [
       "1"
      ]
     },
     "execution_count": 22,
     "metadata": {},
     "output_type": "execute_result"
    }
   ],
   "source": [
    "35%2"
   ]
  },
  {
   "cell_type": "code",
   "execution_count": 24,
   "metadata": {},
   "outputs": [
    {
     "data": {
      "text/plain": [
       "112"
      ]
     },
     "execution_count": 24,
     "metadata": {},
     "output_type": "execute_result"
    }
   ],
   "source": [
    "63+49"
   ]
  },
  {
   "cell_type": "code",
   "execution_count": 8,
   "metadata": {},
   "outputs": [
    {
     "data": {
      "text/plain": [
       "112"
      ]
     },
     "execution_count": 8,
     "metadata": {},
     "output_type": "execute_result"
    }
   ],
   "source": [
    "7+21+35+49"
   ]
  },
  {
   "cell_type": "code",
   "execution_count": null,
   "metadata": {},
   "outputs": [],
   "source": [
    "\n",
    "\n",
    "\n",
    "\n",
    "\n",
    "\n",
    "\n",
    "\n",
    "\n",
    "\n",
    "#the amt typed by me must be divisible by 100.\n",
    "#200,300,400,500,600\n",
    "#the amt typed by me must be multiple of 100.100,200,300,400,500\n",
    "#x%100==0\n",
    "#200,400,600,800,1000 are multiples of 200\n",
    "#x%200==0\n",
    "#500,1000,1500,2000 are multiples of 500\n",
    "#x%500==0\n",
    "\n",
    "\n"
   ]
  },
  {
   "cell_type": "code",
   "execution_count": 1,
   "metadata": {},
   "outputs": [],
   "source": [
    "#4)python program to display working of atm machine using if else:\n"
   ]
  },
  {
   "cell_type": "code",
   "execution_count": 33,
   "metadata": {
    "scrolled": false
   },
   "outputs": [
    {
     "name": "stdout",
     "output_type": "stream",
     "text": [
      "wc to hindustan bank atm\n",
      "insert your atm card\n",
      "enter your pin number1234\n",
      "type 1 for cash withdrawal and balance info\n",
      "type of transaction1\n",
      "1\n",
      "cash withdrawal and balance info\n",
      "enter the amount 1000\n",
      " take your cash.Visit us again \n",
      "balance amount is : 29000\n"
     ]
    }
   ],
   "source": [
    "print(\"wc to hindustan bank atm\")\n",
    "print(\"insert your atm card\")\n",
    "num1=int(input(\"enter your pin number\"))\n",
    "pin=1234\n",
    "savings=30000\n",
    "\n",
    "if num1==pin:\n",
    "    print(\"type 1 for cash withdrawal and balance info\")\n",
    "    num2=int(input(\"type of transaction\"))\n",
    "    print(num2)\n",
    "    if num2==1:\n",
    "        print(\"cash withdrawal and balance info\")\n",
    "        num3=int(input(\"enter the amount \"))\n",
    "        if num3<savings and num3%500==0 and num3%200==0:\n",
    "            num4=savings-num3\n",
    "            print(\" take your cash.Visit us again \")\n",
    "            print(\"balance amount is :\",num4)\n",
    "            \n",
    "        else:\n",
    "            print(\"invalid cash\")\n",
    "            \n",
    "            \n",
    "        \n",
    "    else:\n",
    "        print(\"invalid type\")\n",
    "else:\n",
    "    print(\"invalid pin\")\n",
    "     \n",
    " \n"
   ]
  },
  {
   "cell_type": "code",
   "execution_count": null,
   "metadata": {
    "scrolled": true
   },
   "outputs": [],
   "source": []
  },
  {
   "cell_type": "code",
   "execution_count": null,
   "metadata": {},
   "outputs": [],
   "source": [
    "#python program to check if both strings are in lower case or not"
   ]
  },
  {
   "cell_type": "code",
   "execution_count": 16,
   "metadata": {},
   "outputs": [
    {
     "name": "stdout",
     "output_type": "stream",
     "text": [
      "both strings are in lower case\n"
     ]
    }
   ],
   "source": [
    "mystr=\"RAM\"\n",
    "mystr2=\"ram\"\n",
    "if mystr.lower()==mystr2.lower():\n",
    "    \n",
    "    print(\"both strings are in lower case\")\n",
    "else:\n",
    "    print(\"hello\")\n",
    "#"
   ]
  },
  {
   "cell_type": "code",
   "execution_count": 4,
   "metadata": {},
   "outputs": [
    {
     "data": {
      "text/plain": [
       "'RAM'"
      ]
     },
     "execution_count": 4,
     "metadata": {},
     "output_type": "execute_result"
    }
   ],
   "source": [
    "mystr.upper()"
   ]
  },
  {
   "cell_type": "code",
   "execution_count": null,
   "metadata": {},
   "outputs": [],
   "source": [
    "#Break statement in python"
   ]
  },
  {
   "cell_type": "markdown",
   "metadata": {},
   "source": [
    " We can use the break statement with the for loop to terminate the loop\n",
    " when a certain condition(say if) is met.\n",
    " break stmt breaks out of the for/while loop."
   ]
  },
  {
   "cell_type": "code",
   "execution_count": 5,
   "metadata": {},
   "outputs": [],
   "source": []
  },
  {
   "cell_type": "code",
   "execution_count": 1,
   "metadata": {},
   "outputs": [
    {
     "name": "stdout",
     "output_type": "stream",
     "text": [
      "0\n",
      "1\n",
      "2\n",
      "3\n",
      "4\n",
      "5\n"
     ]
    }
   ],
   "source": [
    "for i in range(7):\n",
    "    if i == 6:\n",
    "        break\n",
    "    print(i)\n",
    "    #if cond true then breaks out of the entire looop.not necesssary.\n",
    "#Break breaks out of entire loop."
   ]
  },
  {
   "cell_type": "code",
   "execution_count": 2,
   "metadata": {
    "scrolled": false
   },
   "outputs": [
    {
     "name": "stdout",
     "output_type": "stream",
     "text": [
      "0\n",
      "1\n",
      "2\n",
      "3\n",
      "3\n"
     ]
    }
   ],
   "source": [
    "for i in range(100):\n",
    "    if i == 3:\n",
    "        print(i)\n",
    "    if i==4:\n",
    "        break\n",
    "    print(i)\n",
    "    "
   ]
  },
  {
   "cell_type": "code",
   "execution_count": null,
   "metadata": {},
   "outputs": [],
   "source": [
    "#diff btw multiple ifs one by one and elif.(imp)"
   ]
  },
  {
   "cell_type": "code",
   "execution_count": 3,
   "metadata": {},
   "outputs": [
    {
     "name": "stdout",
     "output_type": "stream",
     "text": [
      "7\n",
      "28\n",
      "49\n"
     ]
    }
   ],
   "source": [
    "# program to find first 5 multiples of 7\n",
    "\n",
    "i = 1\n",
    "while (i<=8):\n",
    "    print(7 * i)\n",
    "    if i >= 6:\n",
    "        break\n",
    "#         print(\"hi\")    \n",
    "    i = i + 3  \n",
    "    \n",
    "   \n",
    "#7,14,21,28,35\n",
    "#when i do not increment the iterator in while loop,every time condn is checked and i value will be 1.infinite loop"
   ]
  },
  {
   "cell_type": "code",
   "execution_count": null,
   "metadata": {},
   "outputs": [],
   "source": [
    "# program to first 5 multiples of 7 and 5 \n",
    "#(using break stmt in while loop)"
   ]
  },
  {
   "cell_type": "code",
   "execution_count": null,
   "metadata": {},
   "outputs": [],
   "source": []
  },
  {
   "cell_type": "code",
   "execution_count": null,
   "metadata": {},
   "outputs": [],
   "source": [
    "#Continue stmt-continues to the next iteration in the for/while loop."
   ]
  },
  {
   "cell_type": "code",
   "execution_count": null,
   "metadata": {},
   "outputs": [],
   "source": [
    "\n",
    "#continue stmt skips the current iteration of the while loop.\n"
   ]
  },
  {
   "cell_type": "code",
   "execution_count": null,
   "metadata": {},
   "outputs": [],
   "source": []
  },
  {
   "cell_type": "code",
   "execution_count": 6,
   "metadata": {},
   "outputs": [],
   "source": [
    "syntax:\n",
    "    \n",
    "for loop:\n",
    "    continue"
   ]
  },
  {
   "cell_type": "code",
   "execution_count": null,
   "metadata": {},
   "outputs": [],
   "source": [
    "syntax:\n",
    "    \n",
    "while loop:\n",
    "    if condn:\n",
    "        continue"
   ]
  },
  {
   "cell_type": "code",
   "execution_count": null,
   "metadata": {},
   "outputs": [],
   "source": [
    "while loop:\n",
    "    continue\n",
    "    \n",
    "for loop:\n",
    "    continue"
   ]
  },
  {
   "cell_type": "code",
   "execution_count": null,
   "metadata": {},
   "outputs": [],
   "source": [
    "#both continue and break stmts are used in if condns..they can be used without if conditions too."
   ]
  },
  {
   "cell_type": "code",
   "execution_count": 5,
   "metadata": {
    "scrolled": true
   },
   "outputs": [
    {
     "name": "stdout",
     "output_type": "stream",
     "text": [
      "hi\n",
      "3\n"
     ]
    }
   ],
   "source": [
    "for i in range(5):\n",
    "    if i == 3:\n",
    "        print(\"hi\")\n",
    "    else:\n",
    "        continue\n",
    "    print(i)\n",
    "#continue and break stmts do not care of the stmts after them.continue will go the for loop."
   ]
  },
  {
   "cell_type": "code",
   "execution_count": 5,
   "metadata": {
    "scrolled": true
   },
   "outputs": [
    {
     "name": "stdout",
     "output_type": "stream",
     "text": [
      "1\n",
      "3\n",
      "5\n",
      "7\n",
      "9\n"
     ]
    }
   ],
   "source": [
    "# program to print odd numbers from 1 to 10\n",
    "\n",
    "num = 0\n",
    "while num < 10:\n",
    "    num += 1    \n",
    "    if (num % 2) == 0:\n",
    "        continue\n",
    "#         print(\"hi\")\n",
    "    print(num)\n",
    "#continues to the next iteration.further stmts in loop not executed.\n",
    "#when if cond is true,\"hello\" is printed.\n"
   ]
  },
  {
   "cell_type": "code",
   "execution_count": 6,
   "metadata": {},
   "outputs": [
    {
     "name": "stdout",
     "output_type": "stream",
     "text": [
      "10\n"
     ]
    }
   ],
   "source": [
    "num = 0\n",
    "\n",
    "while num < 10:\n",
    "    num += 10    \n",
    "    if (num % 2) == 0:\n",
    "#         print(\"hello\")\n",
    "        break\n",
    "print(num)"
   ]
  },
  {
   "cell_type": "code",
   "execution_count": 11,
   "metadata": {
    "scrolled": true
   },
   "outputs": [
    {
     "name": "stdout",
     "output_type": "stream",
     "text": [
      "hi\n"
     ]
    }
   ],
   "source": [
    "#9\n",
    "#print(\"hi\"),input(),int(),for,float,while,if,---pre defined functions/in built funstion"
   ]
  },
  {
   "cell_type": "code",
   "execution_count": null,
   "metadata": {},
   "outputs": [],
   "source": [
    "#user defined functions-"
   ]
  },
  {
   "cell_type": "code",
   "execution_count": null,
   "metadata": {},
   "outputs": [],
   "source": [
    "#Udf means i can create my own function.i define my function.\n",
    "#def func_name()#def keyword used in front of udf.\n",
    "#return value or none will go to function call."
   ]
  },
  {
   "cell_type": "markdown",
   "metadata": {},
   "source": [
    "Python User-defined functions\n",
    "All the functions that are written by any of us come under the category of user-defined functions. Below are the steps for writing user-defined functions in Python.\n",
    "\n",
    "In Python, a def keyword is used to declare user-defined functions. \n",
    "An indented block of statements follows the function name and arguments\n",
    "which contains the body of the function. \n"
   ]
  },
  {
   "cell_type": "code",
   "execution_count": null,
   "metadata": {},
   "outputs": [],
   "source": [
    "\n",
    "Syntax\n",
    "def udf( parameters ):\n",
    "    stmts\n",
    "    return value\n",
    "\n",
    "\n",
    "    \n",
    "\n",
    "\n",
    "a=udf(x)\n",
    "print(a)"
   ]
  },
  {
   "cell_type": "code",
   "execution_count": 17,
   "metadata": {},
   "outputs": [
    {
     "data": {
      "text/plain": [
       "27"
      ]
     },
     "execution_count": 17,
     "metadata": {},
     "output_type": "execute_result"
    }
   ],
   "source": [
    "3**3"
   ]
  },
  {
   "cell_type": "code",
   "execution_count": 8,
   "metadata": {},
   "outputs": [
    {
     "name": "stdout",
     "output_type": "stream",
     "text": [
      "83\n",
      "The multiplication is False\n"
     ]
    }
   ],
   "source": [
    "\n",
    "def mult(x,y):\n",
    "    a = x ** y\n",
    "    print(a+2)\n",
    "    return a*100==100*2\n",
    "\n",
    "num1 = 3\n",
    "num2 = 4\n",
    "\n",
    "print(\"The multiplication is\", mult(num1, num2))\n",
    "#mathematical operation takes place\n",
    "#no return value\n",
    "#print(),input()-in built functions\n"
   ]
  },
  {
   "cell_type": "code",
   "execution_count": 12,
   "metadata": {},
   "outputs": [
    {
     "name": "stdout",
     "output_type": "stream",
     "text": [
      "12\n",
      "The multiplication is None\n"
     ]
    }
   ],
   "source": [
    "\n",
    "def mult(x,y):\n",
    "    a = x * y\n",
    "    print(a)\n",
    "#     return a\n",
    "#     return None\n",
    "\n",
    "num1 = 3\n",
    "num2 = 4\n",
    "\n",
    "print(\"The multiplication is\",mult(num1,num2))"
   ]
  },
  {
   "cell_type": "code",
   "execution_count": null,
   "metadata": {},
   "outputs": [],
   "source": [
    "def function(*a):\n",
    "    "
   ]
  },
  {
   "cell_type": "code",
   "execution_count": null,
   "metadata": {},
   "outputs": [],
   "source": [
    "#1)Python program to print first 5 multiples of 7 and 5\n",
    "\n",
    "\n",
    "\n"
   ]
  },
  {
   "cell_type": "code",
   "execution_count": 4,
   "metadata": {
    "scrolled": true
   },
   "outputs": [
    {
     "name": "stdout",
     "output_type": "stream",
     "text": [
      "7 5\n",
      "14 10\n",
      "21 15\n",
      "28 20\n",
      "35 25\n"
     ]
    }
   ],
   "source": [
    "\n",
    "i=1\n",
    "for i in range(1,6):\n",
    "    print((str(7*i)+\" \"+str(5*i)))\n",
    "    \n",
    "    \n",
    "    \n",
    "    \n",
    "    \n",
    "    \n",
    "    \n",
    "    \n",
    "    "
   ]
  },
  {
   "cell_type": "code",
   "execution_count": 13,
   "metadata": {},
   "outputs": [],
   "source": [
    "# for i in range(1,6):\n",
    "#     print(str(7*i)+\"   \"+str(5*i))#try len,type functions"
   ]
  },
  {
   "cell_type": "markdown",
   "metadata": {},
   "source": [
    "Indexing in string/list - access a character/element in a string/list using index number\n",
    "Slicing in string/list/tuple-access a group of characters/elements in a string/list/tuple"
   ]
  },
  {
   "cell_type": "code",
   "execution_count": 2,
   "metadata": {
    "scrolled": true
   },
   "outputs": [
    {
     "data": {
      "text/plain": [
       "6"
      ]
     },
     "execution_count": 2,
     "metadata": {},
     "output_type": "execute_result"
    }
   ],
   "source": [
    "\n",
    "mystr=\"ra hul\"\n",
    "mystr[2]\n",
    "len(mystr)"
   ]
  },
  {
   "cell_type": "code",
   "execution_count": 18,
   "metadata": {},
   "outputs": [],
   "source": [
    "# mystr1=\"rahul\"\n",
    "# mystr1[2]"
   ]
  },
  {
   "cell_type": "code",
   "execution_count": null,
   "metadata": {},
   "outputs": [],
   "source": [
    "#positive indexing-access a character from start of a string\n",
    "#negative indexing-access a character from last of a string"
   ]
  },
  {
   "cell_type": "code",
   "execution_count": 14,
   "metadata": {},
   "outputs": [
    {
     "data": {
      "text/plain": [
       "' '"
      ]
     },
     "execution_count": 14,
     "metadata": {},
     "output_type": "execute_result"
    }
   ],
   "source": [
    "mystr[2]"
   ]
  },
  {
   "cell_type": "code",
   "execution_count": 20,
   "metadata": {},
   "outputs": [
    {
     "data": {
      "text/plain": [
       "'ra hul'"
      ]
     },
     "execution_count": 20,
     "metadata": {},
     "output_type": "execute_result"
    }
   ],
   "source": [
    "mystr"
   ]
  },
  {
   "cell_type": "code",
   "execution_count": 26,
   "metadata": {},
   "outputs": [
    {
     "data": {
      "text/plain": [
       "'h'"
      ]
     },
     "execution_count": 26,
     "metadata": {},
     "output_type": "execute_result"
    }
   ],
   "source": [
    "mystr[3:5:2]"
   ]
  },
  {
   "cell_type": "code",
   "execution_count": 22,
   "metadata": {},
   "outputs": [
    {
     "data": {
      "text/plain": [
       "2"
      ]
     },
     "execution_count": 22,
     "metadata": {},
     "output_type": "execute_result"
    }
   ],
   "source": [
    "# len(mystr[1:3])"
   ]
  },
  {
   "cell_type": "code",
   "execution_count": null,
   "metadata": {},
   "outputs": [],
   "source": [
    "positive indexing -from start"
   ]
  },
  {
   "cell_type": "code",
   "execution_count": null,
   "metadata": {},
   "outputs": [],
   "source": [
    "Negative indexing - indexing from the end of the string"
   ]
  },
  {
   "cell_type": "code",
   "execution_count": 27,
   "metadata": {},
   "outputs": [
    {
     "data": {
      "text/plain": [
       "'ra hul'"
      ]
     },
     "execution_count": 27,
     "metadata": {},
     "output_type": "execute_result"
    }
   ],
   "source": [
    "mystr\n",
    "#in case of positive and negative slicing,slicing must\n",
    "#be performed from left to right."
   ]
  },
  {
   "cell_type": "code",
   "execution_count": 36,
   "metadata": {},
   "outputs": [
    {
     "data": {
      "text/plain": [
       "'r'"
      ]
     },
     "execution_count": 36,
     "metadata": {},
     "output_type": "execute_result"
    }
   ],
   "source": [
    "(mystr[-8:-5:3])"
   ]
  },
  {
   "cell_type": "code",
   "execution_count": 3,
   "metadata": {
    "scrolled": true
   },
   "outputs": [
    {
     "data": {
      "text/plain": [
       "'r '"
      ]
     },
     "execution_count": 3,
     "metadata": {},
     "output_type": "execute_result"
    }
   ],
   "source": [
    "(mystr[-6:-3:2])\n",
    "\n",
    "\n",
    "\n",
    "\n",
    "#slices 4 th element from last to 2 nd element from last-1"
   ]
  },
  {
   "cell_type": "code",
   "execution_count": null,
   "metadata": {},
   "outputs": [],
   "source": [
    "#takes the first element by default for all greater than 6th element"
   ]
  },
  {
   "cell_type": "code",
   "execution_count": 36,
   "metadata": {},
   "outputs": [
    {
     "data": {
      "text/plain": [
       "'ra hul'"
      ]
     },
     "execution_count": 36,
     "metadata": {},
     "output_type": "execute_result"
    }
   ],
   "source": [
    "mystr"
   ]
  },
  {
   "cell_type": "code",
   "execution_count": 35,
   "metadata": {},
   "outputs": [
    {
     "data": {
      "text/plain": [
       "'ru'"
      ]
     },
     "execution_count": 35,
     "metadata": {},
     "output_type": "execute_result"
    }
   ],
   "source": [
    "mystr[0:6:4]#r starting Ending with u "
   ]
  },
  {
   "cell_type": "code",
   "execution_count": 27,
   "metadata": {
    "scrolled": true
   },
   "outputs": [
    {
     "data": {
      "text/plain": [
       "3"
      ]
     },
     "execution_count": 27,
     "metadata": {},
     "output_type": "execute_result"
    }
   ],
   "source": [
    "len(mystr[0:6:2])"
   ]
  },
  {
   "cell_type": "code",
   "execution_count": 39,
   "metadata": {},
   "outputs": [
    {
     "data": {
      "text/plain": [
       "'thunder'"
      ]
     },
     "execution_count": 39,
     "metadata": {},
     "output_type": "execute_result"
    }
   ],
   "source": [
    "mylist=[\"sky\",\"rain\",\"sun\",\"thunder\"]\n",
    "mylist[3]"
   ]
  },
  {
   "cell_type": "code",
   "execution_count": 33,
   "metadata": {
    "scrolled": true
   },
   "outputs": [
    {
     "data": {
      "text/plain": [
       "['sun']"
      ]
     },
     "execution_count": 33,
     "metadata": {},
     "output_type": "execute_result"
    }
   ],
   "source": [
    "mylist[2:3]"
   ]
  },
  {
   "cell_type": "code",
   "execution_count": 31,
   "metadata": {},
   "outputs": [
    {
     "data": {
      "text/plain": [
       "['sky', 'rain', 'sun']"
      ]
     },
     "execution_count": 31,
     "metadata": {},
     "output_type": "execute_result"
    }
   ],
   "source": [
    "mylist[-4:-1]"
   ]
  },
  {
   "cell_type": "code",
   "execution_count": 41,
   "metadata": {
    "scrolled": true
   },
   "outputs": [
    {
     "data": {
      "text/plain": [
       "['sky']"
      ]
     },
     "execution_count": 41,
     "metadata": {},
     "output_type": "execute_result"
    }
   ],
   "source": [
    "mylist[-4:-2:+2]\n",
    "#"
   ]
  },
  {
   "cell_type": "code",
   "execution_count": null,
   "metadata": {},
   "outputs": [],
   "source": []
  },
  {
   "cell_type": "markdown",
   "metadata": {},
   "source": [
    "Python dictionary stores data in key/value pairs.\n",
    "Here,keys are unique identifiers that are associated with each value."
   ]
  },
  {
   "cell_type": "code",
   "execution_count": null,
   "metadata": {},
   "outputs": [],
   "source": [
    "If we want to store information about countries and their capitals,\n",
    "we can create a dictionary with country names as keys and capitals as values."
   ]
  },
  {
   "cell_type": "code",
   "execution_count": null,
   "metadata": {},
   "outputs": [],
   "source": [
    "#[],(),{key:value}"
   ]
  },
  {
   "cell_type": "code",
   "execution_count": 10,
   "metadata": {},
   "outputs": [
    {
     "name": "stdout",
     "output_type": "stream",
     "text": [
      "{'Delhi': 'India', 'Colombo': 'Sri Lanka', 'London': 'England'}\n"
     ]
    },
    {
     "data": {
      "text/plain": [
       "dict"
      ]
     },
     "execution_count": 10,
     "metadata": {},
     "output_type": "execute_result"
    }
   ],
   "source": [
    "dict_a = {\"Delhi\": \"India\", \"Colombo\": \"Sri Lanka\", \"London\": \"England\"}\n",
    "print(dict_a)\n",
    "type(dict_a)"
   ]
  },
  {
   "cell_type": "code",
   "execution_count": 17,
   "metadata": {},
   "outputs": [
    {
     "data": {
      "text/plain": [
       "dict_keys(['Delhi', 'Colombo', 'London'])"
      ]
     },
     "execution_count": 17,
     "metadata": {},
     "output_type": "execute_result"
    }
   ],
   "source": [
    "dict_a.keys()"
   ]
  },
  {
   "cell_type": "code",
   "execution_count": 20,
   "metadata": {},
   "outputs": [
    {
     "name": "stdout",
     "output_type": "stream",
     "text": [
      "Delhi\n",
      "Colombo\n",
      "London\n"
     ]
    }
   ],
   "source": [
    "for i in dict_a.keys():\n",
    "    print(i)"
   ]
  },
  {
   "cell_type": "code",
   "execution_count": 19,
   "metadata": {
    "scrolled": true
   },
   "outputs": [
    {
     "data": {
      "text/plain": [
       "dict_values(['India', 'Sri Lanka', 'England'])"
      ]
     },
     "execution_count": 19,
     "metadata": {},
     "output_type": "execute_result"
    }
   ],
   "source": [
    "dict_a.values()"
   ]
  },
  {
   "cell_type": "code",
   "execution_count": 35,
   "metadata": {
    "scrolled": true
   },
   "outputs": [
    {
     "data": {
      "text/plain": [
       "dict_items([('Delhi', 'India'), ('Colombo', 'Sri Lanka'), ('London', 'England')])"
      ]
     },
     "execution_count": 35,
     "metadata": {},
     "output_type": "execute_result"
    }
   ],
   "source": [
    "dict_a.items()"
   ]
  },
  {
   "cell_type": "code",
   "execution_count": 11,
   "metadata": {
    "scrolled": false
   },
   "outputs": [],
   "source": [
    "dict_a['Moscow']='Russia'\n",
    "\n",
    "#Add Elements in a  Dictionary.element means  a key value pair.inserting new item into dictionary\n",
    "# for i in dict_a:\n",
    "#     print(i[0])\n",
    "#keys printed (imp)\n"
   ]
  },
  {
   "cell_type": "code",
   "execution_count": 38,
   "metadata": {},
   "outputs": [
    {
     "data": {
      "text/plain": [
       "4"
      ]
     },
     "execution_count": 38,
     "metadata": {},
     "output_type": "execute_result"
    }
   ],
   "source": [
    "len(dict_a)"
   ]
  },
  {
   "cell_type": "code",
   "execution_count": 13,
   "metadata": {
    "scrolled": true
   },
   "outputs": [],
   "source": [
    "dict_a['Moscow']='Ussr'"
   ]
  },
  {
   "cell_type": "code",
   "execution_count": 15,
   "metadata": {
    "scrolled": true
   },
   "outputs": [
    {
     "data": {
      "text/plain": [
       "{'Delhi': 'India',\n",
       " 'Colombo': 'Sri Lanka',\n",
       " 'London': 'England',\n",
       " 'Moscow': 'Ussr'}"
      ]
     },
     "execution_count": 15,
     "metadata": {},
     "output_type": "execute_result"
    }
   ],
   "source": [
    "dict_a"
   ]
  },
  {
   "cell_type": "code",
   "execution_count": 16,
   "metadata": {},
   "outputs": [],
   "source": [
    "del dict_a['Moscow']"
   ]
  },
  {
   "cell_type": "code",
   "execution_count": 17,
   "metadata": {},
   "outputs": [
    {
     "data": {
      "text/plain": [
       "{'Delhi': 'India', 'Colombo': 'Sri Lanka', 'London': 'England'}"
      ]
     },
     "execution_count": 17,
     "metadata": {},
     "output_type": "execute_result"
    }
   ],
   "source": [
    "dict_a"
   ]
  },
  {
   "cell_type": "code",
   "execution_count": 40,
   "metadata": {},
   "outputs": [
    {
     "data": {
      "text/plain": [
       "{'Delhi': 'India',\n",
       " 'Colombo': 'Sri Lanka',\n",
       " 'London': 'England',\n",
       " 'Moscow': 'Roos'}"
      ]
     },
     "execution_count": 40,
     "metadata": {},
     "output_type": "execute_result"
    }
   ],
   "source": [
    "#change elemnts in a dict\n",
    "dict_a['Moscow']='Roos'\n",
    "dict_a\n",
    "#we have changed the value associated with the key Paris to \"f\"."
   ]
  },
  {
   "cell_type": "code",
   "execution_count": 43,
   "metadata": {},
   "outputs": [
    {
     "data": {
      "text/plain": [
       "'Sri Lanka'"
      ]
     },
     "execution_count": 43,
     "metadata": {},
     "output_type": "execute_result"
    }
   ],
   "source": [
    "#access value of a key\n",
    "dict_a['Colombo']"
   ]
  },
  {
   "cell_type": "code",
   "execution_count": null,
   "metadata": {},
   "outputs": [],
   "source": [
    "#Here, keys and values both are of string type. We can also have keys and values of different data types."
   ]
  },
  {
   "cell_type": "code",
   "execution_count": 19,
   "metadata": {},
   "outputs": [
    {
     "name": "stdout",
     "output_type": "stream",
     "text": [
      "{1: 'One', 2: 'Two', 3: 'Three'}\n"
     ]
    }
   ],
   "source": [
    "# dictionary with keys and values of different data types\n",
    "numbers = {1: \"One\", 2: \"Two\", 3: \"Three\"}\n",
    "print(numbers)"
   ]
  },
  {
   "cell_type": "code",
   "execution_count": 18,
   "metadata": {
    "scrolled": true
   },
   "outputs": [
    {
     "data": {
      "text/plain": [
       "{1: 1.11, 2: 4.1}"
      ]
     },
     "execution_count": 18,
     "metadata": {},
     "output_type": "execute_result"
    }
   ],
   "source": [
    "dict_b={1:1.11,2:4.1}\n",
    "dict_b"
   ]
  },
  {
   "cell_type": "code",
   "execution_count": 32,
   "metadata": {},
   "outputs": [
    {
     "name": "stdout",
     "output_type": "stream",
     "text": [
      "{1: 1.11}\n"
     ]
    }
   ],
   "source": [
    "del dict_b[2]\n",
    "print(dict_b)"
   ]
  },
  {
   "cell_type": "code",
   "execution_count": 15,
   "metadata": {
    "scrolled": true
   },
   "outputs": [
    {
     "data": {
      "text/plain": [
       "{1: 1.11}"
      ]
     },
     "execution_count": 15,
     "metadata": {},
     "output_type": "execute_result"
    }
   ],
   "source": [
    "dict_b"
   ]
  },
  {
   "cell_type": "code",
   "execution_count": 1,
   "metadata": {
    "scrolled": true
   },
   "outputs": [
    {
     "data": {
      "text/plain": [
       "[1, 2, 4, 'b']"
      ]
     },
     "execution_count": 1,
     "metadata": {},
     "output_type": "execute_result"
    }
   ],
   "source": [
    "#\n",
    "l1=[1,2,4]\n",
    "l1.append(\"b\")\n",
    "l1\n",
    "#the whole is executed from the start \n"
   ]
  },
  {
   "cell_type": "code",
   "execution_count": 2,
   "metadata": {},
   "outputs": [
    {
     "name": "stdout",
     "output_type": "stream",
     "text": [
      "[1, 2, 4, 'b', 2, 3, 4]\n"
     ]
    }
   ],
   "source": [
    "l2=[2,3,4]\n",
    "l1.extend(l2)\n",
    "print(l1)"
   ]
  },
  {
   "cell_type": "code",
   "execution_count": 3,
   "metadata": {},
   "outputs": [
    {
     "data": {
      "text/plain": [
       "[1, 2, 4, 'b', 2, 3, 4]"
      ]
     },
     "execution_count": 3,
     "metadata": {},
     "output_type": "execute_result"
    }
   ],
   "source": [
    "l1"
   ]
  },
  {
   "cell_type": "code",
   "execution_count": 4,
   "metadata": {},
   "outputs": [],
   "source": [
    "l1.append(l2)"
   ]
  },
  {
   "cell_type": "code",
   "execution_count": 5,
   "metadata": {
    "scrolled": true
   },
   "outputs": [
    {
     "data": {
      "text/plain": [
       "8"
      ]
     },
     "execution_count": 5,
     "metadata": {},
     "output_type": "execute_result"
    }
   ],
   "source": [
    "len(l1)"
   ]
  },
  {
   "cell_type": "code",
   "execution_count": null,
   "metadata": {},
   "outputs": [],
   "source": [
    "#When we append a list into a list,it will be stored as a single element in 1 st list."
   ]
  },
  {
   "cell_type": "code",
   "execution_count": 16,
   "metadata": {
    "scrolled": true
   },
   "outputs": [
    {
     "name": "stdout",
     "output_type": "stream",
     "text": [
      "{'Spain': {'Capital': 'Madrid', 'Population': 4.77}, 'France': {'Capital': 'Paris', 'Population': 6.7}}\n"
     ]
    },
    {
     "data": {
      "text/plain": [
       "{'Capital': 'Madrid', 'Population': 4.77}"
      ]
     },
     "execution_count": 16,
     "metadata": {},
     "output_type": "execute_result"
    }
   ],
   "source": [
    "europe = { 'Spain': { 'Capital':'Madrid', 'Population':4.77 }, 'France': { 'Capital':'Paris', 'Population':6.7 }}\n",
    "print(europe)\n",
    "europe['Spain']"
   ]
  },
  {
   "cell_type": "code",
   "execution_count": 17,
   "metadata": {},
   "outputs": [
    {
     "data": {
      "text/plain": [
       "dict_keys(['Spain', 'France'])"
      ]
     },
     "execution_count": 17,
     "metadata": {},
     "output_type": "execute_result"
    }
   ],
   "source": [
    "europe.keys()"
   ]
  },
  {
   "cell_type": "code",
   "execution_count": 7,
   "metadata": {},
   "outputs": [
    {
     "ename": "NameError",
     "evalue": "name 'europe' is not defined",
     "output_type": "error",
     "traceback": [
      "\u001b[1;31m---------------------------------------------------------------------------\u001b[0m",
      "\u001b[1;31mNameError\u001b[0m                                 Traceback (most recent call last)",
      "\u001b[1;32m<ipython-input-7-e61f4c1236ae>\u001b[0m in \u001b[0;36m<module>\u001b[1;34m\u001b[0m\n\u001b[1;32m----> 1\u001b[1;33m \u001b[0meurope\u001b[0m\u001b[1;33m[\u001b[0m\u001b[1;34m'France'\u001b[0m\u001b[1;33m]\u001b[0m\u001b[1;33m[\u001b[0m\u001b[1;34m'Population'\u001b[0m\u001b[1;33m]\u001b[0m\u001b[1;33m\u001b[0m\u001b[1;33m\u001b[0m\u001b[0m\n\u001b[0m",
      "\u001b[1;31mNameError\u001b[0m: name 'europe' is not defined"
     ]
    }
   ],
   "source": [
    "europe['France']['Population']"
   ]
  },
  {
   "cell_type": "code",
   "execution_count": 17,
   "metadata": {
    "scrolled": true
   },
   "outputs": [
    {
     "data": {
      "text/plain": [
       "dict_keys(['Spain', 'France'])"
      ]
     },
     "execution_count": 17,
     "metadata": {},
     "output_type": "execute_result"
    }
   ],
   "source": [
    "europe.keys()"
   ]
  },
  {
   "cell_type": "code",
   "execution_count": 18,
   "metadata": {},
   "outputs": [
    {
     "data": {
      "text/plain": [
       "dict_values([{'Capital': 'Madrid', 'Population': 4.77}, {'Capital': 'Paris', 'Population': 6.7}])"
      ]
     },
     "execution_count": 18,
     "metadata": {},
     "output_type": "execute_result"
    }
   ],
   "source": [
    "europe.values()"
   ]
  },
  {
   "cell_type": "code",
   "execution_count": 15,
   "metadata": {},
   "outputs": [
    {
     "data": {
      "text/plain": [
       "4.77"
      ]
     },
     "execution_count": 15,
     "metadata": {},
     "output_type": "execute_result"
    }
   ],
   "source": [
    "europe['Spain']['Population']"
   ]
  },
  {
   "cell_type": "code",
   "execution_count": null,
   "metadata": {},
   "outputs": [],
   "source": [
    "#  Spain      france\n",
    "# capital pop  cap  pop\n",
    "# madrid  4.77"
   ]
  },
  {
   "cell_type": "code",
   "execution_count": 2,
   "metadata": {
    "scrolled": true
   },
   "outputs": [
    {
     "data": {
      "text/plain": [
       "dict_keys(['Spain'])"
      ]
     },
     "execution_count": 2,
     "metadata": {},
     "output_type": "execute_result"
    }
   ],
   "source": [
    "europe = {'Spain': {'Madrid': {'Population': 4.77}}}\n",
    "europe.keys()"
   ]
  },
  {
   "cell_type": "code",
   "execution_count": null,
   "metadata": {},
   "outputs": [],
   "source": [
    "-------"
   ]
  },
  {
   "cell_type": "code",
   "execution_count": null,
   "metadata": {},
   "outputs": [],
   "source": [
    "#List comprehension is faster than normal functions and\n",
    "#loops for creating list."
   ]
  },
  {
   "cell_type": "code",
   "execution_count": null,
   "metadata": {},
   "outputs": [],
   "source": [
    "syntax:\n",
    "l1=[2)expression  1)for condition]\n",
    "#for loop iterating through a string/tuple/list\n",
    "#value gets appended into the list as an element of list."
   ]
  },
  {
   "cell_type": "code",
   "execution_count": null,
   "metadata": {},
   "outputs": [],
   "source": [
    "l1=[3)expression value  1)for condition 2)if condn1 if cond2]"
   ]
  },
  {
   "cell_type": "code",
   "execution_count": null,
   "metadata": {},
   "outputs": [],
   "source": [
    "l1=[3)expression value  1)for condition 2)<gating condition>]"
   ]
  },
  {
   "cell_type": "code",
   "execution_count": 13,
   "metadata": {},
   "outputs": [
    {
     "data": {
      "text/plain": [
       "['r', 'o', 'c', 'k', 'e', 't']"
      ]
     },
     "execution_count": 13,
     "metadata": {},
     "output_type": "execute_result"
    }
   ],
   "source": [
    "mylist = [ i for i in 'rocket' ]\n",
    "mylist"
   ]
  },
  {
   "cell_type": "code",
   "execution_count": 15,
   "metadata": {
    "scrolled": false
   },
   "outputs": [
    {
     "name": "stdout",
     "output_type": "stream",
     "text": [
      "['r ', 'o ', 'c ', 'k ', 'e ', 't ']\n"
     ]
    },
    {
     "data": {
      "text/plain": [
       "2"
      ]
     },
     "execution_count": 15,
     "metadata": {},
     "output_type": "execute_result"
    }
   ],
   "source": [
    "#py program to iterate through a  string to a list using lc.\n",
    "mylist = [ i+\" \"  for i in 'rocket' ]\n",
    "print(mylist)\n",
    "##value(character here) gets appended into the list as an element of list.\n",
    "#mylist is not defined in lc\n",
    "type(mylist)\n",
    "len(mylist[1])"
   ]
  },
  {
   "cell_type": "code",
   "execution_count": null,
   "metadata": {},
   "outputs": [],
   "source": [
    "#python program to display square of numbers in a range using lc."
   ]
  },
  {
   "cell_type": "code",
   "execution_count": 16,
   "metadata": {
    "scrolled": false
   },
   "outputs": [
    {
     "name": "stdout",
     "output_type": "stream",
     "text": [
      "[100, 144]\n"
     ]
    }
   ],
   "source": [
    "mylist = [num**2   for num in range(10,14) if num%2!=1]\n",
    "print(mylist)\n",
    "#when the looping in the lc var is complete only then lc var is printed."
   ]
  },
  {
   "cell_type": "code",
   "execution_count": 17,
   "metadata": {},
   "outputs": [
    {
     "name": "stdout",
     "output_type": "stream",
     "text": [
      "[169, 225]\n"
     ]
    }
   ],
   "source": [
    "l1=[]\n",
    "for num in range(10,14+3): #i=10,11,12,13,14,15,16 \n",
    "    if num%2!=0:\n",
    "        if num>12:\n",
    "            l1.append(num**2)\n",
    "print(l1)"
   ]
  },
  {
   "cell_type": "code",
   "execution_count": null,
   "metadata": {},
   "outputs": [],
   "source": []
  },
  {
   "cell_type": "code",
   "execution_count": 5,
   "metadata": {},
   "outputs": [
    {
     "name": "stdout",
     "output_type": "stream",
     "text": [
      "['r', 'o', 'c', 'k', 'e', 't']\n"
     ]
    }
   ],
   "source": [
    "#py program to iterate through a  string to a list using for loop.\n",
    "l1=[]\n",
    "mystr=\"rocket\"\n",
    "for i in mystr:\n",
    "    l1.append(i)\n",
    "print(l1)\n",
    "#for loop-need to define empty list\n",
    "#all variables used inside a for/while loop must be defined.\n"
   ]
  },
  {
   "cell_type": "code",
   "execution_count": 37,
   "metadata": {},
   "outputs": [
    {
     "data": {
      "text/plain": [
       "(2, 2, 2, 2, 2, 2)"
      ]
     },
     "execution_count": 37,
     "metadata": {},
     "output_type": "execute_result"
    }
   ],
   "source": [
    "mystr=\"rocket\"\n",
    "mytuple=tuple(map(lambda x:len(x+' '),mystr))\n",
    "mytuple\n",
    "#lambda is anonymous fun.labda is keyword right side we put a var x\n",
    "#x takes r,value is r and r is mapped into the list \n",
    "# 2rd iter,x takes o,value of expression is o and o is mapped into the list as element"
   ]
  },
  {
   "cell_type": "code",
   "execution_count": null,
   "metadata": {},
   "outputs": [],
   "source": []
  },
  {
   "cell_type": "code",
   "execution_count": null,
   "metadata": {},
   "outputs": [],
   "source": [
    "map(udf or lambda,iterable)"
   ]
  },
  {
   "cell_type": "code",
   "execution_count": 20,
   "metadata": {
    "scrolled": true
   },
   "outputs": [
    {
     "data": {
      "text/plain": [
       "[10, 4]"
      ]
     },
     "execution_count": 20,
     "metadata": {},
     "output_type": "execute_result"
    }
   ],
   "source": [
    "mylist1=[1,6,3,2]\n",
    "l2=list(map(lambda x:(x-1)*2 ,mylist1[1:3]))\n",
    "l2#map function takes udf and lambda functions"
   ]
  },
  {
   "cell_type": "code",
   "execution_count": 22,
   "metadata": {},
   "outputs": [
    {
     "data": {
      "text/plain": [
       "[0, 10, 4, 2]"
      ]
     },
     "execution_count": 22,
     "metadata": {},
     "output_type": "execute_result"
    }
   ],
   "source": [
    "mylist1=[1,6,3,2]\n",
    "list(map(lambda x:(x-1)*2 ,mylist1))\n"
   ]
  },
  {
   "cell_type": "code",
   "execution_count": null,
   "metadata": {},
   "outputs": [],
   "source": [
    "mylist1[1:3]"
   ]
  },
  {
   "cell_type": "code",
   "execution_count": null,
   "metadata": {},
   "outputs": [],
   "source": [
    "#We can use conditional stmts like if,if else in l.c\n",
    "#Using if with List Comprehension"
   ]
  },
  {
   "cell_type": "code",
   "execution_count": 4,
   "metadata": {
    "scrolled": true
   },
   "outputs": [
    {
     "name": "stdout",
     "output_type": "stream",
     "text": [
      "[3, 6, 9]\n"
     ]
    }
   ],
   "source": [
    "#numbers multiple by 3 \n",
    "number_list = [ x for x in range(10) if x % 3 == 0 if x!=0]\n",
    "print(number_list)\n",
    "#"
   ]
  },
  {
   "cell_type": "code",
   "execution_count": 17,
   "metadata": {},
   "outputs": [
    {
     "data": {
      "text/plain": [
       "0"
      ]
     },
     "execution_count": 17,
     "metadata": {},
     "output_type": "execute_result"
    }
   ],
   "source": [
    "l1=[]\n",
    "for cond:\n",
    "    if condn:\n",
    "        l1.append(x)\n",
    "        "
   ]
  },
  {
   "cell_type": "code",
   "execution_count": 17,
   "metadata": {},
   "outputs": [],
   "source": [
    "#\n",
    "# number_list = [ x for x in range(10) if x % 3 == 0 and x%2==0]\n",
    "# print(number_list)\n",
    "\n",
    "\n",
    "# #if cond true so x is 0 and 0 is an element in list.\n",
    "# #if cond fails,expression x not executed.\n",
    "#if cond true, value of expression x is 2,2 is appened into the list."
   ]
  },
  {
   "cell_type": "code",
   "execution_count": 27,
   "metadata": {},
   "outputs": [],
   "source": [
    "# Nested IF with List Comprehension\n",
    "# #print numbers divisible by 2 and 5 combined."
   ]
  },
  {
   "cell_type": "code",
   "execution_count": 24,
   "metadata": {
    "scrolled": true
   },
   "outputs": [
    {
     "name": "stdout",
     "output_type": "stream",
     "text": [
      "[10, 20, 30, 40, 50]\n"
     ]
    }
   ],
   "source": [
    "num_list = [y for y in range(51) if y!=0 if y % 2 == 0 if y % 5 == 0]\n",
    "print(num_list)"
   ]
  },
  {
   "cell_type": "code",
   "execution_count": 25,
   "metadata": {},
   "outputs": [
    {
     "data": {
      "text/plain": [
       "[12, 22, 32, 42, 52]"
      ]
     },
     "execution_count": 25,
     "metadata": {},
     "output_type": "execute_result"
    }
   ],
   "source": [
    "num_list = [y+2 for y in range(51) if y % 2 == 0 and y % 5 == 0 if y!=0]\n",
    "num_list\n",
    "#i check both condns at once,when both condns are true,value of expression is appened "
   ]
  },
  {
   "cell_type": "code",
   "execution_count": null,
   "metadata": {},
   "outputs": [],
   "source": [
    "for y in range(51) :\n",
    "    if y % 2 == 0 and y % 5 == 0:\n",
    "        if y!=0:\n",
    "            y+2\n",
    "        \n",
    "    "
   ]
  },
  {
   "cell_type": "code",
   "execution_count": 8,
   "metadata": {},
   "outputs": [
    {
     "name": "stdout",
     "output_type": "stream",
     "text": [
      "[8, 16, 24, 32, 40, 48]\n"
     ]
    }
   ],
   "source": [
    "num_list=[]\n",
    "for y in range(51):\n",
    "    if y!=0:\n",
    "        if y % 2 == 0:\n",
    "            if y % 8 == 0:\n",
    "                num_list.append(y)\n",
    "print(num_list)\n",
    "#When for,if and if condns are true, expression value is appened into the list var.     \n",
    "\n",
    "    "
   ]
  },
  {
   "cell_type": "code",
   "execution_count": 10,
   "metadata": {},
   "outputs": [
    {
     "name": "stdout",
     "output_type": "stream",
     "text": [
      "['even', 'odd', 'even', 'odd', 'even']\n"
     ]
    }
   ],
   "source": [
    "#: if...else With List Comprehension\n",
    "#Python program to                   print the result of even or odd numbers in a range\n",
    "l2 = [\"even\" if i%2==0 else \"odd\" for i in range(5)]\n",
    "print(l2)\n",
    "# If i is divisible by 2, then Even is appended to the obj list. If not, Odd is appended.\n",
    "#"
   ]
  },
  {
   "cell_type": "markdown",
   "metadata": {},
   "source": [
    "map() function returns a map object(which is an iterator) of the results after applying the given function to each item of a given iterable (list, tuple etc.)\n",
    "\n",
    "Python map() Function Syntax\n",
    "Syntax: map(fun, iter)\n",
    "\n",
    "Parameters:\n",
    "\n",
    "fun: It is a function to which map passes each element of given iterable.\n",
    "iter: It is iterable which is to be mapped."
   ]
  },
  {
   "cell_type": "code",
   "execution_count": null,
   "metadata": {},
   "outputs": [],
   "source": [
    "map(function,iterable)"
   ]
  },
  {
   "cell_type": "code",
   "execution_count": null,
   "metadata": {},
   "outputs": [],
   "source": []
  },
  {
   "cell_type": "code",
   "execution_count": 36,
   "metadata": {},
   "outputs": [],
   "source": [
    "#map()\n",
    "#map function has a function  which is applied on all elements of iterable one by one.\n",
    "#(loop concept)\n",
    "#the mathematical operation in the function definition takes place.\n",
    "#the value of the mathematical expression is mapped into an object."
   ]
  },
  {
   "cell_type": "markdown",
   "metadata": {},
   "source": [
    "map() Return Value:\n",
    "    \n",
    "The map() function returns an object of map class.\n",
    "The returned value can be passed to functions like\n",
    "\n",
    "list() - to convert to list\n",
    "set() - to convert to a set\n"
   ]
  },
  {
   "cell_type": "code",
   "execution_count": 12,
   "metadata": {},
   "outputs": [],
   "source": [
    "import numpy as np"
   ]
  },
  {
   "cell_type": "code",
   "execution_count": 13,
   "metadata": {},
   "outputs": [
    {
     "data": {
      "text/plain": [
       "array([  4,  16,  36,  64, 100])"
      ]
     },
     "execution_count": 13,
     "metadata": {},
     "output_type": "execute_result"
    }
   ],
   "source": [
    "np.square(l1)"
   ]
  },
  {
   "cell_type": "code",
   "execution_count": 19,
   "metadata": {
    "scrolled": true
   },
   "outputs": [
    {
     "data": {
      "text/plain": [
       "[8, 64, 216, 512, 1000]"
      ]
     },
     "execution_count": 19,
     "metadata": {},
     "output_type": "execute_result"
    }
   ],
   "source": [
    "l1 = [2, 4, 6, 8, 10]\n",
    "\n",
    "def cube(i):#definition of the function is here\n",
    "    j=i\n",
    "    return j**3\n",
    "mylist=list(map(cube,l1))\n",
    "mylist\n",
    "#1 st iter time,i=2,math operation takes place,value 8 is mappedinto object.\n",
    "#2 nd iter time,i=4,math oper takes place,value of expression 64 is mapped into object\n",
    "#TypeError: cube() takes 0 positional arguments but 1 was given\n",
    "#explaination:The function definition's parameter is not mentioned.putdef cube(i)"
   ]
  },
  {
   "cell_type": "code",
   "execution_count": 23,
   "metadata": {
    "scrolled": false
   },
   "outputs": [
    {
     "name": "stdout",
     "output_type": "stream",
     "text": [
      "<map object at 0x000001B26CCB9A60>\n",
      "(2, 0, 1, 2)\n"
     ]
    }
   ],
   "source": [
    "mytuple = (4, 2, 3, 4)\n",
    "def add(x):\n",
    "#     print(x)\n",
    "    return x-2\n",
    "obj = map(add, mytuple)\n",
    "print(obj)\n",
    "\n",
    "# # converting map object to list\n",
    "mylist = tuple(obj)\n",
    "print(mylist)\n",
    "\n",
    "#the functions definition is represented in def funname.the mathematical operation takes place and\n",
    "#the value of mathematical operation is mapped into object."
   ]
  },
  {
   "cell_type": "code",
   "execution_count": null,
   "metadata": {
    "scrolled": true
   },
   "outputs": [],
   "source": []
  },
  {
   "cell_type": "code",
   "execution_count": null,
   "metadata": {},
   "outputs": [],
   "source": [
    "#Passing Multiple Iterators to map() Using Lambda"
   ]
  },
  {
   "cell_type": "code",
   "execution_count": null,
   "metadata": {},
   "outputs": [],
   "source": [
    "#lambda in python.it has no name.it is called anonymous function.\n",
    "#lambda x:x+x\n",
    "# #def add(x,y):\n",
    "#    mathe operation\n",
    "#     return value\n",
    "# #add(x,y)"
   ]
  },
  {
   "cell_type": "code",
   "execution_count": null,
   "metadata": {},
   "outputs": [],
   "source": [
    "#lc,lamba,map"
   ]
  },
  {
   "cell_type": "code",
   "execution_count": null,
   "metadata": {},
   "outputs": [],
   "source": []
  },
  {
   "cell_type": "code",
   "execution_count": null,
   "metadata": {},
   "outputs": [],
   "source": [
    "#"
   ]
  },
  {
   "cell_type": "code",
   "execution_count": 36,
   "metadata": {},
   "outputs": [
    {
     "name": "stdout",
     "output_type": "stream",
     "text": [
      "[1, -1, 92]\n"
     ]
    }
   ],
   "source": [
    "num1 = [4, 5, 99]\n",
    "num2 = [3, 6, 7]\n",
    "\n",
    "mylist = map(lambda n1, n2: n1-n2, num1, num2)\n",
    "print(list(mylist))\n",
    "#\n",
    "#n1 and n2 are iterators. an iterator takes all the elements in the list one by one as the loop runs\n",
    "#n1 iteratrs through num1,n2 through num2\n",
    "#1 st iter,n1=4,n2=5,expression value is 9 mapped into object."
   ]
  },
  {
   "cell_type": "code",
   "execution_count": null,
   "metadata": {},
   "outputs": [],
   "source": [
    "#We need the length of both the lists to be same."
   ]
  },
  {
   "cell_type": "markdown",
   "metadata": {},
   "source": [
    "#filter function in python\n",
    "#The filter() function selects elements from an iterable (list, tuple etc.) based on the output of a function."
   ]
  },
  {
   "cell_type": "code",
   "execution_count": 1,
   "metadata": {},
   "outputs": [],
   "source": [
    "\n",
    "\n",
    "#map(udf or lambda fun,iterable)\n",
    "#filter(udf or lambda fun,iterable)\n",
    "\n",
    "#filter fun passes the fun on the iterable.The elements that satisfy a condn are filtered.\n",
    "#map function passes the function on iterable.The expression value is mapped."
   ]
  },
  {
   "cell_type": "code",
   "execution_count": null,
   "metadata": {},
   "outputs": [],
   "source": [
    "#Python program to filter out even numbers in a tuple."
   ]
  },
  {
   "cell_type": "code",
   "execution_count": 26,
   "metadata": {
    "scrolled": true
   },
   "outputs": [
    {
     "data": {
      "text/plain": [
       "[2, 4]"
      ]
     },
     "execution_count": 26,
     "metadata": {},
     "output_type": "execute_result"
    }
   ],
   "source": [
    "mytuple=(1,2,3,4,5)\n",
    "def check_even(x):\n",
    "    if x%2==0:\n",
    "#         print(x)\n",
    "        return True\n",
    "    return False\n",
    "        \n",
    "#check_even\n",
    "list(filter(check_even,mytuple))\n",
    "\n",
    "\n",
    "#"
   ]
  },
  {
   "cell_type": "code",
   "execution_count": 10,
   "metadata": {
    "scrolled": false
   },
   "outputs": [
    {
     "data": {
      "text/plain": [
       "[2, 4]"
      ]
     },
     "execution_count": 10,
     "metadata": {},
     "output_type": "execute_result"
    }
   ],
   "source": [
    "list(filter(lambda x:x%2==0,mytuple))\n",
    "#filter fun filters the elements which satisfy a condition.\n",
    "#x%2==0 is if condn in filter fun and mathe expression in map function."
   ]
  },
  {
   "cell_type": "code",
   "execution_count": null,
   "metadata": {},
   "outputs": [],
   "source": [
    "#filter fun passed the chheck_fun fun on the iterable.def check_even(x):here x is the iterator\n",
    "#which takes 1,2,3,4,5 one by one.if cond true,True is returned to fun call.\n",
    "#Filter fun will filter return True 's element.\n",
    "#Filter fun will not filter return  False's element."
   ]
  },
  {
   "cell_type": "code",
   "execution_count": 11,
   "metadata": {},
   "outputs": [],
   "source": [
    "# the lambda function returns True when the if condn is satisfied."
   ]
  },
  {
   "cell_type": "code",
   "execution_count": null,
   "metadata": {},
   "outputs": [],
   "source": [
    "#"
   ]
  },
  {
   "cell_type": "code",
   "execution_count": 31,
   "metadata": {},
   "outputs": [
    {
     "data": {
      "text/plain": [
       "250"
      ]
     },
     "execution_count": 31,
     "metadata": {},
     "output_type": "execute_result"
    }
   ],
   "source": [
    "#py program to print max numbeer in a list using udf.\n",
    "#i set 77 as max value to compare it with other numbers one by one\n",
    "mylist=[7,5,95,77,250]\n",
    "def max_num(l1):    \n",
    "    maxx=mylist[2]\n",
    "    for i in range(0,len(mylist)):#i=0,1,2,3,4\n",
    "        if mylist[i]>maxx:\n",
    "            maxx=mylist[i]\n",
    "    return maxx\n",
    "max_num(mylist)\n",
    "#exp       \n",
    "\n",
    " #return keyword belongs to fun definition.it must be present else error.\n",
    "#once the for loop ia completed,return maxx is executed."
   ]
  },
  {
   "cell_type": "code",
   "execution_count": 2,
   "metadata": {},
   "outputs": [],
   "source": []
  },
  {
   "cell_type": "code",
   "execution_count": 21,
   "metadata": {},
   "outputs": [
    {
     "name": "stdout",
     "output_type": "stream",
     "text": [
      "None\n",
      "None\n",
      "7\n"
     ]
    }
   ],
   "source": [
    "# Method 1\n",
    "\n",
    "# def f(x):\n",
    "#     return None if x == 0\n",
    "\n",
    "\n",
    "def f1(x):\n",
    "    if x == 0:\n",
    "        return None\n",
    "\n",
    "\n",
    "# Method 2\n",
    "def f2(x):\n",
    "    if x == 0: return None\n",
    "\n",
    "# Method 3\n",
    "def f3(x):\n",
    "    return None if x == 0 else 7\n",
    "\n",
    "print(f1(10))\n",
    "print(f2(10))\n",
    "print(f3(10))"
   ]
  },
  {
   "cell_type": "code",
   "execution_count": 7,
   "metadata": {},
   "outputs": [
    {
     "data": {
      "text/plain": [
       "['a', 'o']"
      ]
     },
     "execution_count": 7,
     "metadata": {},
     "output_type": "execute_result"
    }
   ],
   "source": [
    "#python program to filter vowels in the list.\n",
    "l1=['d','b','a','n','o']\n",
    "def find_vowels(i):\n",
    "    v=['a','e','i','o','u']\n",
    "    if i in v:\n",
    "        return True\n",
    "    else:\n",
    "        return False\n",
    "\n",
    "list(filter(find_vowels,l1))\n",
    "#filter fun passes fun on the iterable.fun is defined.i is the iterator whioch takes all elements of list\n",
    "#one by one.1 st iter,if d in v,failsctrl to else block,reurn false.\n",
    "#filter fun filters return True's element in the list.\n",
    "#1 st iter,i=d,2 nd iter, i=b continues."
   ]
  },
  {
   "cell_type": "code",
   "execution_count": 16,
   "metadata": {
    "scrolled": true
   },
   "outputs": [],
   "source": []
  },
  {
   "cell_type": "code",
   "execution_count": null,
   "metadata": {
    "scrolled": true
   },
   "outputs": [],
   "source": []
  },
  {
   "cell_type": "code",
   "execution_count": 9,
   "metadata": {},
   "outputs": [
    {
     "name": "stdout",
     "output_type": "stream",
     "text": [
      "[1, 4, 27, 16, 125]\n"
     ]
    },
    {
     "data": {
      "text/plain": [
       "True"
      ]
     },
     "execution_count": 9,
     "metadata": {},
     "output_type": "execute_result"
    }
   ],
   "source": [
    "def cubes_squares(start, end):  \n",
    "    results = []\n",
    "    for num in range(start, end+1):\n",
    "        \n",
    "        if num % 2 == 1:\n",
    "\n",
    "            results.append(num ** 3)\n",
    "        else:\n",
    "           \n",
    "            results.append(num ** 2)\n",
    "    \n",
    "    print(results)\n",
    "    return True\n",
    "\n",
    "cubes_squares(1, 5)\n"
   ]
  },
  {
   "cell_type": "code",
   "execution_count": null,
   "metadata": {},
   "outputs": [],
   "source": [
    "1) Validate Email Address : \n",
    "     a. Check for '@' symbol, it should be only 1\n",
    "     b. Only lower case letters are allowed\n",
    "     c. Numbers are allowed\n",
    "     e. No symbols allowed other than '.' & '_'\n"
   ]
  },
  {
   "cell_type": "code",
   "execution_count": null,
   "metadata": {},
   "outputs": [],
   "source": [
    "#cha"
   ]
  },
  {
   "cell_type": "code",
   "execution_count": 29,
   "metadata": {},
   "outputs": [
    {
     "name": "stdout",
     "output_type": "stream",
     "text": [
      "enter the email idcj_07@gmail.com\n",
      "email is valid\n"
     ]
    }
   ],
   "source": [
    "var1=0\n",
    "var2=0\n",
    "var3=0\n",
    "var4=0\n",
    "var5=0\n",
    "var6=0\n",
    "var7=0\n",
    "a=input(\"enter the email id\")\n",
    "for i in a:\n",
    "    if i>='a' and i<='z':\n",
    "        var1+=1\n",
    "    elif i>='A' and i<='Z':\n",
    "        var2+=1\n",
    "    elif i=='@':\n",
    "        var3+=1\n",
    "    elif i>='0' and i<='9':\n",
    "        var4+=1\n",
    "    elif i=='.':\n",
    "        \n",
    "        var5+=1\n",
    "    elif i=='_':\n",
    "        var6+=1\n",
    "    else:\n",
    "        var7+=1\n",
    "if var1>=0 and var2==0 and var3==1 and var4>=0 and var5==1 and var6==1 and var7==0:\n",
    "    print(\"email is valid\")\n",
    "else:\n",
    "    print(\"email is invalid\")"
   ]
  },
  {
   "cell_type": "code",
   "execution_count": null,
   "metadata": {},
   "outputs": [],
   "source": [
    "#when var2+=1 there is no capila letter in the string\n",
    "#when the character is a . or _,irrespective of the count ofthem individually,var5 is incremented by 1\n",
    "#when var6==0,there are no special characters"
   ]
  },
  {
   "cell_type": "code",
   "execution_count": null,
   "metadata": {},
   "outputs": [],
   "source": []
  },
  {
   "cell_type": "code",
   "execution_count": null,
   "metadata": {},
   "outputs": [],
   "source": [
    "#Write a Python Program to calculate the in hand salary of an employee:"
   ]
  },
  {
   "cell_type": "code",
   "execution_count": 13,
   "metadata": {},
   "outputs": [],
   "source": [
    "#basic pay\n",
    "#hra\n",
    "#da\n",
    "#taxable amt\n",
    "#ctc\n",
    "#bonus\n",
    "#deductions like epf"
   ]
  },
  {
   "cell_type": "code",
   "execution_count": 8,
   "metadata": {},
   "outputs": [
    {
     "data": {
      "text/plain": [
       "3000.0"
      ]
     },
     "execution_count": 8,
     "metadata": {},
     "output_type": "execute_result"
    }
   ],
   "source": [
    "#30000\n",
    "0.1*30000"
   ]
  },
  {
   "cell_type": "code",
   "execution_count": 4,
   "metadata": {},
   "outputs": [],
   "source": [
    "def calc_hra(basic_pay):\n",
    "    #stmt 1\n",
    "    if basic_pay<=300000:\n",
    "        return 0.1*basic_pay\n",
    "    elif basic_pay>300000 and basic_pay<=500000:\n",
    "        return 0.2*basic_pay\n",
    "    else:\n",
    "        return 0.3*basic_pay\n",
    "    #stmt last\n",
    "def calc_da(basic_pay):\n",
    "    if basic_pay<=300000:\n",
    "        return 0.1*basic_pay\n",
    "    elif basic_pay>300000 and basic_pay<=500000:\n",
    "        return 0.2*basic_pay\n",
    "    else:\n",
    "        return 0.3*basic_pay\n",
    "def calc_bonus(basic_pay):\n",
    "    if basic_pay<=300000:\n",
    "        return 0.05*basic_pay\n",
    "    elif basic_pay>300000 and basic_pay<=500000:\n",
    "        return 0.10*basic_pay\n",
    "    else:\n",
    "        return 0.12*basic_pay\n",
    "def cal_health_insurance_percent(basic_pay):\n",
    "    if basic_pay<=50000:\n",
    "        return 5\n",
    "    elif basic_pay<=100000:\n",
    "        return 10\n",
    "    else:\n",
    "        return 15  \n",
    "def cal_tax_amt(ctc):\n",
    "    if ctc<=300000:\n",
    "        return 0\n",
    "    elif ctc>=300000 and ctc<=600000:\n",
    "        return 0.05*ctc\n",
    "    elif ctc>600000 and ctc<=900000:\n",
    "        return 0.10*ctc\n",
    "    elif ctc>900000 and ctc<=1200000:\n",
    "        return 0.15*ctc\n",
    "    elif ctc>1200000 and ctc<=1500000:\n",
    "        return 0.2*ctc\n",
    "    else:\n",
    "        return 0.3*ctc"
   ]
  },
  {
   "cell_type": "code",
   "execution_count": 11,
   "metadata": {},
   "outputs": [],
   "source": [
    "def calculate_in_hand_salary(basic_pay):\n",
    "    #stmt1\n",
    "    hra_amt=calc_hra(basic_pay)\n",
    "    print(hra_amt)\n",
    "    da_amt=calc_da(basic_pay)\n",
    "    print(da_amt)\n",
    "    bonus_amt=calc_bonus(basic_pay)\n",
    "#     tax_percent=cal_tax_percent(basic_pay)\n",
    "    health_insurance_percent=cal_health_insurance_percent(basic_pay)\n",
    "#     tax_amt=(tax_percent/100)*basic_pay\n",
    "    hi_amt=(health_insurance_percent/100)*basic_pay\n",
    "    ctc=basic_pay+hra_amt+da_amt+bonus_amt\n",
    "    tax_amt=cal_tax_amt(ctc)\n",
    "    net_sal=ctc-(tax_amt+hi_amt)\n",
    "    return net_sal\n",
    "#last stmt\n",
    "    "
   ]
  },
  {
   "cell_type": "code",
   "execution_count": null,
   "metadata": {},
   "outputs": [],
   "source": [
    "#3 values are calculated using 3 small functions."
   ]
  },
  {
   "cell_type": "code",
   "execution_count": 13,
   "metadata": {},
   "outputs": [
    {
     "name": "stdout",
     "output_type": "stream",
     "text": [
      "enter the basic pay400000\n",
      "80000.0\n",
      "80000.0\n",
      "in hand salary 534000.0\n"
     ]
    }
   ],
   "source": [
    "basic_pay=float(input(\"enter the basic pay\"))\n",
    "in_hand_salary=calculate_in_hand_salary(basic_pay)\n",
    "print(\"in hand salary\",in_hand_salary)"
   ]
  },
  {
   "cell_type": "code",
   "execution_count": 24,
   "metadata": {},
   "outputs": [],
   "source": [
    "#Write a python program to calculate the standard deviation value in an array."
   ]
  },
  {
   "cell_type": "code",
   "execution_count": 3,
   "metadata": {},
   "outputs": [],
   "source": [
    "import numpy as np"
   ]
  },
  {
   "cell_type": "code",
   "execution_count": null,
   "metadata": {},
   "outputs": [],
   "source": [
    "σ = √(∑xi−x̄)2 /n)\n",
    "xi is array numbers\n",
    "x bar is mean value\n",
    "n is total number of values in the array"
   ]
  },
  {
   "cell_type": "code",
   "execution_count": 33,
   "metadata": {},
   "outputs": [],
   "source": [
    "def calc_stdev(arr1):\n",
    "    sum1=0\n",
    "    l2=[]\n",
    "    m=arr1.mean()\n",
    "    print(m)\n",
    "    for i in arr1:\n",
    "        l2.append((i-m)**2)\n",
    "    for i in l2:\n",
    "        sum1+=i\n",
    "    n=len(arr1)\n",
    "    stdev=np.sqrt(sum1/n)\n",
    "    return stdev"
   ]
  },
  {
   "cell_type": "code",
   "execution_count": 22,
   "metadata": {},
   "outputs": [],
   "source": [
    "import numpy as np"
   ]
  },
  {
   "cell_type": "code",
   "execution_count": 11,
   "metadata": {},
   "outputs": [
    {
     "data": {
      "text/plain": [
       "0.816496580927726"
      ]
     },
     "execution_count": 11,
     "metadata": {},
     "output_type": "execute_result"
    }
   ],
   "source": [
    "np.sqrt(2/3)"
   ]
  },
  {
   "cell_type": "code",
   "execution_count": 34,
   "metadata": {},
   "outputs": [
    {
     "name": "stdout",
     "output_type": "stream",
     "text": [
      "[1 2 3]\n",
      "2.0\n",
      "standard deviation is  0.816496580927726\n"
     ]
    }
   ],
   "source": [
    "l1=[1,2,3]\n",
    "arr1=np.array(l1)\n",
    "print(arr1)\n",
    "stdev=calc_stdev(arr1)\n",
    "print(\"standard deviation is \",stdev)"
   ]
  },
  {
   "cell_type": "code",
   "execution_count": null,
   "metadata": {},
   "outputs": [],
   "source": [
    "#Alternate method"
   ]
  },
  {
   "cell_type": "code",
   "execution_count": 26,
   "metadata": {},
   "outputs": [],
   "source": [
    "def calc_stdev1(arr1):\n",
    "    s=0\n",
    "    m=arr1.mean()\n",
    "    for i in arr1:\n",
    "        s=s+(i-m)**2\n",
    "    n=len(arr1)\n",
    "    stdev=np.sqrt(s/n)\n",
    "    return stdev"
   ]
  },
  {
   "cell_type": "code",
   "execution_count": 27,
   "metadata": {},
   "outputs": [
    {
     "name": "stdout",
     "output_type": "stream",
     "text": [
      "[1 2 3 4 5]\n",
      "standard deviation is  1.4142135623730951\n"
     ]
    }
   ],
   "source": [
    "l1=[1,2,3,4,5]\n",
    "arr1=np.array(l1)\n",
    "print(arr1)\n",
    "stdev=calc_stdev1(arr1)\n",
    "print(\"standard deviation is \",stdev)"
   ]
  },
  {
   "cell_type": "code",
   "execution_count": 32,
   "metadata": {},
   "outputs": [
    {
     "data": {
      "text/plain": [
       "[16, 9, 0, 4, 25]"
      ]
     },
     "execution_count": 32,
     "metadata": {},
     "output_type": "execute_result"
    }
   ],
   "source": [
    "[16,9,0,4,25]"
   ]
  },
  {
   "cell_type": "code",
   "execution_count": 33,
   "metadata": {},
   "outputs": [
    {
     "data": {
      "text/plain": [
       "3.286335345030997"
      ]
     },
     "execution_count": 33,
     "metadata": {},
     "output_type": "execute_result"
    }
   ],
   "source": [
    "np.sqrt(54/5)"
   ]
  },
  {
   "cell_type": "code",
   "execution_count": 7,
   "metadata": {
    "scrolled": true
   },
   "outputs": [
    {
     "name": "stdout",
     "output_type": "stream",
     "text": [
      "a=10\n",
      "b=20\n",
      "c=30\n"
     ]
    }
   ],
   "source": [
    "def fun(**kwargs):\n",
    "    for key,value in kwargs.items():\n",
    "        print(str(key)+\"=\"+str(value))\n",
    "fun(a=10, b=20, c=30)"
   ]
  },
  {
   "cell_type": "code",
   "execution_count": 2,
   "metadata": {},
   "outputs": [
    {
     "data": {
      "text/plain": [
       "[1, 1.67]"
      ]
     },
     "execution_count": 2,
     "metadata": {},
     "output_type": "execute_result"
    }
   ],
   "source": [
    "# #py program to filter float and int values in a list of various datatype elements.\n",
    "l1=[1,True,1.67,\"van\",\"mk\"]\n",
    "def find_float_ele(i):\n",
    "#     print(i)\n",
    "    if type(i)==int or type(i)==float:       \n",
    "        return True\n",
    "    else:\n",
    "        return False\n",
    "list(filter(find_float_ele,l1))"
   ]
  },
  {
   "cell_type": "code",
   "execution_count": 3,
   "metadata": {
    "scrolled": true
   },
   "outputs": [
    {
     "data": {
      "text/plain": [
       "[1, 1.67]"
      ]
     },
     "execution_count": 3,
     "metadata": {},
     "output_type": "execute_result"
    }
   ],
   "source": [
    "list(filter(lambda x:type(x)==float or type(x)==int,l1))"
   ]
  },
  {
   "cell_type": "code",
   "execution_count": null,
   "metadata": {},
   "outputs": [],
   "source": [
    "# if lambda x:type(x)==float or type(x)==int: then these elements  are filtered into \n",
    "# the list"
   ]
  },
  {
   "cell_type": "code",
   "execution_count": null,
   "metadata": {},
   "outputs": [],
   "source": [
    "#working of atm machine using class and udf"
   ]
  },
  {
   "cell_type": "code",
   "execution_count": 34,
   "metadata": {},
   "outputs": [],
   "source": [
    "class myclass:\n",
    "    x=10\n",
    "#i have defined a class name myclass using the keyword class.\n",
    "#class classname:\n",
    "#    variables used inside the class"
   ]
  },
  {
   "cell_type": "code",
   "execution_count": 35,
   "metadata": {},
   "outputs": [],
   "source": [
    "m=myclass\n",
    "#class call.i have stored class name myclass in an instance name m\n",
    "#i have created an instance of the class name myclass.name of instance is m."
   ]
  },
  {
   "cell_type": "code",
   "execution_count": 36,
   "metadata": {},
   "outputs": [
    {
     "data": {
      "text/plain": [
       "50"
      ]
     },
     "execution_count": 36,
     "metadata": {},
     "output_type": "execute_result"
    }
   ],
   "source": [
    "m.x*5"
   ]
  },
  {
   "cell_type": "code",
   "execution_count": 45,
   "metadata": {},
   "outputs": [
    {
     "data": {
      "text/plain": [
       "10"
      ]
     },
     "execution_count": 45,
     "metadata": {},
     "output_type": "execute_result"
    }
   ],
   "source": [
    "m.x"
   ]
  },
  {
   "cell_type": "code",
   "execution_count": null,
   "metadata": {},
   "outputs": [],
   "source": []
  },
  {
   "cell_type": "code",
   "execution_count": null,
   "metadata": {},
   "outputs": [],
   "source": [
    "#i define a class named student.\n",
    "#i set self,i set x.i set y.init constructor takes 3 parameters.\n",
    "#i define init constructor.it takes 3 parmeters."
   ]
  },
  {
   "cell_type": "code",
   "execution_count": 10,
   "metadata": {},
   "outputs": [
    {
     "name": "stdout",
     "output_type": "stream",
     "text": [
      "26\n",
      "36\n"
     ]
    }
   ],
   "source": [
    "class student:\n",
    "    def __init__(self,x,y):\n",
    "        self.x=x\n",
    "        self.y=y\n",
    "s1=student(26,36)\n",
    "print(s1.x)\n",
    "print(s1.y)"
   ]
  },
  {
   "cell_type": "code",
   "execution_count": null,
   "metadata": {},
   "outputs": [],
   "source": []
  },
  {
   "cell_type": "code",
   "execution_count": null,
   "metadata": {},
   "outputs": [],
   "source": []
  },
  {
   "cell_type": "code",
   "execution_count": null,
   "metadata": {},
   "outputs": [],
   "source": [
    "#filter prime numbers in a list\n",
    "#inp=[3,4,5,6]\n",
    "#op=[3,5]"
   ]
  },
  {
   "cell_type": "code",
   "execution_count": null,
   "metadata": {},
   "outputs": [],
   "source": [
    "#find the fault in the program."
   ]
  },
  {
   "cell_type": "code",
   "execution_count": 1,
   "metadata": {},
   "outputs": [
    {
     "name": "stdout",
     "output_type": "stream",
     "text": [
      "[2]\n"
     ]
    }
   ],
   "source": [
    "mylist=[2,3,4,5,8]\n",
    "\n",
    "l1=[]\n",
    "l2=[]\n",
    "c=0\n",
    "for i in mylist:\n",
    "    for j in range(1,i+1):        \n",
    "        if i%j==0:\n",
    "            c=c+1\n",
    "    if c==2:\n",
    "        l1.append(i)\n",
    "        c=0\n",
    "    else:\n",
    "        continue\n",
    "print(l1)\n",
    "print\n"
   ]
  },
  {
   "cell_type": "code",
   "execution_count": null,
   "metadata": {},
   "outputs": [],
   "source": [
    "#Creaate a list of numbers.append prime numbers in separate list and non prime numberrs in separate\n",
    "#list var."
   ]
  },
  {
   "cell_type": "code",
   "execution_count": 10,
   "metadata": {},
   "outputs": [
    {
     "name": "stdout",
     "output_type": "stream",
     "text": [
      "[2, 3, 5]\n",
      "[4, 8, 12]\n"
     ]
    }
   ],
   "source": [
    "mylist=[2,3,4,5,8,12]\n",
    "\n",
    "l1=[]\n",
    "l2=[]\n",
    "c=0\n",
    "for i in mylist:\n",
    "    for j in range(1,i+1):        \n",
    "        if i%j==0:\n",
    "            c=c+1\n",
    "    if c==2:\n",
    "        l1.append(i)\n",
    "        c=0\n",
    "    else:\n",
    "        l2.append(i)\n",
    "        c=0\n",
    "print(l1)\n",
    "print(l2)"
   ]
  },
  {
   "cell_type": "code",
   "execution_count": 8,
   "metadata": {},
   "outputs": [
    {
     "name": "stdout",
     "output_type": "stream",
     "text": [
      "2\n"
     ]
    }
   ],
   "source": [
    "for i in range(2,3):\n",
    "    print(i)"
   ]
  },
  {
   "cell_type": "code",
   "execution_count": null,
   "metadata": {},
   "outputs": [],
   "source": [
    "#python program to filter palindromes in a list."
   ]
  },
  {
   "cell_type": "code",
   "execution_count": 1,
   "metadata": {},
   "outputs": [
    {
     "name": "stdout",
     "output_type": "stream",
     "text": [
      "['mom', 'markram', 'malayalam']\n"
     ]
    }
   ],
   "source": [
    "mylist=['mom','markram','malayalam','1234']\n",
    "op_list=[i for i in mylist if i==i[::-1]]\n",
    "print(op_list)#using filer function 2 nd method"
   ]
  },
  {
   "cell_type": "code",
   "execution_count": null,
   "metadata": {},
   "outputs": [],
   "source": [
    "#c=0,j=1,2,i=2\n",
    "#if 2%1==0,c=1\n",
    "#if 2%2==0,c=2\n",
    "#l1=[2]\n",
    "#i=3,j=1,2,3#now c is 2\n",
    "#c=3,c=4,else executed continues to next iteration of outer for loop.\n",
    "#so 3 is not appended into the list l1"
   ]
  },
  {
   "cell_type": "code",
   "execution_count": 34,
   "metadata": {},
   "outputs": [],
   "source": [
    "import numpy as np"
   ]
  },
  {
   "cell_type": "code",
   "execution_count": 35,
   "metadata": {},
   "outputs": [],
   "source": [
    "arr1=np.array([1,2,3,4,5])"
   ]
  },
  {
   "cell_type": "code",
   "execution_count": 36,
   "metadata": {},
   "outputs": [
    {
     "data": {
      "text/plain": [
       "array([0.33333333, 0.66666667, 1.        , 1.33333333, 1.66666667])"
      ]
     },
     "execution_count": 36,
     "metadata": {},
     "output_type": "execute_result"
    }
   ],
   "source": [
    "arr1/3"
   ]
  },
  {
   "cell_type": "code",
   "execution_count": null,
   "metadata": {},
   "outputs": [],
   "source": []
  },
  {
   "cell_type": "code",
   "execution_count": 78,
   "metadata": {},
   "outputs": [
    {
     "name": "stdout",
     "output_type": "stream",
     "text": [
      "[1 0 3 0 5]\n"
     ]
    }
   ],
   "source": [
    "for i in range(0,len(arr1)):#i=0,1,2,3,4\n",
    "    if arr1[i]%2==0:\n",
    "        arr1[i]=0\n",
    "print(arr1)  \n",
    "\n",
    "#arr1[i]=0 means in array named arr1 at index 1 we set 0\n",
    "#arr1[i]=0 means in array named arr1 at index 3 we replace that \n",
    "#element with 0 "
   ]
  },
  {
   "cell_type": "code",
   "execution_count": 65,
   "metadata": {},
   "outputs": [],
   "source": [
    "# for i in arr1:#i=0,1,2,3,4\n",
    "#     if i%2==0:\n",
    "#         i=0\n",
    "# print(arr1)  \n",
    "#we cannot set  a number say 2 to 0\n",
    "#"
   ]
  },
  {
   "cell_type": "code",
   "execution_count": 1,
   "metadata": {},
   "outputs": [],
   "source": [
    "# email=input(\"enter the email\")\n",
    "# if email.count('@')==1:\n",
    "#     if email.count('.')==1:\n",
    "#         if email.count('_')==1:\n",
    "            \n",
    "#         print(\"valid\")\n",
    "# else:\n",
    "#     print(\"invalid\")\n",
    "# modify the original email id validation code with these codes and reduce the length of the code\n",
    "#display a working program"
   ]
  },
  {
   "cell_type": "code",
   "execution_count": 81,
   "metadata": {},
   "outputs": [],
   "source": [
    "# Write a program:\n",
    "# To print the list after removing the value 24 by using list comprehension from the given list below.\n",
    "\n",
    "# INPUT:\n",
    "\n"
   ]
  },
  {
   "cell_type": "code",
   "execution_count": 82,
   "metadata": {},
   "outputs": [],
   "source": [
    "mylist=[12,24,35,24,88,120,155]"
   ]
  },
  {
   "cell_type": "code",
   "execution_count": 83,
   "metadata": {},
   "outputs": [
    {
     "data": {
      "text/plain": [
       "[12, 35, 88, 120, 155]"
      ]
     },
     "execution_count": 83,
     "metadata": {},
     "output_type": "execute_result"
    }
   ],
   "source": [
    "op_list=[mylist[i] for i in range(0,len(mylist)) if mylist[i]!=24]\n",
    "op_list"
   ]
  },
  {
   "cell_type": "code",
   "execution_count": null,
   "metadata": {},
   "outputs": [],
   "source": [
    "op_list=[mylist[i] for i in range(0,len(mylist)) if mylist[i]!=24]\n",
    "#here the gating condn returns True and False only"
   ]
  },
  {
   "cell_type": "code",
   "execution_count": null,
   "metadata": {},
   "outputs": [],
   "source": [
    "##Check if the first and last number of a list is the same.\n"
   ]
  },
  {
   "cell_type": "code",
   "execution_count": 84,
   "metadata": {},
   "outputs": [
    {
     "name": "stdout",
     "output_type": "stream",
     "text": [
      "the given list is : [1, 2, 3, 4, 5, 1]\n",
      "the result is : True\n",
      "the given list is : [2, 3, 4, 5, 6, 7]\n",
      "the result is : False\n"
     ]
    }
   ],
   "source": [
    "l1=[1,2,3,4,5,1]\n",
    "l2=[2,3,4,5,6,7]\n",
    "def udf(x):\n",
    "    print(\"the given list is :\",x)\n",
    "    fist_element=x[0]\n",
    "    last_element=x[-1]\n",
    "    if fist_element==last_element:\n",
    "        \n",
    "        return True\n",
    "    else:\n",
    "        return False\n",
    "    \n",
    "op=udf(l1)\n",
    "print(\"the result is :\",op)\n",
    "op=udf(l2)\n",
    "print(\"the result is :\",op)"
   ]
  },
  {
   "cell_type": "code",
   "execution_count": null,
   "metadata": {},
   "outputs": [],
   "source": [
    "#prime numbers in sep list and non prime numbers in separate list."
   ]
  },
  {
   "cell_type": "code",
   "execution_count": null,
   "metadata": {},
   "outputs": [],
   "source": [
    "c=0\n",
    "l1=[2,4,5,7,8]\n",
    "l2=[]\n",
    "l3=[]\n",
    "for i in l1:\n",
    "    for j in range(1,i+1):\n",
    "        if i%j==0:\n",
    "            c=c+1\n",
    "    if c==2:\n",
    "        print(\"prime num is\",i)\n",
    "        l2.append(i)\n",
    "        c=0\n",
    "    else:\n",
    "        l3.append(i)\n",
    "        c=0\n",
    "print(l2)\n",
    "print(l3)"
   ]
  },
  {
   "cell_type": "code",
   "execution_count": null,
   "metadata": {},
   "outputs": [],
   "source": []
  },
  {
   "cell_type": "code",
   "execution_count": null,
   "metadata": {},
   "outputs": [],
   "source": []
  },
  {
   "cell_type": "code",
   "execution_count": null,
   "metadata": {},
   "outputs": [],
   "source": [
    "c=0\n",
    "l1=[2,4,5,7,8]\n",
    "l2=[]\n",
    "l3=[]\n",
    "for i in l1:\n",
    "    for j in range(1,i+1):\n",
    "        if i%j==0:\n",
    "            c=c+1\n",
    "    if c==2:\n",
    "#         print(\"prime num is \",i)\n",
    "        l2.append(i)\n",
    "        c=0\n",
    "    else:\n",
    "#         print(\"non prime is \",i)\n",
    "        l3.append(i)\n",
    "        c=0\n",
    "print(l2)\n",
    "print(l3)\n",
    "\n",
    "for condn:\n",
    "    if condn:\n",
    "       stmts\n",
    "    }\n",
    "}\n",
    "if condn\n",
    "\n",
    "# #When i terate through numbers int he list i put prime numbers in separate list and non prime\n",
    "# numbers in separate list.So i need to put all the codes in main for loop."
   ]
  },
  {
   "cell_type": "code",
   "execution_count": null,
   "metadata": {},
   "outputs": [],
   "source": [
    "#Delhi cars question"
   ]
  },
  {
   "cell_type": "code",
   "execution_count": 8,
   "metadata": {},
   "outputs": [
    {
     "name": "stdout",
     "output_type": "stream",
     "text": [
      "enter the day :mon\n",
      "['UP4563', 'KL703']\n"
     ]
    }
   ],
   "source": [
    "mylist=['KA2234','TN3456','UP4563','KL703']\n",
    "odd_day=['mon','wed','fri']\n",
    "even_day=['tue','thu','sat']\n",
    "sunday=['sun']\n",
    "day=input(\"enter the day :\")\n",
    "even_plate=[]\n",
    "odd_plate=[]\n",
    "for i in mylist:\n",
    "    if int(i[-1:])%2==0:\n",
    "        even_plate.append(i)\n",
    "    else:\n",
    "        odd_plate.append(i)\n",
    "if day in odd_day:\n",
    "    print(odd_plate)\n",
    "elif day in even_day:\n",
    "    print(even_plate)\n",
    "elif day in sunday:\n",
    "    print(mylist)\n",
    "else:\n",
    "    print(\"invalid day\")\n",
    "#odd day@odd plate numbers displayed."
   ]
  },
  {
   "cell_type": "code",
   "execution_count": null,
   "metadata": {},
   "outputs": [],
   "source": [
    "#when each condn has a stmt to be executed we use elif.do not use multiple ifs\n",
    "#one after the other."
   ]
  },
  {
   "cell_type": "code",
   "execution_count": null,
   "metadata": {},
   "outputs": [],
   "source": [
    "#if True:\n",
    "#print(\"stmt 1\")\n",
    "#else:\n",
    "#print(\"stmt 2\")"
   ]
  },
  {
   "cell_type": "code",
   "execution_count": 30,
   "metadata": {},
   "outputs": [
    {
     "data": {
      "text/plain": [
       "__main__.ATM"
      ]
     },
     "execution_count": 30,
     "metadata": {},
     "output_type": "execute_result"
    }
   ],
   "source": [
    "class ATM:\n",
    "    def __init__(self,balance,pin):\n",
    "        self.balance=balance\n",
    "        self.pin=pin\n",
    "    def change(self,pin):\n",
    "        self.pin=pin\n",
    "        print(\"congratulations pin has been changed\")\n",
    "    def withdraw(self,amt):\n",
    "        if self.balance>=amt:\n",
    "            print(\"hi\")\n",
    "            \n",
    "        else:\n",
    "            print(\"not enough balance\")\n",
    "            \n",
    "    def deposit(self,amt):\n",
    "        self.balance=self.balancce+amt\n",
    "        print(\"remaining balance\",self.balance)\n",
    "a=ATM(1,2)\n",
    "type(a)\n",
    "            "
   ]
  },
  {
   "cell_type": "code",
   "execution_count": 4,
   "metadata": {
    "scrolled": true
   },
   "outputs": [
    {
     "name": "stdout",
     "output_type": "stream",
     "text": [
      "1.change pin 2.withdraw 3.deposit 4.exit\n",
      "1\n",
      "enter previous pin1234\n",
      "enter new pin1111\n",
      "congratulations pin has been changed\n",
      "1.change pin 2.withdraw 3.deposit 4.exit\n",
      "3\n",
      "enter the pin1111\n",
      "invalid pin\n",
      "1.change pin 2.withdraw 3.deposit 4.exit\n",
      "3000\n",
      "1.change pin 2.withdraw 3.deposit 4.exit\n",
      "3\n",
      "enter the pin1234\n",
      "enter amount to be deposited3000\n"
     ]
    },
    {
     "ename": "TypeError",
     "evalue": "unsupported operand type(s) for +: 'int' and 'ATM'",
     "output_type": "error",
     "traceback": [
      "\u001b[1;31m---------------------------------------------------------------------------\u001b[0m",
      "\u001b[1;31mTypeError\u001b[0m                                 Traceback (most recent call last)",
      "\u001b[1;32m<ipython-input-4-b069b6d921ca>\u001b[0m in \u001b[0;36m<module>\u001b[1;34m\u001b[0m\n\u001b[0;32m     41\u001b[0m         \u001b[1;32mif\u001b[0m \u001b[0mp\u001b[0m\u001b[1;33m==\u001b[0m\u001b[0mpin\u001b[0m\u001b[1;33m:\u001b[0m\u001b[1;33m\u001b[0m\u001b[1;33m\u001b[0m\u001b[0m\n\u001b[0;32m     42\u001b[0m             \u001b[0mamt\u001b[0m\u001b[1;33m=\u001b[0m\u001b[0mint\u001b[0m\u001b[1;33m(\u001b[0m\u001b[0minput\u001b[0m\u001b[1;33m(\u001b[0m\u001b[1;34m\"enter amount to be deposited\"\u001b[0m\u001b[1;33m)\u001b[0m\u001b[1;33m)\u001b[0m\u001b[1;33m\u001b[0m\u001b[1;33m\u001b[0m\u001b[0m\n\u001b[1;32m---> 43\u001b[1;33m             \u001b[0matm\u001b[0m\u001b[1;33m.\u001b[0m\u001b[0mdeposit\u001b[0m\u001b[1;33m(\u001b[0m\u001b[0matm\u001b[0m\u001b[1;33m)\u001b[0m\u001b[1;33m\u001b[0m\u001b[1;33m\u001b[0m\u001b[0m\n\u001b[0m\u001b[0;32m     44\u001b[0m         \u001b[1;32melse\u001b[0m\u001b[1;33m:\u001b[0m\u001b[1;33m\u001b[0m\u001b[1;33m\u001b[0m\u001b[0m\n\u001b[0;32m     45\u001b[0m             \u001b[0mprint\u001b[0m\u001b[1;33m(\u001b[0m\u001b[1;34m\"invalid pin\"\u001b[0m\u001b[1;33m)\u001b[0m\u001b[1;33m\u001b[0m\u001b[1;33m\u001b[0m\u001b[0m\n",
      "\u001b[1;32m<ipython-input-4-b069b6d921ca>\u001b[0m in \u001b[0;36mdeposit\u001b[1;34m(self, amt)\u001b[0m\n\u001b[0;32m     13\u001b[0m             \u001b[0mprint\u001b[0m\u001b[1;33m(\u001b[0m\u001b[1;34m\"not enough balance\"\u001b[0m\u001b[1;33m)\u001b[0m\u001b[1;33m\u001b[0m\u001b[1;33m\u001b[0m\u001b[0m\n\u001b[0;32m     14\u001b[0m     \u001b[1;32mdef\u001b[0m \u001b[0mdeposit\u001b[0m\u001b[1;33m(\u001b[0m\u001b[0mself\u001b[0m\u001b[1;33m,\u001b[0m\u001b[0mamt\u001b[0m\u001b[1;33m)\u001b[0m\u001b[1;33m:\u001b[0m\u001b[1;33m\u001b[0m\u001b[1;33m\u001b[0m\u001b[0m\n\u001b[1;32m---> 15\u001b[1;33m         \u001b[0mself\u001b[0m\u001b[1;33m.\u001b[0m\u001b[0mbalance\u001b[0m\u001b[1;33m=\u001b[0m\u001b[0mself\u001b[0m\u001b[1;33m.\u001b[0m\u001b[0mbalance\u001b[0m\u001b[1;33m+\u001b[0m\u001b[0mamt\u001b[0m\u001b[1;33m\u001b[0m\u001b[1;33m\u001b[0m\u001b[0m\n\u001b[0m\u001b[0;32m     16\u001b[0m         \u001b[0mprint\u001b[0m\u001b[1;33m(\u001b[0m\u001b[1;34m\"remaining balance \"\u001b[0m\u001b[1;33m,\u001b[0m\u001b[0mself\u001b[0m\u001b[1;33m.\u001b[0m\u001b[0mbalance\u001b[0m\u001b[1;33m)\u001b[0m\u001b[1;33m\u001b[0m\u001b[1;33m\u001b[0m\u001b[0m\n\u001b[0;32m     17\u001b[0m \u001b[0minitial_balance\u001b[0m\u001b[1;33m=\u001b[0m\u001b[1;36m25000\u001b[0m\u001b[1;33m\u001b[0m\u001b[1;33m\u001b[0m\u001b[0m\n",
      "\u001b[1;31mTypeError\u001b[0m: unsupported operand type(s) for +: 'int' and 'ATM'"
     ]
    }
   ],
   "source": [
    "class ATM:\n",
    "    def __init__(self,balance,pin):\n",
    "        self.balance=balance\n",
    "        self.pin=pin\n",
    "    def change(self,pin):\n",
    "        self.pin=pin\n",
    "        print(\"congratulations pin has been changed\")\n",
    "    def withdraw(self,amt):\n",
    "        if self.balance>=amt:\n",
    "            self.balance=self.balance-amt\n",
    "            print(\"Remaining balance \",self.balance)\n",
    "        else:\n",
    "            print(\"not enough balance\")\n",
    "    def deposit(self,amt):\n",
    "        self.balance=self.balance+amt\n",
    "        print(\"remaining balance \",self.balance)\n",
    "initial_balance=25000\n",
    "initial_pin=1234\n",
    "pin=1234\n",
    "atm=ATM(initial_balance,initial_pin)\n",
    "while True:\n",
    "    print(\"1.change pin 2.withdraw 3.deposit 4.exit\")\n",
    "    ch=int(input())\n",
    "    if ch==1:\n",
    "        p=int(input(\"enter previous pin\"))\n",
    "        if p==pin:\n",
    "            p=int(input(\"enter new pin\"))\n",
    "            atm.change(p)\n",
    "        else:\n",
    "            print(\"wrong pin entered\")\n",
    "    elif ch==2:\n",
    "        p=int(input(\"enter the pin\"))\n",
    "        if p==pin:\n",
    "            amt=int(input(\"enter the amount to be withdrawn\"))\n",
    "            atm.withdraw(amt)\n",
    "        else:\n",
    "            print(\"invalid pin\")\n",
    "            \n",
    "    elif ch==3:\n",
    "        p=int(input(\"enter the pin\"))\n",
    "        if p==pin:\n",
    "            amt=int(input(\"enter amount to be deposited\"))\n",
    "            atm.deposit(atm)\n",
    "        else:\n",
    "            print(\"invalid pin\")\n",
    "    elif ch==4:\n",
    "        print(\"exit\")\n",
    "        break\n",
    "            "
   ]
  },
  {
   "cell_type": "markdown",
   "metadata": {},
   "source": [
    "# Write a python program to design rock paper scissors.Game is played between user and computer.\n",
    "#A player who reaches 10 points first wins the game."
   ]
  },
  {
   "cell_type": "code",
   "execution_count": 15,
   "metadata": {},
   "outputs": [],
   "source": [
    "import numpy as np"
   ]
  },
  {
   "cell_type": "code",
   "execution_count": 16,
   "metadata": {
    "scrolled": true
   },
   "outputs": [
    {
     "name": "stdout",
     "output_type": "stream",
     "text": [
      "paper\n"
     ]
    }
   ],
   "source": [
    "choices=['rock','paper','scissors']\n",
    "comp_choice=np.random.choice(choices)\n",
    "print(comp_choice)"
   ]
  },
  {
   "cell_type": "markdown",
   "metadata": {
    "scrolled": true
   },
   "source": [
    "choices=['rock','paper','scissors']\n",
    "points={'user':0,'computer':0}\n",
    "while True:\n",
    "    user_choice=input(\"enter the user's choice\")\n",
    "    if user_choice in choices:\n",
    "        comp_choice=np.random.choice(choices)\n",
    "        if user_choice==comp_choice:\n",
    "            print(\"It is a tie\")\n",
    "            print(\"score is \",points['user'],points['computer'])\n",
    "        elif user_choice=='paper':\n",
    "            if comp_choice=='rock':\n",
    "                points['user']+=1\n",
    "                print(points['user'])\n",
    "                print(\"user wins\")\n",
    "            else:\n",
    "                points['computer']+=1\n",
    "                print(points['computer'])\n",
    "                print(\"computer wins\")\n",
    "        elif user_choice=='rock':            \n",
    "            if comp_choice=='scissors':\n",
    "                points['user']+=1\n",
    "                print(points['user'])\n",
    "                print(\"user wins\")\n",
    "            else:\n",
    "                points['computer']+=1\n",
    "                print(points['computer'])\n",
    "                print(\"computer wins\")\n",
    "        elif user_choice=='scissors':            \n",
    "            if comp_choice=='paper':\n",
    "                points['user']+=1\n",
    "                print(points['user'])\n",
    "                print(\"user wins\")\n",
    "            else:\n",
    "                points['computer']+=1\n",
    "                print(points['computer'])\n",
    "                print(\"computer wins\")\n",
    "                \n",
    "        if points['user']==3:            \n",
    "            print(\"Users wins the game\")\n",
    "            break\n",
    "        if points['computer']==3:            \n",
    "            print(\"computer wins the game\")\n",
    "            break\n",
    "    else:\n",
    "        print(\"invalid user choice\")\n",
    "\n"
   ]
  },
  {
   "cell_type": "code",
   "execution_count": null,
   "metadata": {},
   "outputs": [],
   "source": [
    "# choices=['rock','paper','scissors']\n",
    "# comp_choice=np.random.choice(choices)\n",
    "# points={'user':0,'computer':0}\n",
    "# while True:\n",
    "#     user_coice=input(\"enter the user's choice\")\n",
    "#     comp_choice=np.random.choice(choices)\n",
    "#     if user_coice==comp_choice:\n",
    "#         print(\"It is a tie\")\n",
    "#     elif user_coice=='paper':\n",
    "#         if comp_choice=='rock':\n",
    "#             points['user']+=1\n",
    "#             print(points['user'])\n",
    "#             print(\"user wins\")\n",
    "#         else:\n",
    "#             points['computer']+=1\n",
    "#     elif user_coice=='rock':\n",
    "#         if comp_choice=='scissors':\n",
    "#             points['user']+=1\n",
    "#             print(\"user wins\")\n",
    "#         else:\n",
    "#             points['computer']+=1\n",
    "#             print(\"computer wins\")\n",
    "#     elif user_coice=='scissors':\n",
    "#         if comp_choice=='scissors':\n",
    "#             points['user']+=1\n",
    "#             print(\"user wins\")\n",
    "#         else:\n",
    "#             points['computer']+=1\n",
    "#             print(\"computer wins\")\n",
    "#     elif points['user']==3:\n",
    "#         print(\"Users wins the game\")\n",
    "#         break\n",
    "#     elif points['computer']==3:\n",
    "#         print(\"computer wins the game\")\n",
    "#         break\n",
    "        \n",
    "#when i set elif in last 2 conditions the game does not finish.elif means for each condn a mathematical operation \n",
    "#needs to be executed.here we get user choice and computer choice.any one elif is executed and point is incremented\n",
    "#for either of twi players.that is the reason the player points validation condiions are not executed.(2 player points\n",
    "#validation onditions.\n",
    "\n",
    "#when i set 1 if 3 elifs 2 ifs ,we get user choice and computer coice.based on these values, a point is incremneted to\n",
    "#one of the players(based on 1 if and 3 elif) then both the if condns are checked.if cond fails next if condn fails then ctrl\n",
    "#goes to while true block.the step repeats."
   ]
  },
  {
   "cell_type": "code",
   "execution_count": null,
   "metadata": {},
   "outputs": [],
   "source": [
    "# if user_choice in choices: when the user choice is not there in the choices list,it is invalid user choice.\n",
    "#based on user choice user,comp points are calculated.player points validation is done and a player is declared winner.\n",
    "#so all the above points are linked.when user choice is not there in the list write an else block .it prints invalid\n",
    "#user choice."
   ]
  },
  {
   "cell_type": "code",
   "execution_count": null,
   "metadata": {},
   "outputs": [],
   "source": [
    "#based on user choice points are incremented in elif blocks and players are decplared winner\n",
    "#usercoice@point incremented@players points validation"
   ]
  },
  {
   "cell_type": "code",
   "execution_count": null,
   "metadata": {},
   "outputs": [],
   "source": [
    "task:print all the codes one by one"
   ]
  },
  {
   "cell_type": "code",
   "execution_count": 2,
   "metadata": {},
   "outputs": [
    {
     "name": "stdout",
     "output_type": "stream",
     "text": [
      "New Delhi is the capital of India.\n",
      "Hindi is the most widely spoken language of India.\n",
      "India is a developing country.\n",
      "Washington, D.C. is the capital of USA.\n",
      "English is the primary language of USA.\n",
      "USA is a developed country.\n"
     ]
    }
   ],
   "source": [
    "class India():\n",
    "    def capital(self):\n",
    "        print(\"New Delhi is the capital of India.\")\n",
    " \n",
    "    def language(self):\n",
    "        print(\"Hindi is the most widely spoken language of India.\")\n",
    " \n",
    "    def type(self):\n",
    "        print(\"India is a developing country.\")\n",
    " \n",
    "class USA():\n",
    "    def capital(self):\n",
    "        print(\"Washington, D.C. is the capital of USA.\")\n",
    " \n",
    "    def language(self):\n",
    "        print(\"English is the primary language of USA.\")\n",
    " \n",
    "    def type(self):\n",
    "        print(\"USA is a developed country.\")\n",
    " \n",
    "obj_ind = India()\n",
    "obj_usa = USA()\n",
    "for country in (obj_ind, obj_usa):\n",
    "#     print(country)\n",
    "    country.capital()\n",
    "    country.language()\n",
    "    country.type()"
   ]
  },
  {
   "cell_type": "code",
   "execution_count": null,
   "metadata": {},
   "outputs": [],
   "source": []
  },
  {
   "cell_type": "code",
   "execution_count": 2,
   "metadata": {
    "scrolled": true
   },
   "outputs": [
    {
     "name": "stdout",
     "output_type": "stream",
     "text": [
      "<__main__.India object at 0x00000277B4E0D970>\n",
      "<bound method India.capital of <__main__.India object at 0x00000277B4E0D970>>\n",
      "<bound method India.language of <__main__.India object at 0x00000277B4E0D970>>\n",
      "<bound method India.type of <__main__.India object at 0x00000277B4E0D970>>\n",
      "<__main__.usa object at 0x00000277B4E0D370>\n",
      "<bound method usa.capital of <__main__.usa object at 0x00000277B4E0D370>>\n",
      "<bound method usa.language of <__main__.usa object at 0x00000277B4E0D370>>\n",
      "<bound method usa.type of <__main__.usa object at 0x00000277B4E0D370>>\n",
      "<__main__.england object at 0x00000277B4E0D9D0>\n",
      "<bound method england.capital of <__main__.england object at 0x00000277B4E0D9D0>>\n",
      "<bound method england.language of <__main__.england object at 0x00000277B4E0D9D0>>\n",
      "<bound method england.type of <__main__.england object at 0x00000277B4E0D9D0>>\n"
     ]
    }
   ],
   "source": [
    "class India():\n",
    "    def capital(self):\n",
    "        print(\"New Delhi is the capital of India\")    \n",
    "    def language(self):\n",
    "        print(\"Hindi is \")        \n",
    "    def type(self):\n",
    "        print(\"india is developing \")\n",
    "class usa():\n",
    "    def capital(self):\n",
    "        print(\"washington\")\n",
    "    def language(self):\n",
    "        print(\"english\")\n",
    "    def type(self):\n",
    "        print(\"developed\")\n",
    "class england():\n",
    "    def capital(self):\n",
    "        print(\"london\")\n",
    "    def language(self):\n",
    "        print(\"englishh\")\n",
    "    def type(self):\n",
    "        print(\"developed country\")       \n",
    "obj1=India()\n",
    "obj2=usa()\n",
    "obj3=england()\n",
    "for country in (obj1,obj2,obj3):\n",
    "    print(country)\n",
    "    print(country.capital)\n",
    "    print(country.language)\n",
    "    print(country.type)"
   ]
  },
  {
   "cell_type": "code",
   "execution_count": 3,
   "metadata": {},
   "outputs": [
    {
     "name": "stdout",
     "output_type": "stream",
     "text": [
      "There are many types of birds.\n",
      "Most of the birds can fly but some cannot.\n",
      "There are many types of birds.\n",
      "Sparrows can fly.\n",
      "There are many types of birds.\n",
      "Ostriches cannot fly.\n"
     ]
    }
   ],
   "source": [
    "class Bird:\n",
    "    def intro(self):\n",
    "        print(\"There are many types of birds.\")\n",
    "    def flight(self):\n",
    "        print(\"Most of the birds can fly but some cannot.\")\n",
    "   \n",
    "class sparrow(Bird):\n",
    "    def flight(self):\n",
    "        print(\"Sparrows can fly.\")\n",
    "     \n",
    "class ostrich(Bird):    \n",
    "    def flight(self):\n",
    "        print(\"Ostriches cannot fly.\")     \n",
    "obj_bird = Bird()\n",
    "obj_spr = sparrow()\n",
    "obj_ost = ostrich()\n",
    "obj_bird.intro()\n",
    "obj_bird.flight()\n",
    "obj_spr.intro()\n",
    "obj_spr.flight()\n",
    "obj_ost.intro()\n",
    "obj_ost.flight()"
   ]
  },
  {
   "cell_type": "code",
   "execution_count": null,
   "metadata": {},
   "outputs": [],
   "source": [
    "(Rule):\n",
    "When we define a member method inside a class,its first parameter must be set as self.\n",
    "Self means i can use/access any number of variables inside the classs to outside the class."
   ]
  },
  {
   "cell_type": "code",
   "execution_count": 1,
   "metadata": {},
   "outputs": [],
   "source": [
    "class Bird:\n",
    "    def intro(self):\n",
    "        var1=9\n",
    "        print(\"There are many types of birds.\")\n",
    "        #intro function tells that there are many types of birds.it gives introduction.\n",
    "    def flight(self):\n",
    "        print(\"Most of the birds can fly but some cannot.\")\n",
    "        #flight method tells about fly detaisl of birds.\n",
    "obj1=Bird() \n",
    "\n",
    "\n",
    "\n"
   ]
  },
  {
   "cell_type": "code",
   "execution_count": null,
   "metadata": {},
   "outputs": [],
   "source": []
  },
  {
   "cell_type": "code",
   "execution_count": 8,
   "metadata": {},
   "outputs": [
    {
     "name": "stdout",
     "output_type": "stream",
     "text": [
      "Most of the birds can fly but some cannot.\n"
     ]
    }
   ],
   "source": [
    "obj1.flight()"
   ]
  },
  {
   "cell_type": "code",
   "execution_count": 1,
   "metadata": {},
   "outputs": [
    {
     "name": "stdout",
     "output_type": "stream",
     "text": [
      "Woof!\n",
      "Meow!\n"
     ]
    }
   ],
   "source": [
    "class Dog:\n",
    "    def speak(self):\n",
    "        return \"Woof!\"\n",
    "\n",
    "class Cat:\n",
    "    def speak(self):\n",
    "        return \"Meow!\"\n",
    "\n",
    "def make_animal_speak(animal):\n",
    "    print(animal.speak())\n",
    "\n",
    "dog = Dog()\n",
    "cat = Cat()\n",
    "\n",
    "make_animal_speak(dog)  # Output: Woof!\n",
    "make_animal_speak(cat)  # Output: Meow!\n"
   ]
  },
  {
   "cell_type": "code",
   "execution_count": 18,
   "metadata": {},
   "outputs": [
    {
     "name": "stdout",
     "output_type": "stream",
     "text": [
      "a: 5\n",
      "a: 5, b: 10\n"
     ]
    }
   ],
   "source": []
  },
  {
   "cell_type": "code",
   "execution_count": null,
   "metadata": {},
   "outputs": [],
   "source": []
  },
  {
   "cell_type": "code",
   "execution_count": 10,
   "metadata": {},
   "outputs": [
    {
     "name": "stdout",
     "output_type": "stream",
     "text": [
      "Woof!\n",
      "Meow!\n"
     ]
    }
   ],
   "source": [
    "class Dog:\n",
    "    def speak(self):\n",
    "        return \"Woof!\"\n",
    "class Cat:\n",
    "    def speak(self):\n",
    "        return \"Meow!\"\n",
    "def m_out(animal):\n",
    "    return (animal.speak())\n",
    "dog=Dog()\n",
    "cat=Cat()\n",
    "print(m_out(dog))#output woof\n",
    "print(m_out(cat))#output meow"
   ]
  },
  {
   "cell_type": "code",
   "execution_count": 7,
   "metadata": {},
   "outputs": [
    {
     "data": {
      "text/plain": [
       "'Woof!'"
      ]
     },
     "execution_count": 7,
     "metadata": {},
     "output_type": "execute_result"
    }
   ],
   "source": [
    "dog.speak() #instant  method\n",
    "#class level method\n",
    "#constructors"
   ]
  },
  {
   "cell_type": "code",
   "execution_count": 8,
   "metadata": {},
   "outputs": [
    {
     "name": "stdout",
     "output_type": "stream",
     "text": [
      "a: 5, b: 10\n"
     ]
    }
   ],
   "source": [
    "class Example:\n",
    "    def display(self, a):\n",
    "        print(f\"a: {a}\")\n",
    "    def display(self, a, b):\n",
    "        print(f\"a: {a}, b: {b}\")\n",
    "example = Example()\n",
    "example.display(5, 10) "
   ]
  },
  {
   "cell_type": "code",
   "execution_count": 7,
   "metadata": {},
   "outputs": [
    {
     "name": "stdout",
     "output_type": "stream",
     "text": [
      "No arguments provided\n",
      "a: 5\n",
      "a: 5, b: 10\n"
     ]
    }
   ],
   "source": [
    "class Example:\n",
    "    def display(self, a=None, b=None):\n",
    "        if a is not None and b is not None:\n",
    "            print(f\"a: {a}, b: {b}\")\n",
    "        elif a is not None:\n",
    "            print(f\"a: {a}\")\n",
    "        else:\n",
    "            print(\"No arguments provided\")\n",
    "\n",
    "# Usage\n",
    "example = Example()\n",
    "example.display()          # Output: No arguments provided\n",
    "example.display(5)         # Output: a: 5\n",
    "example.display(5, 10)"
   ]
  },
  {
   "cell_type": "code",
   "execution_count": 1,
   "metadata": {},
   "outputs": [
    {
     "name": "stdout",
     "output_type": "stream",
     "text": [
      "Animal sound\n",
      "Woof!\n",
      "Meow!\n"
     ]
    }
   ],
   "source": [
    "class Animal:\n",
    "    def speak(self):\n",
    "        return \"Animal sound\"\n",
    "\n",
    "class Dog(Animal):\n",
    "    def speak(self):\n",
    "        return \"Woof!\"\n",
    "\n",
    "class Cat(Animal):\n",
    "    def speak(self):\n",
    "        return \"Meow!\"\n",
    "\n",
    "# Usage\n",
    "animal = Animal()\n",
    "dog = Dog()\n",
    "cat = Cat()\n",
    "\n",
    "print(animal.speak())  \n",
    "print(dog.speak())     \n",
    "print(cat.speak()) "
   ]
  },
  {
   "cell_type": "code",
   "execution_count": null,
   "metadata": {},
   "outputs": [],
   "source": [
    "\n",
    "    "
   ]
  },
  {
   "cell_type": "code",
   "execution_count": null,
   "metadata": {},
   "outputs": [],
   "source": [
    "#class must not have self para\n",
    "#member methods inside a class must have self para"
   ]
  },
  {
   "cell_type": "code",
   "execution_count": 20,
   "metadata": {},
   "outputs": [],
   "source": []
  },
  {
   "cell_type": "code",
   "execution_count": 3,
   "metadata": {},
   "outputs": [
    {
     "name": "stdout",
     "output_type": "stream",
     "text": [
      "('vegetable', 'red')\n",
      "('fruit', 'dark red')\n"
     ]
    }
   ],
   "source": [
    "class tomato:\n",
    "    def type(self):\n",
    "        return \"vegetable\"\n",
    "    def colour(self):\n",
    "        return \"red\"\n",
    "class apple:\n",
    "    def type(self):\n",
    "        return \"fruit\"\n",
    "    def colour(self):\n",
    "        return \"dark red\"\n",
    "obj1=tomato()\n",
    "obj2=apple()\n",
    "def m1(obj):\n",
    "    return obj.type(),obj.colour()\n",
    "#     return obj.colour()\n",
    "\n",
    "print(m1(obj1))\n",
    "print(m1(obj2))\n",
    "#No we can use only one 1 return keywords i.e return statement in a udf.\n",
    "#We cannot use2 return keywords in a udf.It is syntax error."
   ]
  },
  {
   "cell_type": "code",
   "execution_count": 5,
   "metadata": {},
   "outputs": [
    {
     "name": "stdout",
     "output_type": "stream",
     "text": [
      "Animal sound Woof!\n"
     ]
    }
   ],
   "source": [
    "class Animal:\n",
    "    def speak(self):\n",
    "        return \"Animal sound\"\n",
    "\n",
    "class Dog(Animal):\n",
    "    def speak(self):\n",
    "        base_speak = super().speak()  # Call the superclass method\n",
    "        return f\"{base_speak} Woof!\"\n",
    "# Usage\n",
    "dog = Dog()\n",
    "print(dog.speak())  # Output: Animal sound Woof!\n"
   ]
  },
  {
   "cell_type": "code",
   "execution_count": 3,
   "metadata": {
    "scrolled": true
   },
   "outputs": [
    {
     "name": "stdout",
     "output_type": "stream",
     "text": [
      "name samy\n",
      "age 20\n",
      "2\n",
      "name ani\n",
      "age 20\n",
      "None\n"
     ]
    }
   ],
   "source": [
    "class employee1():\n",
    "    def info(self):\n",
    "        name=\"samy\"\n",
    "        age=20\n",
    "        print(\"name\",name)\n",
    "        print(\"age\",age)\n",
    "        return 2\n",
    "class employee2():\n",
    "    def info(self):\n",
    "        name=\"ani\"\n",
    "        age=20\n",
    "        print(\"name\",name)\n",
    "        print(\"age\",age)\n",
    "obj1=employee1()\n",
    "obj2=employee2()\n",
    "print(obj1.info())\n",
    "print(obj2.info())"
   ]
  },
  {
   "cell_type": "code",
   "execution_count": null,
   "metadata": {},
   "outputs": [],
   "source": [
    "#working:\n",
    "#ctrl from class name emploee1.method name info.name variable stores samy\n",
    "#age variable stores 20,both print stmts executed.return 2 value goes in place of classs call i.e\n",
    "#obj1.info().python compiler does line by line execution.\n",
    "#ctrl goes from class call to class definition.print(obj2.info())\n",
    "#class name employee2.method name info()\n",
    "#name var stores ani and age var stores 20 and returns None.\n",
    "#when we do not mention return none still udf will return None by default.\n",
    "#None comes in place of class call i.e obj2.info()"
   ]
  },
  {
   "cell_type": "code",
   "execution_count": 10,
   "metadata": {
    "scrolled": true
   },
   "outputs": [
    {
     "name": "stdout",
     "output_type": "stream",
     "text": [
      "Ram\n",
      "32\n",
      "Shyam\n",
      "22\n",
      "Shyam\n",
      "22\n",
      "Shyam\n",
      "22\n",
      "True\n",
      "Ram will pay the bill\n"
     ]
    }
   ],
   "source": [
    "class person:\n",
    "    def __init__(self,name,age):\n",
    "        self.name=name\n",
    "        self.age=age\n",
    "        print(name)\n",
    "        print(age)\n",
    "    def __gt__(self,other):\n",
    "        print(other.name)\n",
    "        print(other.age)\n",
    "        if self.age>other.age:\n",
    "            return True\n",
    "        else:\n",
    "            return False\n",
    "p1=person(\"Ram\",32)\n",
    "p2=person(\"Shyam\",22)\n",
    "if p1>p2:\n",
    "    print(p1>p2)\n",
    "    print(p1.name ,\"will pay the bill\")\n",
    "else:\n",
    "    print(p2.name ,\"will pay the bill\")"
   ]
  },
  {
   "cell_type": "code",
   "execution_count": null,
   "metadata": {},
   "outputs": [],
   "source": [
    "class Bird:\n",
    "    def intro(self):\n",
    "        print(\"There are many types of birds.\")\n",
    "             \n",
    "    def flight(self):\n",
    "        print(\"Most of the birds can fly but some cannot.\")\n",
    "   \n",
    "class sparrow(Bird):\n",
    "    def flight(self):\n",
    "        print(\"Sparrows can fly.\")\n",
    "   \n",
    "class ostrich(Bird):\n",
    "    def flight(self):\n",
    "        print(\"Ostriches cannot fly.\")"
   ]
  },
  {
   "cell_type": "code",
   "execution_count": 1,
   "metadata": {},
   "outputs": [],
   "source": [
    "class Bird:\n",
    "    def intro(self):\n",
    "        print(\"stmt1\")\n",
    "    def m2(self):\n",
    "        print(\"stmt2\")\n",
    "class sparrow(Bird):    \n",
    "    def m3(self):\n",
    "        print(\"smt3\")\n",
    "class ostrich(Bird):    \n",
    "    def m4(self):\n",
    "        print(\"stmts4\")\n",
    "obj1=Bird()\n",
    "obj2=sparrow()\n",
    "obj3=ostrich()\n"
   ]
  },
  {
   "cell_type": "code",
   "execution_count": 4,
   "metadata": {},
   "outputs": [
    {
     "name": "stdout",
     "output_type": "stream",
     "text": [
      "stmt1\n",
      "None\n",
      "stmt2\n",
      "None\n",
      "stmt2\n",
      "None\n"
     ]
    }
   ],
   "source": [
    "print(obj2.intro())\n",
    "print(obj2.m2())"
   ]
  },
  {
   "cell_type": "code",
   "execution_count": 5,
   "metadata": {},
   "outputs": [
    {
     "name": "stdout",
     "output_type": "stream",
     "text": [
      "stmt2\n",
      "None\n",
      "stmt1\n",
      "None\n"
     ]
    }
   ],
   "source": [
    "print(obj2.m2()) \n",
    "print(obj2.intro())"
   ]
  },
  {
   "cell_type": "code",
   "execution_count": null,
   "metadata": {},
   "outputs": [],
   "source": [
    "#class name sparrow does not have method name intro\n",
    "#clas name ostrich does not have methodname intro\n",
    "#class name bird is inherited into class name sparrow\n",
    "#classs name bird is inherited into ostrich class\n",
    "#It means that all the variables and functions of bird are inherited into sparrow and ostrich classs individually.\n",
    "#method name m2 is not a method in sparrow.Class name Bird properties are there in class ostrich.\n",
    "#SO i print m2 method ka stmts."
   ]
  },
  {
   "cell_type": "code",
   "execution_count": 9,
   "metadata": {},
   "outputs": [
    {
     "name": "stdout",
     "output_type": "stream",
     "text": [
      "5\n"
     ]
    }
   ],
   "source": [
    "class A:\n",
    "  x = 5\n",
    "object = A()\n",
    "print(object.x)"
   ]
  },
  {
   "cell_type": "code",
   "execution_count": 8,
   "metadata": {},
   "outputs": [
    {
     "name": "stdout",
     "output_type": "stream",
     "text": [
      "35\n"
     ]
    }
   ],
   "source": [
    "class A:\n",
    "  x = 5\n",
    "object = A()\n",
    "print(object.x*7)"
   ]
  },
  {
   "cell_type": "code",
   "execution_count": null,
   "metadata": {},
   "outputs": [],
   "source": [
    "#I create a class name A\n",
    "#I assign variable name x to 5\n",
    "#I create n instanc eof class A\n",
    "#class name A.variable name 5"
   ]
  },
  {
   "cell_type": "code",
   "execution_count": null,
   "metadata": {},
   "outputs": [],
   "source": [
    "\n",
    "# A Sample class with init method\n",
    "class Person:    \n",
    "    # init method or constructor\n",
    "    def __init__(self, name):\n",
    "        self.name = name \n",
    "    # Sample Method\n",
    "    def say_hi(self):\n",
    "        print('Hello, my name is', self.name)\n",
    "p = Person('Nikhil')\n",
    "p.say_hi()"
   ]
  },
  {
   "cell_type": "code",
   "execution_count": null,
   "metadata": {},
   "outputs": [],
   "source": [
    "class Person:\n",
    "    def __init__(self,name):\n",
    "        self.name=name\n",
    "    def say_hi(self):\n",
    "        print(\"heloo my name is\",self.name)\n",
    "p=Person(\"Nikhil\")"
   ]
  },
  {
   "cell_type": "code",
   "execution_count": 12,
   "metadata": {},
   "outputs": [
    {
     "name": "stdout",
     "output_type": "stream",
     "text": [
      "Nikil\n"
     ]
    },
    {
     "ename": "NameError",
     "evalue": "name 'self' is not defined",
     "output_type": "error",
     "traceback": [
      "\u001b[1;31m---------------------------------------------------------------------------\u001b[0m",
      "\u001b[1;31mNameError\u001b[0m                                 Traceback (most recent call last)",
      "\u001b[1;32m<ipython-input-12-db55dd21f013>\u001b[0m in \u001b[0;36m<module>\u001b[1;34m\u001b[0m\n\u001b[0;32m      7\u001b[0m         \u001b[0mprint\u001b[0m\u001b[1;33m(\u001b[0m\u001b[1;34m\"my name is\"\u001b[0m\u001b[1;33m,\u001b[0m\u001b[0mself\u001b[0m\u001b[1;33m.\u001b[0m\u001b[0mname\u001b[0m\u001b[1;33m)\u001b[0m\u001b[1;33m\u001b[0m\u001b[1;33m\u001b[0m\u001b[0m\n\u001b[0;32m      8\u001b[0m \u001b[0mp\u001b[0m\u001b[1;33m=\u001b[0m\u001b[0mPerson\u001b[0m\u001b[1;33m(\u001b[0m\u001b[1;34m\"Nikil\"\u001b[0m\u001b[1;33m)\u001b[0m\u001b[1;33m\u001b[0m\u001b[1;33m\u001b[0m\u001b[0m\n\u001b[1;32m----> 9\u001b[1;33m \u001b[0mp\u001b[0m\u001b[1;33m.\u001b[0m\u001b[0msay_hi\u001b[0m\u001b[1;33m(\u001b[0m\u001b[1;33m)\u001b[0m\u001b[1;33m\u001b[0m\u001b[1;33m\u001b[0m\u001b[0m\n\u001b[0m",
      "\u001b[1;32m<ipython-input-12-db55dd21f013>\u001b[0m in \u001b[0;36msay_hi\u001b[1;34m(h)\u001b[0m\n\u001b[0;32m      5\u001b[0m         \u001b[0mprint\u001b[0m\u001b[1;33m(\u001b[0m\u001b[0mself\u001b[0m\u001b[1;33m.\u001b[0m\u001b[0mname\u001b[0m\u001b[1;33m)\u001b[0m\u001b[1;33m\u001b[0m\u001b[1;33m\u001b[0m\u001b[0m\n\u001b[0;32m      6\u001b[0m     \u001b[1;32mdef\u001b[0m \u001b[0msay_hi\u001b[0m\u001b[1;33m(\u001b[0m\u001b[0mh\u001b[0m\u001b[1;33m)\u001b[0m\u001b[1;33m:\u001b[0m\u001b[1;33m\u001b[0m\u001b[1;33m\u001b[0m\u001b[0m\n\u001b[1;32m----> 7\u001b[1;33m         \u001b[0mprint\u001b[0m\u001b[1;33m(\u001b[0m\u001b[1;34m\"my name is\"\u001b[0m\u001b[1;33m,\u001b[0m\u001b[0mself\u001b[0m\u001b[1;33m.\u001b[0m\u001b[0mname\u001b[0m\u001b[1;33m)\u001b[0m\u001b[1;33m\u001b[0m\u001b[1;33m\u001b[0m\u001b[0m\n\u001b[0m\u001b[0;32m      8\u001b[0m \u001b[0mp\u001b[0m\u001b[1;33m=\u001b[0m\u001b[0mPerson\u001b[0m\u001b[1;33m(\u001b[0m\u001b[1;34m\"Nikil\"\u001b[0m\u001b[1;33m)\u001b[0m\u001b[1;33m\u001b[0m\u001b[1;33m\u001b[0m\u001b[0m\n\u001b[0;32m      9\u001b[0m \u001b[0mp\u001b[0m\u001b[1;33m.\u001b[0m\u001b[0msay_hi\u001b[0m\u001b[1;33m(\u001b[0m\u001b[1;33m)\u001b[0m\u001b[1;33m\u001b[0m\u001b[1;33m\u001b[0m\u001b[0m\n",
      "\u001b[1;31mNameError\u001b[0m: name 'self' is not defined"
     ]
    }
   ],
   "source": [
    "class Person:\n",
    "    def __init__(self,name1):\n",
    "        #print(name1)\n",
    "        self.name=name1\n",
    "        print(self.name)\n",
    "    def say_hi(h):\n",
    "        print(\"my name is\",self.name)\n",
    "p=Person(\"Nikil\")    \n",
    "p.say_hi()"
   ]
  },
  {
   "cell_type": "code",
   "execution_count": null,
   "metadata": {},
   "outputs": [],
   "source": []
  },
  {
   "cell_type": "code",
   "execution_count": 8,
   "metadata": {},
   "outputs": [
    {
     "name": "stdout",
     "output_type": "stream",
     "text": [
      "ajay\n"
     ]
    }
   ],
   "source": [
    "class Person:\n",
    "    def __init__(self,name1):\n",
    "        self.name=name1\n",
    "    def say_hi(self):\n",
    "        print(\"hello,my name is\",self.name)\n",
    "p=Person(\"ajay\")\n",
    "print(p.name)"
   ]
  },
  {
   "cell_type": "code",
   "execution_count": 1,
   "metadata": {},
   "outputs": [],
   "source": []
  },
  {
   "cell_type": "code",
   "execution_count": null,
   "metadata": {},
   "outputs": [],
   "source": [
    "\n",
    "        "
   ]
  },
  {
   "cell_type": "code",
   "execution_count": null,
   "metadata": {},
   "outputs": [],
   "source": [
    "class Cat:\n",
    "    def __init__(self,name1,age1):\n",
    "        self.name=name1\n",
    "        self.age=age1\n",
    "    def info(self):\n",
    "        print(\"the name of cat is\",self.name,\"age of cat\",self.age)\n",
    "    def make_sound(self):\n",
    "        print(\"meow\")\n",
    "        "
   ]
  },
  {
   "cell_type": "code",
   "execution_count": null,
   "metadata": {},
   "outputs": [],
   "source": [
    "#i create a class cat.I define3  methods.\n",
    "#init method isused to set name and age of the cat.this values are passed by us in class call.\n"
   ]
  },
  {
   "cell_type": "code",
   "execution_count": 14,
   "metadata": {
    "scrolled": true
   },
   "outputs": [
    {
     "name": "stdout",
     "output_type": "stream",
     "text": [
      "cat name is Kitty cat age is 2.5\n",
      "None\n",
      "meow\n",
      "None\n",
      "addition is 5.5\n",
      "None\n"
     ]
    }
   ],
   "source": [
    "#i create a class named  Cat\n",
    "class Cat:\n",
    "    def __init__(self,name1,age1,age2):\n",
    "        self.name=name1\n",
    "        self.age=age1\n",
    "        self.agee=age2\n",
    "    def info(self):\n",
    "        print(\"cat name is\",self.name,\"cat age is\",self.age)\n",
    "    def add(self):\n",
    "        print(\"addition is\",self.age+self.agee)\n",
    "    def make_sound(self):\n",
    "        print(\"meow\")\n",
    "cat1 = Cat(\"Kitty\", 2.5,3)\n",
    "print(cat1.info())\n",
    "print(cat1.make_sound())\n",
    "print(cat1.add())\n"
   ]
  },
  {
   "cell_type": "code",
   "execution_count": null,
   "metadata": {},
   "outputs": [],
   "source": []
  },
  {
   "cell_type": "code",
   "execution_count": null,
   "metadata": {},
   "outputs": [],
   "source": []
  },
  {
   "cell_type": "code",
   "execution_count": 1,
   "metadata": {},
   "outputs": [
    {
     "name": "stdout",
     "output_type": "stream",
     "text": [
      "Meow\n",
      "I am a cat. My name is Kitty. I am 2.5 years old.\n",
      "Bark\n",
      "I am a dog. My name is Fluffy. I am 4 years old.\n"
     ]
    }
   ],
   "source": [
    "class Cat:\n",
    "    def __init__(self, name, age):\n",
    "        self.name = name\n",
    "        self.age = age\n",
    "\n",
    "    def info(self):\n",
    "        print(f\"I am a cat. My name is {self.name}. I am {self.age} years old.\")\n",
    "\n",
    "    def make_sound(self):\n",
    "        print(\"Meow\")\n",
    "\n",
    "class Dog:\n",
    "    def __init__(self, name, age):\n",
    "        self.name = name\n",
    "        self.age = age\n",
    "\n",
    "    def info(self):\n",
    "        print(f\"I am a dog. My name is {self.name}. I am {self.age} years old.\")\n",
    "\n",
    "    def make_sound(self):\n",
    "        print(\"Bark\")\n",
    "\n",
    "cat1 = Cat(\"Kitty\",2.5)\n",
    "dog1 = Dog(\"Fluffy\",4)\n",
    "\n",
    "for animal in (cat1, dog1):\n",
    "    animal.make_sound()\n",
    "    animal.info()"
   ]
  },
  {
   "cell_type": "code",
   "execution_count": null,
   "metadata": {},
   "outputs": [],
   "source": [
    "\n",
    "# for animal in (cat1, dog1):\n",
    "#     animal.make_sound()\n",
    "#     animal.info()\n",
    "\n",
    "\n",
    "#During 1 st iteration,animal is class name cat.class name cat.method make_sound() is activated.this is class call.\n",
    "#ctrl goes from class call to class definition.then ctrl goes to   def make_sound(self):print(\"Meow\")\n",
    "#and mewo is printed then none is returned to the class calli.e class name cat.method make_sound().\n",
    "#sometimes return NOneis returned sometimes not.it is becaus eof ide issue.we need to update the ide.it is not a big error.\n",
    "#then ctrl goes to class call animal.info().ctrl to class definiton.cat.info()\n",
    "#then ctrl goed to def info(self):\n",
    "#        print(f\"I am a cat. My name is {self.name}. I am {self.age} years old.\")\n",
    "#it sees  self.name ,self.age.then ctrl goes to the place where we set the value of both the variables name and age.\n",
    "#print stmt is executed and return none to the class call    class name cat.info()"
   ]
  },
  {
   "cell_type": "code",
   "execution_count": 2,
   "metadata": {},
   "outputs": [
    {
     "name": "stdout",
     "output_type": "stream",
     "text": [
      "11\n",
      "Hi Geeks\n"
     ]
    }
   ],
   "source": [
    "# Function to take multiple arguments \n",
    "def add(datatype, *args): \n",
    "   \n",
    "    # if datatype is int \n",
    "    # initialize answer as 0 \n",
    "    if datatype =='int': \n",
    "        answer = 0\n",
    "           \n",
    "    # if datatype is str \n",
    "    # initialize answer as '' \n",
    "    if datatype =='str': \n",
    "        answer ='' \n",
    "   \n",
    "    # Traverse through the arguments \n",
    "    for x in args: \n",
    "   \n",
    "        # This will do addition if the  \n",
    "        # arguments are int. Or concatenation  \n",
    "        # if the arguments are str \n",
    "        answer = answer + x \n",
    "   \n",
    "    print(answer) \n",
    "\n",
    "   \n",
    "\n",
    "add('int', 5, 6) \n",
    "   \n",
    "# String \n",
    "add('str', 'Hi ', 'Geeks') "
   ]
  }
 ],
 "metadata": {
  "kernelspec": {
   "display_name": "Python 3",
   "language": "python",
   "name": "python3"
  },
  "language_info": {
   "codemirror_mode": {
    "name": "ipython",
    "version": 3
   },
   "file_extension": ".py",
   "mimetype": "text/x-python",
   "name": "python",
   "nbconvert_exporter": "python",
   "pygments_lexer": "ipython3",
   "version": "3.8.5"
  }
 },
 "nbformat": 4,
 "nbformat_minor": 4
}
