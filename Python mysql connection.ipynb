{
 "cells": [
  {
   "cell_type": "markdown",
   "metadata": {},
   "source": [
    "Python with mysql DataBase"
   ]
  },
  {
   "cell_type": "code",
   "execution_count": 1,
   "metadata": {},
   "outputs": [],
   "source": [
    "import  mysql.connector #importing the package to connect with mysql server"
   ]
  },
  {
   "cell_type": "markdown",
   "metadata": {},
   "source": [
    "Connecting python with Database"
   ]
  },
  {
   "cell_type": "code",
   "execution_count": 6,
   "metadata": {
    "scrolled": true
   },
   "outputs": [
    {
     "name": "stdout",
     "output_type": "stream",
     "text": [
      "<class 'str'>\n",
      "<class 'str'>\n"
     ]
    }
   ],
   "source": [
    "for i in num:\n",
    "        print(type(i))\n",
    "            "
   ]
  },
  {
   "cell_type": "code",
   "execution_count": 11,
   "metadata": {},
   "outputs": [
    {
     "name": "stdout",
     "output_type": "stream",
     "text": [
      "get value in string format\n",
      "\n"
     ]
    }
   ],
   "source": []
  },
  {
   "cell_type": "code",
   "execution_count": 2,
   "metadata": {},
   "outputs": [
    {
     "name": "stdout",
     "output_type": "stream",
     "text": [
      "mysql database is connected successfully\n"
     ]
    }
   ],
   "source": [
    "try:\n",
    "    con=mysql.connector.connect(host=\"localhost\",user=\"root\",passwd=\"reddy77\") #we can create connection to the database \n",
    "    print(\"mysql database is connected successfully\")\n",
    "except mysql.connector.DatabaseError as db:                #if anything wrong init we can raise exception as well\n",
    "    print(\"something went wrong in db\",db)\n"
   ]
  },
  {
   "cell_type": "markdown",
   "metadata": {},
   "source": [
    "Drop Database in sql server"
   ]
  },
  {
   "cell_type": "code",
   "execution_count": 3,
   "metadata": {},
   "outputs": [
    {
     "name": "stdout",
     "output_type": "stream",
     "text": [
      "connected sucessfully\n",
      "Database  drop successfully in mysql\n"
     ]
    }
   ],
   "source": [
    "try:\n",
    "    con=mysql.connector.connect(host=\"localhost\",user=\"root\",passwd=\"reddy77\")\n",
    "    print(\"connected sucessfully\")\n",
    "    cur=con.cursor()                                      #creating the cursor\n",
    "    cur.execute(\"drop database shiash\")                 #drop the database in mysql server\n",
    "    print(\"Database  drop successfully in mysql\")\n",
    "except mysql.connnector.DatabaseError as db:\n",
    "    print(\"something went wrong in the connection\",db)"
   ]
  },
  {
   "cell_type": "markdown",
   "metadata": {},
   "source": [
    "Create Database in sql server"
   ]
  },
  {
   "cell_type": "code",
   "execution_count": 4,
   "metadata": {},
   "outputs": [
    {
     "name": "stdout",
     "output_type": "stream",
     "text": [
      "connected successfully \n",
      "Database created successufully\n"
     ]
    }
   ],
   "source": [
    "try:\n",
    "    con=mysql.connector.connect(host=\"localhost\",user=\"root\",passwd=\"reddy77\")\n",
    "    print(\"connected successfully \")\n",
    "    cur=con.cursor()\n",
    "    cur.execute(\"create database shiash\")  \n",
    "    print(\"Database created successufully\")\n",
    "except mysql.connector.DatabaseError as db:\n",
    "    print(\"something went wrong in the connection:\",db)"
   ]
  },
  {
   "cell_type": "markdown",
   "metadata": {},
   "source": [
    "Creating table in database"
   ]
  },
  {
   "cell_type": "code",
   "execution_count": 5,
   "metadata": {},
   "outputs": [
    {
     "name": "stdout",
     "output_type": "stream",
     "text": [
      "connected successfully\n",
      "table created successfully\n"
     ]
    }
   ],
   "source": [
    "try:\n",
    "    con=mysql.connector.connect(host=\"localhost\",user=\"root\",passwd=\"reddy77\",database=\"shiash\")\n",
    "    print(\"connected successfully\")\n",
    "    cur=con.cursor()\n",
    "    cur.execute(\"create table employee(sno int primary key,sname varchar(10) not null,salary float not null)\") #creating table in database\n",
    "    print(\"table created successfully\")\n",
    "except mysql.connector.DatabaseError as db:\n",
    "    print(\"something went wrong in database\",db)"
   ]
  },
  {
   "cell_type": "markdown",
   "metadata": {},
   "source": [
    "Enter values in to the table after enter the values we have use commit function as well if not values will not save in the table"
   ]
  },
  {
   "cell_type": "code",
   "execution_count": 6,
   "metadata": {},
   "outputs": [
    {
     "name": "stdout",
     "output_type": "stream",
     "text": [
      "connected successfully\n",
      "values entered sucessfully in to database\n"
     ]
    }
   ],
   "source": [
    "try:\n",
    "    con=mysql.connector.connect(host=\"localhost\",user=\"root\",passwd=\"reddy77\",database=\"shiash\")\n",
    "    print(\"connected successfully\")\n",
    "    cur=con.cursor()\n",
    "    cur.execute(\"insert into employee values(1,'reddy',5.7)\")\n",
    "    print(\"values entered sucessfully in to database\")\n",
    "    con.commit() #commit the database\n",
    "except mysql.connector.DatabaseError as db:\n",
    "    print(\"something went wrong in db\",db)"
   ]
  },
  {
   "cell_type": "markdown",
   "metadata": {},
   "source": [
    "Enter values in to database"
   ]
  },
  {
   "cell_type": "code",
   "execution_count": 7,
   "metadata": {},
   "outputs": [
    {
     "name": "stdout",
     "output_type": "stream",
     "text": [
      "Enter employee number:78\n",
      "Enter employee name:hel\n",
      "Enter employee salary:78.0\n",
      "values entered into table sucessfully\n",
      "Do you want to enter one more record (yes/no):no\n",
      "Thanks for using\n"
     ]
    }
   ],
   "source": [
    "\n",
    "while(True):  \n",
    "    try:\n",
    "        con=mysql.connector.connect(host=\"localhost\",user=\"root\",passwd=\"reddy77\",database=\"shiash\")\n",
    "        cur=con.cursor()\n",
    "        sno=int(input(\"Enter employee number:\"))\n",
    "        sname=input(\"Enter employee name:\")\n",
    "        salary=float(input(\"Enter employee salary:\"))\n",
    "        cur.execute(\"insert into employee values(%d,'%s',%f)\"%(sno,sname,salary))\n",
    "        print(\"values entered into table sucessfully\")\n",
    "        con.commit()\n",
    "        ch=input(\"Do you want to enter one more record (yes/no):\")\n",
    "        if (ch.lower()==\"no\"):\n",
    "            print(\"Thanks for using\")\n",
    "            break\n",
    "    except mysql.connector.DatabaseError as db:\n",
    "        print(\"something went wrong in db:\",db)  "
   ]
  },
  {
   "cell_type": "markdown",
   "metadata": {},
   "source": [
    "Delete record from table "
   ]
  },
  {
   "cell_type": "code",
   "execution_count": 8,
   "metadata": {},
   "outputs": [
    {
     "name": "stdout",
     "output_type": "stream",
     "text": [
      "connected successfully\n",
      "Enter id employee id:8\n",
      "Record is doesnot exists\n",
      "Do you want to delete one more (yes/no):3\n",
      "connected successfully\n",
      "Enter id employee id:3\n",
      "Record is doesnot exists\n",
      "Do you want to delete one more (yes/no):no\n",
      "Thanks for visting\n"
     ]
    }
   ],
   "source": [
    "while(True):    \n",
    "    try:\n",
    "        con=mysql.connector.connect(host=\"localhost\",user=\"root\",passwd=\"reddy77\",database=\"shiash\")\n",
    "        print(\"connected successfully\")\n",
    "        cur=con.cursor()\n",
    "        ID=int(input(\"Enter id employee id:\"))\n",
    "        cur.execute(\"delete from employee where sno=%d\"%(ID))\n",
    "        con.commit()\n",
    "        if (cur.rowcount>0):\n",
    "            print(\"{} Record delete successfully:\".format(cur.rowcount))\n",
    "        else:\n",
    "            print(\"Record is doesnot exists\")\n",
    "        ch=input(\"Do you want to delete one more (yes/no):\")\n",
    "        if ch.lower()==\"no\":\n",
    "            print(\"Thanks for visting\")\n",
    "            break\n",
    "    except mysql.connector.DatabaseError as db:\n",
    "        print(\"something went wrong in db:\",db)\n",
    "    except ValueError:\n",
    "        print(\"Dont str and alnums/symbols in it\")"
   ]
  },
  {
   "cell_type": "markdown",
   "metadata": {},
   "source": [
    "update value in table"
   ]
  },
  {
   "cell_type": "code",
   "execution_count": 9,
   "metadata": {},
   "outputs": [
    {
     "name": "stdout",
     "output_type": "stream",
     "text": [
      "Enter salary of the employee34.5\n",
      "Enter employee id:78\n",
      "1 record updated successfully\n",
      "Do you want to updated one more record(yes/no):no\n",
      "thanks for using \n"
     ]
    }
   ],
   "source": [
    "while(True):\n",
    "    try:\n",
    "        con=mysql.connector.connect(host=\"localhost\",user=\"root\",passwd=\"reddy77\",database=\"shiash\")\n",
    "        cur=con.cursor()\n",
    "        sal=float(input(\"Enter salary of the employee\"))\n",
    "        sno=int(input(\"Enter employee id:\"))\n",
    "        cur.execute(\"update employee set salary=%f where sno=%d\"%(sal,sno))\n",
    "        con.commit()\n",
    "        if (cur.rowcount>0):\n",
    "            print(\"{} record updated successfully\".format(cur.rowcount))\n",
    "        else:\n",
    "            print(\"Record does not exists\")\n",
    "        ch=input(\"Do you want to updated one more record(yes/no):\")\n",
    "        if (ch.lower()==\"no\"):\n",
    "            print(\"thanks for using \")\n",
    "            break\n",
    "    except ValueError:\n",
    "        print(\"Do not enter str/alnum/symbols\")\n",
    "    except mysql.connectorDatabaseError as db:\n",
    "        print(\"something went wrong in db:\",db)"
   ]
  },
  {
   "cell_type": "markdown",
   "metadata": {},
   "source": [
    "Display single record (first record)"
   ]
  },
  {
   "cell_type": "code",
   "execution_count": 14,
   "metadata": {},
   "outputs": [
    {
     "name": "stdout",
     "output_type": "stream",
     "text": [
      "connected successfully\n",
      "Enter table name:employee\n",
      "(1, 'reddy', 5.7)\n"
     ]
    }
   ],
   "source": [
    "try:\n",
    "    con=mysql.connector.connect(host=\"localhost\",user=\"root\",passwd=\"reddy77\",database=\"shiash\")\n",
    "    print(\"connected successfully\")\n",
    "    cur=con.cursor()\n",
    "    tname=input(\"Enter table name:\")\n",
    "    cur.execute(\"select * from %s\"%tname)\n",
    "    record=cur.fetchone()\n",
    "    print(record)\n",
    "except mysqlconnectorDatabaseError as db:\n",
    "    print(\"something went wrong in db:\",db)    "
   ]
  },
  {
   "cell_type": "markdown",
   "metadata": {},
   "source": [
    "Display multiple records"
   ]
  },
  {
   "cell_type": "code",
   "execution_count": 15,
   "metadata": {},
   "outputs": [
    {
     "name": "stdout",
     "output_type": "stream",
     "text": [
      "connected successfully\n",
      "Enter table name:employee\n",
      "Enter no of records to display:4\n",
      "[(1, 'reddy', 5.7), (78, 'hel', 34.5)]\n"
     ]
    }
   ],
   "source": [
    "try:\n",
    "    con=mysql.connector.connect(host=\"localhost\",user=\"root\",passwd=\"reddy77\",database=\"shiash\")\n",
    "    print(\"connected successfully\")\n",
    "    cur=con.cursor()\n",
    "    tname=input(\"Enter table name:\")\n",
    "    cur.execute(\"select * from %s\"%tname)\n",
    "    no=int(input(\"Enter no of records to display:\"))\n",
    "    record=cur.fetchmany(no)\n",
    "    print(record)\n",
    "except mysqlconnectorDatabaseError as db:\n",
    "    print(\"something went wrong in db:\",db)  "
   ]
  },
  {
   "cell_type": "markdown",
   "metadata": {},
   "source": [
    "Display the table "
   ]
  },
  {
   "cell_type": "code",
   "execution_count": 18,
   "metadata": {},
   "outputs": [
    {
     "name": "stdout",
     "output_type": "stream",
     "text": [
      "connected sucessfully\n",
      "Enter table name:employee\n",
      "sno\tsname\tsalary\t\n",
      "==================================================\n",
      "1\treddy\t5.7\t\n",
      "78\thel\t34.5\t\n",
      "==================================================\n"
     ]
    }
   ],
   "source": [
    "try:\n",
    "    con=mysql.connector.connect(host=\"localhost\",user=\"root\",passwd=\"reddy77\",database=\"shiash\")\n",
    "    print(\"connected sucessfully\")\n",
    "    cur=con.cursor()\n",
    "    tname=input(\"Enter table name:\")\n",
    "    cur.execute(\"select *from %s\"%tname)\n",
    "    colinfo=cur.description\n",
    "    for col in colinfo:\n",
    "        print(col[0],end=\"\\t\")\n",
    "    print()\n",
    "    print(\"=\"*50)\n",
    "    records=cur.fetchall()\n",
    "    for record in records:\n",
    "        for val in record:\n",
    "            print(val,end=\"\\t\")\n",
    "        print()\n",
    "    print(\"=\"*50)\n",
    "except mysqlconnectorDatabaseError as db:\n",
    "    print(\"something went wrong in db:\",db)  "
   ]
  },
  {
   "cell_type": "code",
   "execution_count": null,
   "metadata": {},
   "outputs": [],
   "source": []
  }
 ],
 "metadata": {
  "kernelspec": {
   "display_name": "Python 3",
   "language": "python",
   "name": "python3"
  },
  "language_info": {
   "codemirror_mode": {
    "name": "ipython",
    "version": 3
   },
   "file_extension": ".py",
   "mimetype": "text/x-python",
   "name": "python",
   "nbconvert_exporter": "python",
   "pygments_lexer": "ipython3",
   "version": "3.8.5"
  }
 },
 "nbformat": 4,
 "nbformat_minor": 5
}
